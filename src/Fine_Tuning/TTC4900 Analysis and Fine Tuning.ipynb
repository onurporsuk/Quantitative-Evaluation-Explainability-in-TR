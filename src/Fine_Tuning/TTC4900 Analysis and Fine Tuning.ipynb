{
 "cells": [
  {
   "cell_type": "markdown",
   "id": "ad62f6ce-6ad6-4697-84ac-f332f57d32d6",
   "metadata": {},
   "source": [
    "# Text Classification on TTC 4900"
   ]
  },
  {
   "cell_type": "markdown",
   "id": "410b0b9b-38ba-4959-b0be-6335eff33e5a",
   "metadata": {
    "jp-MarkdownHeadingCollapsed": true
   },
   "source": [
    "## Analyze and Preprocess Dataset"
   ]
  },
  {
   "cell_type": "code",
   "execution_count": 36,
   "id": "6f2501ae-2ebe-491c-addf-007eb5823f37",
   "metadata": {
    "collapsed": true,
    "execution": {
     "iopub.execute_input": "2024-01-20T14:52:13.855440Z",
     "iopub.status.busy": "2024-01-20T14:52:13.855440Z",
     "iopub.status.idle": "2024-01-20T14:52:16.039614Z",
     "shell.execute_reply": "2024-01-20T14:52:16.038616Z",
     "shell.execute_reply.started": "2024-01-20T14:52:13.855440Z"
    },
    "jupyter": {
     "outputs_hidden": true
    }
   },
   "outputs": [
    {
     "data": {
      "text/html": [
       "<div>\n",
       "<style scoped>\n",
       "    .dataframe tbody tr th:only-of-type {\n",
       "        vertical-align: middle;\n",
       "    }\n",
       "\n",
       "    .dataframe tbody tr th {\n",
       "        vertical-align: top;\n",
       "    }\n",
       "\n",
       "    .dataframe thead th {\n",
       "        text-align: right;\n",
       "    }\n",
       "</style>\n",
       "<table border=\"1\" class=\"dataframe\">\n",
       "  <thead>\n",
       "    <tr style=\"text-align: right;\">\n",
       "      <th></th>\n",
       "      <th>text</th>\n",
       "      <th>label</th>\n",
       "    </tr>\n",
       "  </thead>\n",
       "  <tbody>\n",
       "    <tr>\n",
       "      <th>0</th>\n",
       "      <td>3 milyon ile ön seçim vaadi mhp nin 10 olağan...</td>\n",
       "      <td>0</td>\n",
       "    </tr>\n",
       "    <tr>\n",
       "      <th>1</th>\n",
       "      <td>mesut_yılmaz yüce_divan da ceza alabilirdi pr...</td>\n",
       "      <td>0</td>\n",
       "    </tr>\n",
       "    <tr>\n",
       "      <th>2</th>\n",
       "      <td>disko lar kaldırılıyor başbakan_yardımcısı ar...</td>\n",
       "      <td>0</td>\n",
       "    </tr>\n",
       "    <tr>\n",
       "      <th>3</th>\n",
       "      <td>sarıgül anayasa_mahkemesi ne gidiyor mustafa_...</td>\n",
       "      <td>0</td>\n",
       "    </tr>\n",
       "    <tr>\n",
       "      <th>4</th>\n",
       "      <td>erdoğan idamın bir haklılık sebebi var demek ...</td>\n",
       "      <td>0</td>\n",
       "    </tr>\n",
       "    <tr>\n",
       "      <th>...</th>\n",
       "      <td>...</td>\n",
       "      <td>...</td>\n",
       "    </tr>\n",
       "    <tr>\n",
       "      <th>4895</th>\n",
       "      <td>iphone lara geri dönüyor ios 6 sürümüyle tele...</td>\n",
       "      <td>6</td>\n",
       "    </tr>\n",
       "    <tr>\n",
       "      <th>4896</th>\n",
       "      <td>muslukta devrim sadece elimizi yıkadığımız mu...</td>\n",
       "      <td>6</td>\n",
       "    </tr>\n",
       "    <tr>\n",
       "      <th>4897</th>\n",
       "      <td>halka iyi anlatılmalı bilgi_teknolojileri ile...</td>\n",
       "      <td>6</td>\n",
       "    </tr>\n",
       "    <tr>\n",
       "      <th>4898</th>\n",
       "      <td>çöpe gidiyorlar apple 775 bin uygulamayla app...</td>\n",
       "      <td>6</td>\n",
       "    </tr>\n",
       "    <tr>\n",
       "      <th>4899</th>\n",
       "      <td>google bu kez edward_gorey dedi ! google bu k...</td>\n",
       "      <td>6</td>\n",
       "    </tr>\n",
       "  </tbody>\n",
       "</table>\n",
       "<p>4900 rows × 2 columns</p>\n",
       "</div>"
      ],
      "text/plain": [
       "                                                   text  label\n",
       "0      3 milyon ile ön seçim vaadi mhp nin 10 olağan...      0\n",
       "1      mesut_yılmaz yüce_divan da ceza alabilirdi pr...      0\n",
       "2      disko lar kaldırılıyor başbakan_yardımcısı ar...      0\n",
       "3      sarıgül anayasa_mahkemesi ne gidiyor mustafa_...      0\n",
       "4      erdoğan idamın bir haklılık sebebi var demek ...      0\n",
       "...                                                 ...    ...\n",
       "4895   iphone lara geri dönüyor ios 6 sürümüyle tele...      6\n",
       "4896   muslukta devrim sadece elimizi yıkadığımız mu...      6\n",
       "4897   halka iyi anlatılmalı bilgi_teknolojileri ile...      6\n",
       "4898   çöpe gidiyorlar apple 775 bin uygulamayla app...      6\n",
       "4899   google bu kez edward_gorey dedi ! google bu k...      6\n",
       "\n",
       "[4900 rows x 2 columns]"
      ]
     },
     "metadata": {},
     "output_type": "display_data"
    }
   ],
   "source": [
    "from datasets import load_dataset\n",
    "import pandas as pd\n",
    "\n",
    "ttc4900 = load_dataset(\"ttc4900\")\n",
    "\n",
    "# There is only 'train' set in the data\n",
    "ttc4900 = pd.DataFrame(ttc4900['train'])\n",
    "\n",
    "ttc4900 = ttc4900.rename(columns={'category': 'label'})\n",
    "\n",
    "# Change order of columns\n",
    "ttc4900 = ttc4900[['text', 'label']]\n",
    "\n",
    "display(ttc4900)"
   ]
  },
  {
   "cell_type": "code",
   "execution_count": 33,
   "id": "dcd59ebc-0573-46de-b0bf-1f3aa53adc02",
   "metadata": {
    "execution": {
     "iopub.execute_input": "2024-01-20T14:49:46.755326Z",
     "iopub.status.busy": "2024-01-20T14:49:46.754319Z",
     "iopub.status.idle": "2024-01-20T14:49:56.069626Z",
     "shell.execute_reply": "2024-01-20T14:49:56.068627Z",
     "shell.execute_reply.started": "2024-01-20T14:49:46.755326Z"
    }
   },
   "outputs": [
    {
     "name": "stdout",
     "output_type": "stream",
     "text": [
      "Analysis of TTC 4900 Dataset\n"
     ]
    },
    {
     "data": {
      "image/png": "[encoded data removed]",
      "text/plain": [
       "<Figure size 500x400 with 1 Axes>"
      ]
     },
     "metadata": {},
     "output_type": "display_data"
    },
    {
     "name": "stdout",
     "output_type": "stream",
     "text": [
      "\n",
      "Statistical measures for input text (character-level):\n",
      "\n"
     ]
    },
    {
     "data": {
      "text/html": [
       "<div>\n",
       "<style scoped>\n",
       "    .dataframe tbody tr th:only-of-type {\n",
       "        vertical-align: middle;\n",
       "    }\n",
       "\n",
       "    .dataframe tbody tr th {\n",
       "        vertical-align: top;\n",
       "    }\n",
       "\n",
       "    .dataframe thead th {\n",
       "        text-align: right;\n",
       "    }\n",
       "</style>\n",
       "<table border=\"1\" class=\"dataframe\">\n",
       "  <thead>\n",
       "    <tr style=\"text-align: right;\">\n",
       "      <th></th>\n",
       "      <th>text</th>\n",
       "    </tr>\n",
       "  </thead>\n",
       "  <tbody>\n",
       "    <tr>\n",
       "      <th>count</th>\n",
       "      <td>4900.00</td>\n",
       "    </tr>\n",
       "    <tr>\n",
       "      <th>mean</th>\n",
       "      <td>1973.29</td>\n",
       "    </tr>\n",
       "    <tr>\n",
       "      <th>std</th>\n",
       "      <td>1551.70</td>\n",
       "    </tr>\n",
       "    <tr>\n",
       "      <th>min</th>\n",
       "      <td>72.00</td>\n",
       "    </tr>\n",
       "    <tr>\n",
       "      <th>25%</th>\n",
       "      <td>911.75</td>\n",
       "    </tr>\n",
       "    <tr>\n",
       "      <th>50%</th>\n",
       "      <td>1516.00</td>\n",
       "    </tr>\n",
       "    <tr>\n",
       "      <th>75%</th>\n",
       "      <td>2601.00</td>\n",
       "    </tr>\n",
       "    <tr>\n",
       "      <th>max</th>\n",
       "      <td>19383.00</td>\n",
       "    </tr>\n",
       "  </tbody>\n",
       "</table>\n",
       "</div>"
      ],
      "text/plain": [
       "           text\n",
       "count   4900.00\n",
       "mean    1973.29\n",
       "std     1551.70\n",
       "min       72.00\n",
       "25%      911.75\n",
       "50%     1516.00\n",
       "75%     2601.00\n",
       "max    19383.00"
      ]
     },
     "metadata": {},
     "output_type": "display_data"
    },
    {
     "data": {
      "image/png": "[encoded data removed]",
      "text/plain": [
       "<Figure size 800x500 with 1 Axes>"
      ]
     },
     "metadata": {},
     "output_type": "display_data"
    },
    {
     "name": "stdout",
     "output_type": "stream",
     "text": [
      "Statistical measures for input text (word-level):\n",
      "\n"
     ]
    },
    {
     "data": {
      "text/html": [
       "<div>\n",
       "<style scoped>\n",
       "    .dataframe tbody tr th:only-of-type {\n",
       "        vertical-align: middle;\n",
       "    }\n",
       "\n",
       "    .dataframe tbody tr th {\n",
       "        vertical-align: top;\n",
       "    }\n",
       "\n",
       "    .dataframe thead th {\n",
       "        text-align: right;\n",
       "    }\n",
       "</style>\n",
       "<table border=\"1\" class=\"dataframe\">\n",
       "  <thead>\n",
       "    <tr style=\"text-align: right;\">\n",
       "      <th></th>\n",
       "      <th>text</th>\n",
       "    </tr>\n",
       "  </thead>\n",
       "  <tbody>\n",
       "    <tr>\n",
       "      <th>count</th>\n",
       "      <td>4900.00</td>\n",
       "    </tr>\n",
       "    <tr>\n",
       "      <th>mean</th>\n",
       "      <td>268.70</td>\n",
       "    </tr>\n",
       "    <tr>\n",
       "      <th>std</th>\n",
       "      <td>211.98</td>\n",
       "    </tr>\n",
       "    <tr>\n",
       "      <th>min</th>\n",
       "      <td>8.00</td>\n",
       "    </tr>\n",
       "    <tr>\n",
       "      <th>25%</th>\n",
       "      <td>124.00</td>\n",
       "    </tr>\n",
       "    <tr>\n",
       "      <th>50%</th>\n",
       "      <td>206.50</td>\n",
       "    </tr>\n",
       "    <tr>\n",
       "      <th>75%</th>\n",
       "      <td>352.00</td>\n",
       "    </tr>\n",
       "    <tr>\n",
       "      <th>max</th>\n",
       "      <td>2711.00</td>\n",
       "    </tr>\n",
       "  </tbody>\n",
       "</table>\n",
       "</div>"
      ],
      "text/plain": [
       "          text\n",
       "count  4900.00\n",
       "mean    268.70\n",
       "std     211.98\n",
       "min       8.00\n",
       "25%     124.00\n",
       "50%     206.50\n",
       "75%     352.00\n",
       "max    2711.00"
      ]
     },
     "metadata": {},
     "output_type": "display_data"
    },
    {
     "data": {
      "image/png": "[encoded data removed]",
      "text/plain": [
       "<Figure size 800x500 with 1 Axes>"
      ]
     },
     "metadata": {},
     "output_type": "display_data"
    }
   ],
   "source": [
    "import sys\n",
    "sys.path.append(\"..\")\n",
    "\n",
    "from utils import analyze_dataset \n",
    "\n",
    "analyze_dataset(ttc4900, \n",
    "                (5, 4), (8, 4), (8, 4), \n",
    "                0.1, 0.09,\n",
    "                0.1, 0.09,\n",
    "                'skyblue', 'TTC 4900')"
   ]
  },
  {
   "cell_type": "code",
   "execution_count": 37,
   "id": "e7f83663-d2b0-4df2-9af7-805693910a8b",
   "metadata": {
    "execution": {
     "iopub.execute_input": "2024-01-20T14:52:23.483043Z",
     "iopub.status.busy": "2024-01-20T14:52:23.482047Z",
     "iopub.status.idle": "2024-01-20T14:52:23.671531Z",
     "shell.execute_reply": "2024-01-20T14:52:23.670437Z",
     "shell.execute_reply.started": "2024-01-20T14:52:23.483043Z"
    }
   },
   "outputs": [],
   "source": [
    "# ttc4900.to_csv(\"../Data/TTC_4900/ttc4900.csv\", index=False)"
   ]
  },
  {
   "cell_type": "markdown",
   "id": "b3afd1df-8c48-4a0e-a8a4-7983ef3336b2",
   "metadata": {},
   "source": [
    "## Fine Tune"
   ]
  },
  {
   "cell_type": "code",
   "execution_count": 1,
   "id": "b813ffd2-0b27-450e-826a-e5b0596840ad",
   "metadata": {
    "execution": {
     "iopub.execute_input": "2024-01-28T16:57:24.323890Z",
     "iopub.status.busy": "2024-01-28T16:57:24.323890Z",
     "iopub.status.idle": "2024-01-28T16:57:27.718797Z",
     "shell.execute_reply": "2024-01-28T16:57:27.717802Z",
     "shell.execute_reply.started": "2024-01-28T16:57:24.323890Z"
    }
   },
   "outputs": [],
   "source": [
    "import torch\n",
    "import pandas as pd\n",
    "\n",
    "device = torch.device(\"cuda\") if torch.cuda.is_available() else torch.device(\"cpu\")"
   ]
  },
  {
   "cell_type": "markdown",
   "id": "7b7f6d34-209b-4d0a-8638-b26aad53b6dc",
   "metadata": {
    "jp-MarkdownHeadingCollapsed": true
   },
   "source": [
    "### Preprocess Dataset"
   ]
  },
  {
   "cell_type": "code",
   "execution_count": 1,
   "id": "20a243b1-ed18-4b63-9338-9e0d7705b100",
   "metadata": {
    "execution": {
     "iopub.execute_input": "2024-01-27T10:10:33.585794Z",
     "iopub.status.busy": "2024-01-27T10:10:33.584797Z",
     "iopub.status.idle": "2024-01-27T10:10:35.642147Z",
     "shell.execute_reply": "2024-01-27T10:10:35.641143Z",
     "shell.execute_reply.started": "2024-01-27T10:10:33.585794Z"
    }
   },
   "outputs": [
    {
     "data": {
      "text/html": [
       "<div>\n",
       "<style scoped>\n",
       "    .dataframe tbody tr th:only-of-type {\n",
       "        vertical-align: middle;\n",
       "    }\n",
       "\n",
       "    .dataframe tbody tr th {\n",
       "        vertical-align: top;\n",
       "    }\n",
       "\n",
       "    .dataframe thead th {\n",
       "        text-align: right;\n",
       "    }\n",
       "</style>\n",
       "<table border=\"1\" class=\"dataframe\">\n",
       "  <thead>\n",
       "    <tr style=\"text-align: right;\">\n",
       "      <th></th>\n",
       "      <th>text</th>\n",
       "      <th>label</th>\n",
       "    </tr>\n",
       "  </thead>\n",
       "  <tbody>\n",
       "    <tr>\n",
       "      <th>0</th>\n",
       "      <td>3 milyon ile ön seçim vaadi mhp nin 10 olağan...</td>\n",
       "      <td>0</td>\n",
       "    </tr>\n",
       "    <tr>\n",
       "      <th>1</th>\n",
       "      <td>mesut_yılmaz yüce_divan da ceza alabilirdi pr...</td>\n",
       "      <td>0</td>\n",
       "    </tr>\n",
       "    <tr>\n",
       "      <th>2</th>\n",
       "      <td>disko lar kaldırılıyor başbakan_yardımcısı ar...</td>\n",
       "      <td>0</td>\n",
       "    </tr>\n",
       "    <tr>\n",
       "      <th>3</th>\n",
       "      <td>sarıgül anayasa_mahkemesi ne gidiyor mustafa_...</td>\n",
       "      <td>0</td>\n",
       "    </tr>\n",
       "    <tr>\n",
       "      <th>4</th>\n",
       "      <td>erdoğan idamın bir haklılık sebebi var demek ...</td>\n",
       "      <td>0</td>\n",
       "    </tr>\n",
       "    <tr>\n",
       "      <th>...</th>\n",
       "      <td>...</td>\n",
       "      <td>...</td>\n",
       "    </tr>\n",
       "    <tr>\n",
       "      <th>4895</th>\n",
       "      <td>iphone lara geri dönüyor ios 6 sürümüyle tele...</td>\n",
       "      <td>6</td>\n",
       "    </tr>\n",
       "    <tr>\n",
       "      <th>4896</th>\n",
       "      <td>muslukta devrim sadece elimizi yıkadığımız mu...</td>\n",
       "      <td>6</td>\n",
       "    </tr>\n",
       "    <tr>\n",
       "      <th>4897</th>\n",
       "      <td>halka iyi anlatılmalı bilgi_teknolojileri ile...</td>\n",
       "      <td>6</td>\n",
       "    </tr>\n",
       "    <tr>\n",
       "      <th>4898</th>\n",
       "      <td>çöpe gidiyorlar apple 775 bin uygulamayla app...</td>\n",
       "      <td>6</td>\n",
       "    </tr>\n",
       "    <tr>\n",
       "      <th>4899</th>\n",
       "      <td>google bu kez edward_gorey dedi ! google bu k...</td>\n",
       "      <td>6</td>\n",
       "    </tr>\n",
       "  </tbody>\n",
       "</table>\n",
       "<p>4900 rows × 2 columns</p>\n",
       "</div>"
      ],
      "text/plain": [
       "                                                   text  label\n",
       "0      3 milyon ile ön seçim vaadi mhp nin 10 olağan...      0\n",
       "1      mesut_yılmaz yüce_divan da ceza alabilirdi pr...      0\n",
       "2      disko lar kaldırılıyor başbakan_yardımcısı ar...      0\n",
       "3      sarıgül anayasa_mahkemesi ne gidiyor mustafa_...      0\n",
       "4      erdoğan idamın bir haklılık sebebi var demek ...      0\n",
       "...                                                 ...    ...\n",
       "4895   iphone lara geri dönüyor ios 6 sürümüyle tele...      6\n",
       "4896   muslukta devrim sadece elimizi yıkadığımız mu...      6\n",
       "4897   halka iyi anlatılmalı bilgi_teknolojileri ile...      6\n",
       "4898   çöpe gidiyorlar apple 775 bin uygulamayla app...      6\n",
       "4899   google bu kez edward_gorey dedi ! google bu k...      6\n",
       "\n",
       "[4900 rows x 2 columns]"
      ]
     },
     "metadata": {},
     "output_type": "display_data"
    }
   ],
   "source": [
    "# ttc4900 = pd.read_csv(\"../Data/TTC_4900/ttc4900.csv\")\n",
    "# display(ttc4900)"
   ]
  },
  {
   "cell_type": "code",
   "execution_count": 2,
   "id": "be4b0692-f44b-45d5-aa58-571f25bc9a81",
   "metadata": {
    "execution": {
     "iopub.execute_input": "2024-01-27T10:10:50.332650Z",
     "iopub.status.busy": "2024-01-27T10:10:50.331652Z",
     "iopub.status.idle": "2024-01-27T10:10:50.349103Z",
     "shell.execute_reply": "2024-01-27T10:10:50.348106Z",
     "shell.execute_reply.started": "2024-01-27T10:10:50.331652Z"
    }
   },
   "outputs": [
    {
     "data": {
      "text/html": [
       "<div>\n",
       "<style scoped>\n",
       "    .dataframe tbody tr th:only-of-type {\n",
       "        vertical-align: middle;\n",
       "    }\n",
       "\n",
       "    .dataframe tbody tr th {\n",
       "        vertical-align: top;\n",
       "    }\n",
       "\n",
       "    .dataframe thead th {\n",
       "        text-align: right;\n",
       "    }\n",
       "</style>\n",
       "<table border=\"1\" class=\"dataframe\">\n",
       "  <thead>\n",
       "    <tr style=\"text-align: right;\">\n",
       "      <th></th>\n",
       "      <th>text</th>\n",
       "      <th>label</th>\n",
       "    </tr>\n",
       "  </thead>\n",
       "  <tbody>\n",
       "    <tr>\n",
       "      <th>0</th>\n",
       "      <td>acıların kedisi sam çatık kaşlı kedi sam in i...</td>\n",
       "      <td>6</td>\n",
       "    </tr>\n",
       "    <tr>\n",
       "      <th>1</th>\n",
       "      <td>g saray a git santos van_persie den forma ala...</td>\n",
       "      <td>5</td>\n",
       "    </tr>\n",
       "    <tr>\n",
       "      <th>2</th>\n",
       "      <td>endonezya da çatışmalar 14 ölü endonezya da i...</td>\n",
       "      <td>1</td>\n",
       "    </tr>\n",
       "    <tr>\n",
       "      <th>3</th>\n",
       "      <td>emniyetten polis logolu virüs uyarısı telefon...</td>\n",
       "      <td>6</td>\n",
       "    </tr>\n",
       "    <tr>\n",
       "      <th>4</th>\n",
       "      <td>beni türk yapın cristian_baroni yıldırım dan ...</td>\n",
       "      <td>5</td>\n",
       "    </tr>\n",
       "    <tr>\n",
       "      <th>...</th>\n",
       "      <td>...</td>\n",
       "      <td>...</td>\n",
       "    </tr>\n",
       "    <tr>\n",
       "      <th>4895</th>\n",
       "      <td>kuantum bilgisayarlar için dev adım amerikalı...</td>\n",
       "      <td>6</td>\n",
       "    </tr>\n",
       "    <tr>\n",
       "      <th>4896</th>\n",
       "      <td>koç tan kürt sorunu ile ilgili önemli açıklam...</td>\n",
       "      <td>0</td>\n",
       "    </tr>\n",
       "    <tr>\n",
       "      <th>4897</th>\n",
       "      <td>her yıl 125 bin bebek prematüre doğuyor türki...</td>\n",
       "      <td>4</td>\n",
       "    </tr>\n",
       "    <tr>\n",
       "      <th>4898</th>\n",
       "      <td>g saray da borç alacak farkı büyük ! galatasa...</td>\n",
       "      <td>5</td>\n",
       "    </tr>\n",
       "    <tr>\n",
       "      <th>4899</th>\n",
       "      <td>fas a 1 25 milyar dolar yardım suudi_arabista...</td>\n",
       "      <td>1</td>\n",
       "    </tr>\n",
       "  </tbody>\n",
       "</table>\n",
       "<p>4900 rows × 2 columns</p>\n",
       "</div>"
      ],
      "text/plain": [
       "                                                   text  label\n",
       "0      acıların kedisi sam çatık kaşlı kedi sam in i...      6\n",
       "1      g saray a git santos van_persie den forma ala...      5\n",
       "2      endonezya da çatışmalar 14 ölü endonezya da i...      1\n",
       "3      emniyetten polis logolu virüs uyarısı telefon...      6\n",
       "4      beni türk yapın cristian_baroni yıldırım dan ...      5\n",
       "...                                                 ...    ...\n",
       "4895   kuantum bilgisayarlar için dev adım amerikalı...      6\n",
       "4896   koç tan kürt sorunu ile ilgili önemli açıklam...      0\n",
       "4897   her yıl 125 bin bebek prematüre doğuyor türki...      4\n",
       "4898   g saray da borç alacak farkı büyük ! galatasa...      5\n",
       "4899   fas a 1 25 milyar dolar yardım suudi_arabista...      1\n",
       "\n",
       "[4900 rows x 2 columns]"
      ]
     },
     "metadata": {},
     "output_type": "display_data"
    }
   ],
   "source": [
    "# # Shuffle dataset\n",
    "# ttc4900 = ttc4900.sample(frac=1, random_state=42).reset_index(drop=True)\n",
    "# display(ttc4900)"
   ]
  },
  {
   "cell_type": "code",
   "execution_count": 2,
   "id": "ba52cf1a-61f7-4bca-b2fa-4db869d6b017",
   "metadata": {
    "execution": {
     "iopub.execute_input": "2024-01-28T16:57:27.727769Z",
     "iopub.status.busy": "2024-01-28T16:57:27.727769Z",
     "iopub.status.idle": "2024-01-28T16:57:27.748442Z",
     "shell.execute_reply": "2024-01-28T16:57:27.747446Z",
     "shell.execute_reply.started": "2024-01-28T16:57:27.727769Z"
    }
   },
   "outputs": [
    {
     "name": "stdout",
     "output_type": "stream",
     "text": [
      "{0: 'siyaset', 1: 'dunya', 2: 'ekonomi', 3: 'kultur', 4: 'saglik', 5: 'spor', 6: 'teknoloji'}\n",
      "{'siyaset': 0, 'dunya': 1, 'ekonomi': 2, 'kultur': 3, 'saglik': 4, 'spor': 5, 'teknoloji': 6}\n"
     ]
    }
   ],
   "source": [
    "text_labels = [\"siyaset\", \"dunya\", \"ekonomi\", \"kultur\", \"saglik\", \"spor\", \"teknoloji\"]\n",
    "num_labels = len(text_labels)\n",
    "\n",
    "id2label = {index:label for index, label in enumerate(text_labels)}\n",
    "label2id = {label:index for index, label in enumerate(text_labels)}\n",
    "\n",
    "print(id2label, label2id, sep=\"\\n\")"
   ]
  },
  {
   "cell_type": "code",
   "execution_count": 9,
   "id": "30f63cde-ec0b-4aba-ba33-a0537c444a8e",
   "metadata": {
    "execution": {
     "iopub.execute_input": "2024-01-20T11:53:50.762620Z",
     "iopub.status.busy": "2024-01-20T11:53:50.761666Z",
     "iopub.status.idle": "2024-01-20T11:53:51.364742Z",
     "shell.execute_reply": "2024-01-20T11:53:51.364742Z",
     "shell.execute_reply.started": "2024-01-20T11:53:50.762620Z"
    }
   },
   "outputs": [
    {
     "name": "stdout",
     "output_type": "stream",
     "text": [
      "Train set shape      : 3430 3430\n",
      "Validation set shape : 735 735\n",
      "Test set shape       : 735 735\n"
     ]
    }
   ],
   "source": [
    "# from sklearn.model_selection import train_test_split\n",
    "\n",
    "# # Train %70, Val %15 and Test %15\n",
    "\n",
    "# train_set, test_set = train_test_split(ttc4900, test_size=0.3, random_state=42)\n",
    "# val_set, test_set = train_test_split(test_set, test_size=0.5, random_state=42)\n",
    "\n",
    "# X_train = train_set['text'].tolist()\n",
    "# y_train = train_set['label'].tolist()\n",
    "\n",
    "# X_val = val_set['text'].tolist()\n",
    "# y_val = val_set['label'].tolist()\n",
    "\n",
    "# X_test = test_set['text'].tolist()\n",
    "# y_test = test_set['label'].tolist()\n",
    "\n",
    "# print(\"Train set shape      :\", len(X_train), len(y_train))\n",
    "# print(\"Validation set shape :\", len(X_val), len(y_val))\n",
    "# print(\"Test set shape       :\", len(X_test), len(y_test))\n",
    "\n",
    "# train_set.to_csv(\"../Data/TTC_4900/ttc4900_train.csv\", index=False)\n",
    "# val_set.to_csv(\"../Data/TTC_4900/ttc4900_val.csv\", index=False)\n",
    "# test_set.to_csv(\"../Data/TTC_4900/ttc4900_test.csv\", index=False)"
   ]
  },
  {
   "cell_type": "code",
   "execution_count": 3,
   "id": "40704e68-a29c-4cfc-ad11-29bb70296991",
   "metadata": {
    "execution": {
     "iopub.execute_input": "2024-01-28T16:57:27.751435Z",
     "iopub.status.busy": "2024-01-28T16:57:27.749440Z",
     "iopub.status.idle": "2024-01-28T16:57:27.934972Z",
     "shell.execute_reply": "2024-01-28T16:57:27.934972Z",
     "shell.execute_reply.started": "2024-01-28T16:57:27.751435Z"
    }
   },
   "outputs": [
    {
     "name": "stdout",
     "output_type": "stream",
     "text": [
      "Train set shape      : 3430 3430\n",
      "Validation set shape : 735 735\n",
      "Test set shape       : 735 735\n"
     ]
    }
   ],
   "source": [
    "train_set = pd.read_csv(\"../Data/TTC_4900/ttc4900_train.csv\")\n",
    "val_set = pd.read_csv(\"../Data/TTC_4900/ttc4900_val.csv\")\n",
    "test_set = pd.read_csv(\"../Data/TTC_4900/ttc4900_test.csv\")\n",
    "\n",
    "X_train = train_set['text'].tolist()\n",
    "y_train = train_set['label'].tolist()\n",
    "\n",
    "X_val = val_set['text'].tolist()\n",
    "y_val = val_set['label'].tolist()\n",
    "\n",
    "X_test = test_set['text'].tolist()\n",
    "y_test = test_set['label'].tolist()\n",
    "\n",
    "print(\"Train set shape      :\", len(X_train), len(y_train))\n",
    "print(\"Validation set shape :\", len(X_val), len(y_val))\n",
    "print(\"Test set shape       :\", len(X_test), len(y_test))"
   ]
  },
  {
   "cell_type": "markdown",
   "id": "7749f678-6bb5-4530-ab65-76ff02ef3705",
   "metadata": {
    "jp-MarkdownHeadingCollapsed": true
   },
   "source": [
    "### Prepare Training"
   ]
  },
  {
   "cell_type": "code",
   "execution_count": 4,
   "id": "f50c9167-ac91-47ff-9f54-fc254c27f13d",
   "metadata": {
    "execution": {
     "iopub.execute_input": "2024-01-28T16:57:29.324387Z",
     "iopub.status.busy": "2024-01-28T16:57:29.323391Z",
     "iopub.status.idle": "2024-01-28T16:57:31.495960Z",
     "shell.execute_reply": "2024-01-28T16:57:31.495960Z",
     "shell.execute_reply.started": "2024-01-28T16:57:29.324387Z"
    }
   },
   "outputs": [],
   "source": [
    "from transformers import TrainingArguments, Trainer\n",
    "from sklearn.metrics import accuracy_score, precision_recall_fscore_support\n",
    "import warnings\n",
    "warnings.filterwarnings(\"ignore\", category=FutureWarning)\n",
    "\n",
    "\n",
    "def compute_metrics(preds): \n",
    "    \n",
    "    labels = preds.label_ids \n",
    "    preds = preds.predictions.argmax(-1) \n",
    "    precision, recall, f1, _ = precision_recall_fscore_support(labels, preds, average='macro') \n",
    "    acc = accuracy_score(labels, preds) \n",
    "    \n",
    "    return { \n",
    "        'Accuracy': acc, \n",
    "        'F1': f1, \n",
    "        'Precision': precision, \n",
    "        'Recall': recall \n",
    "    }\n",
    "\n",
    "\n",
    "def predict(model, tokenizer, text):\n",
    "    \n",
    "    inputs = tokenizer(text, padding=True, truncation=True, return_tensors=\"pt\").to(device)\n",
    "    outputs = model(**inputs)\n",
    "    probs = outputs[0].softmax(1)\n",
    "    \n",
    "    return probs, probs.argmax(), model.config.id2label[probs.argmax().item()]"
   ]
  },
  {
   "cell_type": "markdown",
   "id": "a3f090b4-9e0a-409a-90fe-5531528217c7",
   "metadata": {
    "jp-MarkdownHeadingCollapsed": true
   },
   "source": [
    "### BERTTurk"
   ]
  },
  {
   "cell_type": "code",
   "execution_count": 7,
   "id": "5e956e05-a9b3-4016-a9b3-486f7fd979a4",
   "metadata": {
    "execution": {
     "iopub.execute_input": "2024-01-20T11:53:47.778115Z",
     "iopub.status.busy": "2024-01-20T11:53:47.778115Z",
     "iopub.status.idle": "2024-01-20T11:53:48.897684Z",
     "shell.execute_reply": "2024-01-20T11:53:48.896792Z",
     "shell.execute_reply.started": "2024-01-20T11:53:47.778115Z"
    }
   },
   "outputs": [],
   "source": [
    "from transformers import BertTokenizerFast, BertForSequenceClassification\n",
    "\n",
    "tokenizer_bert = BertTokenizerFast.from_pretrained(\"dbmdz/bert-base-turkish-uncased\", max_length=512)\n",
    "model_bert = BertForSequenceClassification.from_pretrained(\"dbmdz/bert-base-turkish-uncased\", num_labels=num_labels, id2label=id2label, label2id=label2id).to(device)"
   ]
  },
  {
   "cell_type": "code",
   "execution_count": 10,
   "id": "3335d125-0fd9-4b85-97a5-5cd3200be4fb",
   "metadata": {
    "execution": {
     "iopub.execute_input": "2024-01-20T11:53:51.365710Z",
     "iopub.status.busy": "2024-01-20T11:53:51.365710Z",
     "iopub.status.idle": "2024-01-20T11:53:52.150381Z",
     "shell.execute_reply": "2024-01-20T11:53:52.150381Z",
     "shell.execute_reply.started": "2024-01-20T11:53:51.365710Z"
    }
   },
   "outputs": [],
   "source": [
    "train_encodings = tokenizer_bert(X_train, truncation=True, padding=True)\n",
    "val_encodings  = tokenizer_bert(X_val, truncation=True, padding=True)\n",
    "test_encodings = tokenizer_bert(X_test, truncation=True, padding=True)\n",
    "\n",
    "from torch.utils.data import Dataset\n",
    "\n",
    "class MyDataset(Dataset):\n",
    "    \n",
    "    def __init__(self, encodings, labels):\n",
    "        self.encodings = encodings\n",
    "        self.labels = labels\n",
    "        \n",
    "    def __getitem__(self, idx):\n",
    "        item = {key: torch.tensor(val[idx]) for key, val in self.encodings.items()}\n",
    "        item['labels'] = torch.tensor(self.labels[idx])\n",
    "        return item\n",
    "        \n",
    "    def __len__(self):\n",
    "        return len(self.labels)\n",
    "\n",
    "train_dataset = MyDataset(train_encodings, y_train)\n",
    "val_dataset = MyDataset(val_encodings, y_val)\n",
    "test_dataset = MyDataset(test_encodings, y_test)"
   ]
  },
  {
   "cell_type": "markdown",
   "id": "620027bd-84bf-46cb-92d2-2ee57138e17d",
   "metadata": {},
   "source": [
    "#### Train"
   ]
  },
  {
   "cell_type": "code",
   "execution_count": 13,
   "id": "b66b958f-ee2f-4f8f-acc4-2c4639c04d85",
   "metadata": {
    "execution": {
     "iopub.execute_input": "2024-01-20T11:53:52.587115Z",
     "iopub.status.busy": "2024-01-20T11:53:52.587115Z",
     "iopub.status.idle": "2024-01-20T11:53:52.633965Z",
     "shell.execute_reply": "2024-01-20T11:53:52.633965Z",
     "shell.execute_reply.started": "2024-01-20T11:53:52.587115Z"
    }
   },
   "outputs": [],
   "source": [
    "training_args = TrainingArguments(\n",
    "    output_dir='../Output/', \n",
    "    do_train=True,\n",
    "    do_eval=True,\n",
    "    num_train_epochs=3,              \n",
    "    per_device_train_batch_size=16,  \n",
    "    per_device_eval_batch_size=32,\n",
    "    warmup_steps=100,                \n",
    "    weight_decay=0.01,\n",
    "    logging_strategy='steps',              \n",
    "    logging_dir='../Output/BERT_Logs',            \n",
    "    logging_steps=100,\n",
    "    evaluation_strategy=\"steps\",\n",
    "    eval_steps=100,\n",
    "    save_strategy=\"steps\",\n",
    "    save_steps=100,\n",
    "    fp16=True,\n",
    "    load_best_model_at_end=True\n",
    ")\n",
    "\n",
    "trainer_bert = Trainer(\n",
    "    model=model_bert,                    \n",
    "    args=training_args,                 \n",
    "    train_dataset=train_dataset,         \n",
    "    eval_dataset=val_dataset,            \n",
    "    compute_metrics= compute_metrics\n",
    ")"
   ]
  },
  {
   "cell_type": "code",
   "execution_count": 14,
   "id": "5e0ec7c6-6fb3-40e6-b10c-3b0d71540191",
   "metadata": {
    "execution": {
     "iopub.execute_input": "2024-01-20T11:53:52.634956Z",
     "iopub.status.busy": "2024-01-20T11:53:52.634956Z",
     "iopub.status.idle": "2024-01-20T13:20:21.078667Z",
     "shell.execute_reply": "2024-01-20T13:20:21.070619Z",
     "shell.execute_reply.started": "2024-01-20T11:53:52.634956Z"
    }
   },
   "outputs": [
    {
     "data": {
      "text/html": [
       "\n",
       "    <div>\n",
       "      \n",
       "      <progress value='645' max='645' style='width:300px; height:20px; vertical-align: middle;'></progress>\n",
       "      [645/645 1:26:21, Epoch 3/3]\n",
       "    </div>\n",
       "    <table border=\"1\" class=\"dataframe\">\n",
       "  <thead>\n",
       " <tr style=\"text-align: left;\">\n",
       "      <th>Step</th>\n",
       "      <th>Training Loss</th>\n",
       "      <th>Validation Loss</th>\n",
       "      <th>Accuracy</th>\n",
       "      <th>F1</th>\n",
       "      <th>Precision</th>\n",
       "      <th>Recall</th>\n",
       "    </tr>\n",
       "  </thead>\n",
       "  <tbody>\n",
       "    <tr>\n",
       "      <td>100</td>\n",
       "      <td>1.204300</td>\n",
       "      <td>0.330434</td>\n",
       "      <td>0.900680</td>\n",
       "      <td>0.899222</td>\n",
       "      <td>0.901304</td>\n",
       "      <td>0.901972</td>\n",
       "    </tr>\n",
       "    <tr>\n",
       "      <td>200</td>\n",
       "      <td>0.313300</td>\n",
       "      <td>0.296075</td>\n",
       "      <td>0.900680</td>\n",
       "      <td>0.901404</td>\n",
       "      <td>0.904264</td>\n",
       "      <td>0.904031</td>\n",
       "    </tr>\n",
       "    <tr>\n",
       "      <td>300</td>\n",
       "      <td>0.228300</td>\n",
       "      <td>0.278821</td>\n",
       "      <td>0.922449</td>\n",
       "      <td>0.922938</td>\n",
       "      <td>0.926372</td>\n",
       "      <td>0.922087</td>\n",
       "    </tr>\n",
       "    <tr>\n",
       "      <td>400</td>\n",
       "      <td>0.185200</td>\n",
       "      <td>0.265127</td>\n",
       "      <td>0.925170</td>\n",
       "      <td>0.925031</td>\n",
       "      <td>0.925550</td>\n",
       "      <td>0.925067</td>\n",
       "    </tr>\n",
       "    <tr>\n",
       "      <td>500</td>\n",
       "      <td>0.098900</td>\n",
       "      <td>0.271845</td>\n",
       "      <td>0.934694</td>\n",
       "      <td>0.934974</td>\n",
       "      <td>0.935078</td>\n",
       "      <td>0.935348</td>\n",
       "    </tr>\n",
       "    <tr>\n",
       "      <td>600</td>\n",
       "      <td>0.070400</td>\n",
       "      <td>0.267841</td>\n",
       "      <td>0.937415</td>\n",
       "      <td>0.937470</td>\n",
       "      <td>0.938415</td>\n",
       "      <td>0.937032</td>\n",
       "    </tr>\n",
       "  </tbody>\n",
       "</table><p>"
      ],
      "text/plain": [
       "<IPython.core.display.HTML object>"
      ]
     },
     "metadata": {},
     "output_type": "display_data"
    },
    {
     "data": {
      "text/plain": [
       "TrainOutput(global_step=645, training_loss=0.33210041060928225, metrics={'train_runtime': 5188.2355, 'train_samples_per_second': 1.983, 'train_steps_per_second': 0.124, 'total_flos': 2707534303488000.0, 'train_loss': 0.33210041060928225, 'epoch': 3.0})"
      ]
     },
     "execution_count": 14,
     "metadata": {},
     "output_type": "execute_result"
    }
   ],
   "source": [
    "trainer_bert.train()"
   ]
  },
  {
   "cell_type": "markdown",
   "id": "cea55c15-87f6-422c-9ac3-d31476291251",
   "metadata": {},
   "source": [
    "#### Evaluate"
   ]
  },
  {
   "cell_type": "code",
   "execution_count": 16,
   "id": "22053b7e-37ec-4b82-a9d9-1e3f6e04c37e",
   "metadata": {
    "execution": {
     "iopub.execute_input": "2024-01-20T13:38:39.049605Z",
     "iopub.status.busy": "2024-01-20T13:38:39.049605Z",
     "iopub.status.idle": "2024-01-20T13:51:36.289688Z",
     "shell.execute_reply": "2024-01-20T13:51:36.289688Z",
     "shell.execute_reply.started": "2024-01-20T13:38:39.049605Z"
    }
   },
   "outputs": [
    {
     "data": {
      "text/html": [
       "\n",
       "    <div>\n",
       "      \n",
       "      <progress value='154' max='108' style='width:300px; height:20px; vertical-align: middle;'></progress>\n",
       "      [108/108 12:51]\n",
       "    </div>\n",
       "    "
      ],
      "text/plain": [
       "<IPython.core.display.HTML object>"
      ]
     },
     "metadata": {},
     "output_type": "display_data"
    },
    {
     "data": {
      "text/html": [
       "<div>\n",
       "<style scoped>\n",
       "    .dataframe tbody tr th:only-of-type {\n",
       "        vertical-align: middle;\n",
       "    }\n",
       "\n",
       "    .dataframe tbody tr th {\n",
       "        vertical-align: top;\n",
       "    }\n",
       "\n",
       "    .dataframe thead th {\n",
       "        text-align: right;\n",
       "    }\n",
       "</style>\n",
       "<table border=\"1\" class=\"dataframe\">\n",
       "  <thead>\n",
       "    <tr style=\"text-align: right;\">\n",
       "      <th></th>\n",
       "      <th>eval_loss</th>\n",
       "      <th>eval_Accuracy</th>\n",
       "      <th>eval_F1</th>\n",
       "      <th>eval_Precision</th>\n",
       "      <th>eval_Recall</th>\n",
       "    </tr>\n",
       "  </thead>\n",
       "  <tbody>\n",
       "    <tr>\n",
       "      <th>train</th>\n",
       "      <td>0.087322</td>\n",
       "      <td>0.975802</td>\n",
       "      <td>0.975858</td>\n",
       "      <td>0.976022</td>\n",
       "      <td>0.975981</td>\n",
       "    </tr>\n",
       "    <tr>\n",
       "      <th>val</th>\n",
       "      <td>0.265127</td>\n",
       "      <td>0.925170</td>\n",
       "      <td>0.925031</td>\n",
       "      <td>0.925550</td>\n",
       "      <td>0.925067</td>\n",
       "    </tr>\n",
       "    <tr>\n",
       "      <th>test</th>\n",
       "      <td>0.379104</td>\n",
       "      <td>0.908844</td>\n",
       "      <td>0.907195</td>\n",
       "      <td>0.909181</td>\n",
       "      <td>0.906491</td>\n",
       "    </tr>\n",
       "  </tbody>\n",
       "</table>\n",
       "</div>"
      ],
      "text/plain": [
       "       eval_loss  eval_Accuracy   eval_F1  eval_Precision  eval_Recall\n",
       "train   0.087322       0.975802  0.975858        0.976022     0.975981\n",
       "val     0.265127       0.925170  0.925031        0.925550     0.925067\n",
       "test    0.379104       0.908844  0.907195        0.909181     0.906491"
      ]
     },
     "execution_count": 16,
     "metadata": {},
     "output_type": "execute_result"
    }
   ],
   "source": [
    "result = [trainer_bert.evaluate(eval_dataset=data) for data in [train_dataset, val_dataset, test_dataset]]\n",
    "pd.DataFrame(result, index=[\"train\", \"val\", \"test\"]).iloc[:,:5]"
   ]
  },
  {
   "cell_type": "code",
   "execution_count": 19,
   "id": "ae02949b-4b0a-4493-95d2-2648acd4b1dc",
   "metadata": {
    "execution": {
     "iopub.execute_input": "2024-01-20T14:07:03.777453Z",
     "iopub.status.busy": "2024-01-20T14:07:03.777453Z",
     "iopub.status.idle": "2024-01-20T14:07:03.974847Z",
     "shell.execute_reply": "2024-01-20T14:07:03.973850Z",
     "shell.execute_reply.started": "2024-01-20T14:07:03.777453Z"
    }
   },
   "outputs": [
    {
     "data": {
      "text/plain": [
       "tensor([[0.0054, 0.0163, 0.0071, 0.0079, 0.0125, 0.9455, 0.0053]],\n",
       "       device='cuda:0', grad_fn=<SoftmaxBackward0>)"
      ]
     },
     "execution_count": 19,
     "metadata": {},
     "output_type": "execute_result"
    }
   ],
   "source": [
    "text = \"Fenerbahçeli futbolcular kısa paslarla hazırlık çalışması yaptılar\"\n",
    "predict(model_bert, tokenizer_bert, text)[0]"
   ]
  },
  {
   "cell_type": "markdown",
   "id": "e0a0cd78-d822-43e8-a39b-0b6fceed3a21",
   "metadata": {},
   "source": [
    "#### Save Model"
   ]
  },
  {
   "cell_type": "code",
   "execution_count": 20,
   "id": "0f3f9868-eb22-43d6-9160-6e9e64b4e3cd",
   "metadata": {
    "execution": {
     "iopub.execute_input": "2024-01-20T14:08:31.094546Z",
     "iopub.status.busy": "2024-01-20T14:08:31.093549Z",
     "iopub.status.idle": "2024-01-20T14:08:31.882445Z",
     "shell.execute_reply": "2024-01-20T14:08:31.881447Z",
     "shell.execute_reply.started": "2024-01-20T14:08:31.094546Z"
    }
   },
   "outputs": [
    {
     "data": {
      "text/plain": [
       "('bert_text_classification_fine_tuned\\\\tokenizer_config.json',\n",
       " 'bert_text_classification_fine_tuned\\\\special_tokens_map.json',\n",
       " 'bert_text_classification_fine_tuned\\\\vocab.txt',\n",
       " 'bert_text_classification_fine_tuned\\\\added_tokens.json',\n",
       " 'bert_text_classification_fine_tuned\\\\tokenizer.json')"
      ]
     },
     "execution_count": 20,
     "metadata": {},
     "output_type": "execute_result"
    }
   ],
   "source": [
    "model_path = \"bertturk_text_classification_fine_tuned\"\n",
    "\n",
    "trainer_bert.save_model(model_path)\n",
    "tokenizer_bert.save_pretrained(model_path)"
   ]
  },
  {
   "cell_type": "markdown",
   "id": "f8260629-9a79-459c-8116-341974cd3bdf",
   "metadata": {
    "jp-MarkdownHeadingCollapsed": true
   },
   "source": [
    "### TurkishBERTweet"
   ]
  },
  {
   "cell_type": "code",
   "execution_count": 5,
   "id": "a7ca6055-8793-4a86-b1d5-b19cd0f490d5",
   "metadata": {
    "execution": {
     "iopub.execute_input": "2024-01-28T05:43:36.658586Z",
     "iopub.status.busy": "2024-01-28T05:43:36.658586Z",
     "iopub.status.idle": "2024-01-28T05:43:39.284434Z",
     "shell.execute_reply": "2024-01-28T05:43:39.284434Z",
     "shell.execute_reply.started": "2024-01-28T05:43:36.658586Z"
    }
   },
   "outputs": [
    {
     "name": "stderr",
     "output_type": "stream",
     "text": [
      "Some weights of RobertaForSequenceClassification were not initialized from the model checkpoint at VRLLab/TurkishBERTweet and are newly initialized: ['classifier.dense.bias', 'classifier.dense.weight', 'classifier.out_proj.bias', 'classifier.out_proj.weight']\n",
      "You should probably TRAIN this model on a down-stream task to be able to use it for predictions and inference.\n"
     ]
    }
   ],
   "source": [
    "from transformers import AutoTokenizer, AutoModelForSequenceClassification\n",
    "\n",
    "tokenizer_tbt = AutoTokenizer.from_pretrained(\"VRLLab/TurkishBERTweet\", max_length=128)\n",
    "model_tbt = AutoModelForSequenceClassification.from_pretrained(\"VRLLab/TurkishBERTweet\", num_labels=num_labels, id2label=id2label, label2id=label2id)"
   ]
  },
  {
   "cell_type": "code",
   "execution_count": 6,
   "id": "325b61e8-a26a-431e-b29b-1e8efa832c78",
   "metadata": {
    "execution": {
     "iopub.execute_input": "2024-01-28T05:43:39.966174Z",
     "iopub.status.busy": "2024-01-28T05:43:39.966174Z",
     "iopub.status.idle": "2024-01-28T05:43:40.807526Z",
     "shell.execute_reply": "2024-01-28T05:43:40.807526Z",
     "shell.execute_reply.started": "2024-01-28T05:43:39.966174Z"
    }
   },
   "outputs": [],
   "source": [
    "train_encodings = tokenizer_tbt(X_train, truncation=True, padding=True, max_length=128)\n",
    "val_encodings  = tokenizer_tbt(X_val, truncation=True, padding=True, max_length=128)\n",
    "test_encodings = tokenizer_tbt(X_test, truncation=True, padding=True, max_length=128)\n",
    "\n",
    "from torch.utils.data import Dataset\n",
    "\n",
    "class MyDataset(Dataset):\n",
    "    \n",
    "    def __init__(self, encodings, labels):\n",
    "        self.encodings = encodings\n",
    "        self.labels = labels\n",
    "        \n",
    "    def __getitem__(self, idx):\n",
    "        item = {key: torch.tensor(val[idx]) for key, val in self.encodings.items()}\n",
    "        item['labels'] = torch.tensor(self.labels[idx])\n",
    "        return item\n",
    "        \n",
    "    def __len__(self):\n",
    "        return len(self.labels)\n",
    "\n",
    "train_dataset = MyDataset(train_encodings, y_train)\n",
    "val_dataset = MyDataset(val_encodings, y_val)\n",
    "test_dataset = MyDataset(test_encodings, y_test)"
   ]
  },
  {
   "cell_type": "markdown",
   "id": "37352ddb-52dd-4017-9225-8f589dc9ae73",
   "metadata": {},
   "source": [
    "#### Train"
   ]
  },
  {
   "cell_type": "code",
   "execution_count": 7,
   "id": "dfe529fe-2f19-4404-9b49-1bcac74e583f",
   "metadata": {
    "execution": {
     "iopub.execute_input": "2024-01-28T05:44:37.999981Z",
     "iopub.status.busy": "2024-01-28T05:44:37.999981Z",
     "iopub.status.idle": "2024-01-28T05:44:38.861603Z",
     "shell.execute_reply": "2024-01-28T05:44:38.861603Z",
     "shell.execute_reply.started": "2024-01-28T05:44:37.999981Z"
    }
   },
   "outputs": [],
   "source": [
    "training_args = TrainingArguments(\n",
    "    output_dir='../Output/', \n",
    "    do_train=True,\n",
    "    do_eval=True,\n",
    "    num_train_epochs=3,              \n",
    "    per_device_train_batch_size=16,  \n",
    "    per_device_eval_batch_size=32,\n",
    "    warmup_steps=100,                \n",
    "    weight_decay=0.01,\n",
    "    logging_strategy='steps',              \n",
    "    logging_dir='../Output/TBT_Logs',            \n",
    "    logging_steps=100,\n",
    "    evaluation_strategy=\"epoch\",\n",
    "    eval_steps=1,\n",
    "    save_strategy=\"epoch\",\n",
    "    save_steps=1,\n",
    "    fp16=True,\n",
    "    load_best_model_at_end=True\n",
    ")\n",
    "\n",
    "trainer_tbt = Trainer(\n",
    "    model=model_tbt,                    \n",
    "    args=training_args,                 \n",
    "    train_dataset=train_dataset,         \n",
    "    eval_dataset=val_dataset,            \n",
    "    compute_metrics= compute_metrics\n",
    ")"
   ]
  },
  {
   "cell_type": "code",
   "execution_count": 8,
   "id": "847d68f0-8db3-44d0-a36c-d3eb76032d4d",
   "metadata": {
    "execution": {
     "iopub.execute_input": "2024-01-28T05:44:46.970914Z",
     "iopub.status.busy": "2024-01-28T05:44:46.970914Z",
     "iopub.status.idle": "2024-01-28T05:47:32.849120Z",
     "shell.execute_reply": "2024-01-28T05:47:32.848123Z",
     "shell.execute_reply.started": "2024-01-28T05:44:46.970914Z"
    }
   },
   "outputs": [
    {
     "data": {
      "text/html": [
       "\n",
       "    <div>\n",
       "      \n",
       "      <progress value='645' max='645' style='width:300px; height:20px; vertical-align: middle;'></progress>\n",
       "      [645/645 02:44, Epoch 3/3]\n",
       "    </div>\n",
       "    <table border=\"1\" class=\"dataframe\">\n",
       "  <thead>\n",
       " <tr style=\"text-align: left;\">\n",
       "      <th>Epoch</th>\n",
       "      <th>Training Loss</th>\n",
       "      <th>Validation Loss</th>\n",
       "      <th>Accuracy</th>\n",
       "      <th>F1</th>\n",
       "      <th>Precision</th>\n",
       "      <th>Recall</th>\n",
       "    </tr>\n",
       "  </thead>\n",
       "  <tbody>\n",
       "    <tr>\n",
       "      <td>1</td>\n",
       "      <td>0.486000</td>\n",
       "      <td>0.570901</td>\n",
       "      <td>0.862585</td>\n",
       "      <td>0.862127</td>\n",
       "      <td>0.871137</td>\n",
       "      <td>0.864032</td>\n",
       "    </tr>\n",
       "    <tr>\n",
       "      <td>2</td>\n",
       "      <td>0.275700</td>\n",
       "      <td>0.563889</td>\n",
       "      <td>0.885714</td>\n",
       "      <td>0.883144</td>\n",
       "      <td>0.885233</td>\n",
       "      <td>0.884516</td>\n",
       "    </tr>\n",
       "    <tr>\n",
       "      <td>3</td>\n",
       "      <td>0.076100</td>\n",
       "      <td>0.548779</td>\n",
       "      <td>0.910204</td>\n",
       "      <td>0.909421</td>\n",
       "      <td>0.909185</td>\n",
       "      <td>0.910594</td>\n",
       "    </tr>\n",
       "  </tbody>\n",
       "</table><p>"
      ],
      "text/plain": [
       "<IPython.core.display.HTML object>"
      ]
     },
     "metadata": {},
     "output_type": "display_data"
    },
    {
     "data": {
      "text/plain": [
       "TrainOutput(global_step=645, training_loss=0.38129790476126263, metrics={'train_runtime': 165.7372, 'train_samples_per_second': 62.086, 'train_steps_per_second': 3.892, 'total_flos': 676883575872000.0, 'train_loss': 0.38129790476126263, 'epoch': 3.0})"
      ]
     },
     "execution_count": 8,
     "metadata": {},
     "output_type": "execute_result"
    }
   ],
   "source": [
    "trainer_tbt.train()"
   ]
  },
  {
   "cell_type": "markdown",
   "id": "65e3b441-7956-41da-9870-927df641e679",
   "metadata": {},
   "source": [
    "#### Evaluate"
   ]
  },
  {
   "cell_type": "code",
   "execution_count": 9,
   "id": "d42cd977-16dd-4981-80fd-d8c61ad48845",
   "metadata": {
    "execution": {
     "iopub.execute_input": "2024-01-28T05:47:32.850117Z",
     "iopub.status.busy": "2024-01-28T05:47:32.850117Z",
     "iopub.status.idle": "2024-01-28T05:47:47.007312Z",
     "shell.execute_reply": "2024-01-28T05:47:47.006316Z",
     "shell.execute_reply.started": "2024-01-28T05:47:32.850117Z"
    }
   },
   "outputs": [
    {
     "data": {
      "text/html": [
       "\n",
       "    <div>\n",
       "      \n",
       "      <progress value='154' max='108' style='width:300px; height:20px; vertical-align: middle;'></progress>\n",
       "      [108/108 00:13]\n",
       "    </div>\n",
       "    "
      ],
      "text/plain": [
       "<IPython.core.display.HTML object>"
      ]
     },
     "metadata": {},
     "output_type": "display_data"
    },
    {
     "data": {
      "text/html": [
       "<div>\n",
       "<style scoped>\n",
       "    .dataframe tbody tr th:only-of-type {\n",
       "        vertical-align: middle;\n",
       "    }\n",
       "\n",
       "    .dataframe tbody tr th {\n",
       "        vertical-align: top;\n",
       "    }\n",
       "\n",
       "    .dataframe thead th {\n",
       "        text-align: right;\n",
       "    }\n",
       "</style>\n",
       "<table border=\"1\" class=\"dataframe\">\n",
       "  <thead>\n",
       "    <tr style=\"text-align: right;\">\n",
       "      <th></th>\n",
       "      <th>eval_loss</th>\n",
       "      <th>eval_Accuracy</th>\n",
       "      <th>eval_F1</th>\n",
       "      <th>eval_Precision</th>\n",
       "      <th>eval_Recall</th>\n",
       "    </tr>\n",
       "  </thead>\n",
       "  <tbody>\n",
       "    <tr>\n",
       "      <th>train</th>\n",
       "      <td>0.039082</td>\n",
       "      <td>0.992711</td>\n",
       "      <td>0.992766</td>\n",
       "      <td>0.992853</td>\n",
       "      <td>0.992698</td>\n",
       "    </tr>\n",
       "    <tr>\n",
       "      <th>val</th>\n",
       "      <td>0.548779</td>\n",
       "      <td>0.910204</td>\n",
       "      <td>0.909421</td>\n",
       "      <td>0.909185</td>\n",
       "      <td>0.910594</td>\n",
       "    </tr>\n",
       "    <tr>\n",
       "      <th>test</th>\n",
       "      <td>0.646831</td>\n",
       "      <td>0.891156</td>\n",
       "      <td>0.889033</td>\n",
       "      <td>0.890410</td>\n",
       "      <td>0.889613</td>\n",
       "    </tr>\n",
       "  </tbody>\n",
       "</table>\n",
       "</div>"
      ],
      "text/plain": [
       "       eval_loss  eval_Accuracy   eval_F1  eval_Precision  eval_Recall\n",
       "train   0.039082       0.992711  0.992766        0.992853     0.992698\n",
       "val     0.548779       0.910204  0.909421        0.909185     0.910594\n",
       "test    0.646831       0.891156  0.889033        0.890410     0.889613"
      ]
     },
     "execution_count": 9,
     "metadata": {},
     "output_type": "execute_result"
    }
   ],
   "source": [
    "result = [trainer_tbt.evaluate(eval_dataset=data) for data in [train_dataset, val_dataset, test_dataset]]\n",
    "pd.DataFrame(result, index=[\"train\", \"val\", \"test\"]).iloc[:,:5]"
   ]
  },
  {
   "cell_type": "code",
   "execution_count": 11,
   "id": "17bd03cc-6257-4b4e-b399-e306f282173b",
   "metadata": {
    "execution": {
     "iopub.execute_input": "2024-01-28T05:48:07.954769Z",
     "iopub.status.busy": "2024-01-28T05:48:07.954769Z",
     "iopub.status.idle": "2024-01-28T05:48:08.185669Z",
     "shell.execute_reply": "2024-01-28T05:48:08.185198Z",
     "shell.execute_reply.started": "2024-01-28T05:48:07.954769Z"
    }
   },
   "outputs": [
    {
     "data": {
      "text/plain": [
       "tensor([[1.6921e-04, 1.4701e-04, 2.4120e-04, 4.4343e-04, 1.4502e-04, 9.9826e-01,\n",
       "         5.9422e-04]], device='cuda:0', grad_fn=<SoftmaxBackward0>)"
      ]
     },
     "execution_count": 11,
     "metadata": {},
     "output_type": "execute_result"
    }
   ],
   "source": [
    "text = \"Fenerbahçeli futbolcular kısa paslarla hazırlık çalışması yaptılar\"\n",
    "predict(model_tbt, tokenizer_tbt, text)[0]"
   ]
  },
  {
   "cell_type": "markdown",
   "id": "17cdf9a1-79ff-4bd0-802f-08f170b9ad1d",
   "metadata": {},
   "source": [
    "#### Save Model"
   ]
  },
  {
   "cell_type": "code",
   "execution_count": 12,
   "id": "17d7aae7-bcfb-46db-af48-1fdf9c86f4d1",
   "metadata": {
    "execution": {
     "iopub.execute_input": "2024-01-28T05:48:10.045566Z",
     "iopub.status.busy": "2024-01-28T05:48:10.045566Z",
     "iopub.status.idle": "2024-01-28T05:48:11.234005Z",
     "shell.execute_reply": "2024-01-28T05:48:11.234005Z",
     "shell.execute_reply.started": "2024-01-28T05:48:10.045566Z"
    }
   },
   "outputs": [
    {
     "data": {
      "text/plain": [
       "('turkishbertweet_text_classification_fine_tuned\\\\tokenizer_config.json',\n",
       " 'turkishbertweet_text_classification_fine_tuned\\\\special_tokens_map.json',\n",
       " 'turkishbertweet_text_classification_fine_tuned\\\\vocab.json',\n",
       " 'turkishbertweet_text_classification_fine_tuned\\\\merges.txt',\n",
       " 'turkishbertweet_text_classification_fine_tuned\\\\added_tokens.json',\n",
       " 'turkishbertweet_text_classification_fine_tuned\\\\tokenizer.json')"
      ]
     },
     "execution_count": 12,
     "metadata": {},
     "output_type": "execute_result"
    }
   ],
   "source": [
    "model_path = \"turkishbertweet_text_classification_fine_tuned_ttc4900\"\n",
    "\n",
    "trainer_tbt.save_model(model_path)\n",
    "tokenizer_tbt.save_pretrained(model_path)"
   ]
  },
  {
   "cell_type": "markdown",
   "id": "b565fe33-e0d3-4293-aa2f-6e630988b812",
   "metadata": {
    "jp-MarkdownHeadingCollapsed": true
   },
   "source": [
    "### TURNA"
   ]
  },
  {
   "cell_type": "code",
   "execution_count": 12,
   "id": "4c2f2017-2df2-444a-a1d0-66fb59d316b7",
   "metadata": {
    "execution": {
     "iopub.execute_input": "2024-01-28T17:05:53.556349Z",
     "iopub.status.busy": "2024-01-28T17:05:53.556349Z",
     "iopub.status.idle": "2024-01-28T17:05:53.564352Z",
     "shell.execute_reply": "2024-01-28T17:05:53.564352Z",
     "shell.execute_reply.started": "2024-01-28T17:05:53.556349Z"
    }
   },
   "outputs": [],
   "source": [
    "import sys\n",
    "sys.path.append('../../turkish_lm_tuner/')\n",
    "\n",
    "from t5_classifier import T5ForClassification\n",
    "\n",
    "from transformers import AutoTokenizer, BitsAndBytesConfig\n",
    "\n",
    "double_quant_config = BitsAndBytesConfig(\n",
    "    load_in_4bit=True,\n",
    "    bnb_4bit_use_double_quant=True,\n",
    "    bnb_4bit_compute_dtype=torch.float16\n",
    ")"
   ]
  },
  {
   "cell_type": "code",
   "execution_count": null,
   "id": "df2be22f-beb5-4620-adc7-9bffff4ded65",
   "metadata": {},
   "outputs": [],
   "source": [
    "tokenizer_turna = AutoTokenizer.from_pretrained(\"boun-tabi-LMG/TURNA\", max_length=128)\n",
    "\n",
    "model_turna = T5ForClassification.from_pretrained(\"boun-tabi-LMG/TURNA\",\n",
    "                                                    quantization_config=double_quant_config,\n",
    "                                                    num_labels=num_labels, \n",
    "                                                    id2label=id2label, label2id=label2id)"
   ]
  },
  {
   "cell_type": "code",
   "execution_count": 18,
   "id": "27b1cbb4-af08-4150-8443-b36d82d5cb48",
   "metadata": {
    "execution": {
     "iopub.execute_input": "2024-01-28T17:44:29.880464Z",
     "iopub.status.busy": "2024-01-28T17:44:29.879468Z",
     "iopub.status.idle": "2024-01-28T17:44:29.994696Z",
     "shell.execute_reply": "2024-01-28T17:44:29.993692Z",
     "shell.execute_reply.started": "2024-01-28T17:44:29.880464Z"
    }
   },
   "outputs": [
    {
     "ename": "ModuleNotFoundError",
     "evalue": "No module named 'evaluate'",
     "output_type": "error",
     "traceback": [
      "\u001b[1;31m---------------------------------------------------------------------------\u001b[0m",
      "\u001b[1;31mModuleNotFoundError\u001b[0m                       Traceback (most recent call last)",
      "Cell \u001b[1;32mIn[18], line 2\u001b[0m\n\u001b[0;32m      1\u001b[0m \u001b[38;5;28;01mfrom\u001b[39;00m \u001b[38;5;21;01mtransformers\u001b[39;00m \u001b[38;5;28;01mimport\u001b[39;00m AutoTokenizer\n\u001b[1;32m----> 2\u001b[0m \u001b[38;5;28;01mfrom\u001b[39;00m \u001b[38;5;21;01mtrainer\u001b[39;00m \u001b[38;5;28;01mimport\u001b[39;00m TrainerForClassification\n\u001b[0;32m      4\u001b[0m \u001b[38;5;66;03m# Set your parameters\u001b[39;00m\n\u001b[0;32m      5\u001b[0m model_name \u001b[38;5;241m=\u001b[39m \u001b[38;5;124m\"\u001b[39m\u001b[38;5;124mboun-tabi-LMG/TURNA\u001b[39m\u001b[38;5;124m\"\u001b[39m\n",
      "File \u001b[1;32m~\\Desktop\\Tez\\Fine_Tuning\\../../turkish_lm_tuner\\trainer.py:13\u001b[0m\n\u001b[0;32m     11\u001b[0m \u001b[38;5;28;01mfrom\u001b[39;00m \u001b[38;5;21;01mtransformers\u001b[39;00m\u001b[38;5;21;01m.\u001b[39;00m\u001b[38;5;21;01moptimization\u001b[39;00m \u001b[38;5;28;01mimport\u001b[39;00m Adafactor, AdafactorSchedule\n\u001b[0;32m     12\u001b[0m \u001b[38;5;28;01mfrom\u001b[39;00m \u001b[38;5;21;01mtransformers\u001b[39;00m \u001b[38;5;28;01mimport\u001b[39;00m DataCollatorForTokenClassification\n\u001b[1;32m---> 13\u001b[0m \u001b[38;5;28;01mfrom\u001b[39;00m \u001b[38;5;21;01mevaluator\u001b[39;00m \u001b[38;5;28;01mimport\u001b[39;00m (\n\u001b[0;32m     14\u001b[0m     EvaluatorForClassification,\n\u001b[0;32m     15\u001b[0m     EvaluatorForConditionalGeneration\n\u001b[0;32m     16\u001b[0m )\n\u001b[0;32m     17\u001b[0m \u001b[38;5;28;01mfrom\u001b[39;00m \u001b[38;5;21;01mt5_classifier\u001b[39;00m \u001b[38;5;28;01mimport\u001b[39;00m T5ForClassification\n\u001b[0;32m     18\u001b[0m \u001b[38;5;28;01mimport\u001b[39;00m \u001b[38;5;21;01mjson\u001b[39;00m \n",
      "File \u001b[1;32m~\\Desktop\\Tez\\Fine_Tuning\\../../turkish_lm_tuner\\evaluator.py:8\u001b[0m\n\u001b[0;32m      1\u001b[0m \u001b[38;5;28;01mfrom\u001b[39;00m \u001b[38;5;21;01mtransformers\u001b[39;00m \u001b[38;5;28;01mimport\u001b[39;00m (\n\u001b[0;32m      2\u001b[0m     AutoTokenizer, AutoModelForSeq2SeqLM, AutoModelForSequenceClassification,\n\u001b[0;32m      3\u001b[0m     Seq2SeqTrainer, Seq2SeqTrainingArguments,\n\u001b[0;32m      4\u001b[0m     Trainer, TrainingArguments,\n\u001b[0;32m      5\u001b[0m     EvalPrediction\n\u001b[0;32m      6\u001b[0m )\n\u001b[1;32m----> 8\u001b[0m \u001b[38;5;28;01mfrom\u001b[39;00m \u001b[38;5;21;01mmetrics\u001b[39;00m \u001b[38;5;28;01mimport\u001b[39;00m load_task_metrics\n\u001b[0;32m      9\u001b[0m \u001b[38;5;28;01mimport\u001b[39;00m \u001b[38;5;21;01mpandas\u001b[39;00m \u001b[38;5;28;01mas\u001b[39;00m \u001b[38;5;21;01mpd\u001b[39;00m\n\u001b[0;32m     10\u001b[0m \u001b[38;5;28;01mimport\u001b[39;00m \u001b[38;5;21;01mnumpy\u001b[39;00m \u001b[38;5;28;01mas\u001b[39;00m \u001b[38;5;21;01mnp\u001b[39;00m\n",
      "File \u001b[1;32m~\\Desktop\\Tez\\Fine_Tuning\\../../turkish_lm_tuner\\metrics.py:1\u001b[0m\n\u001b[1;32m----> 1\u001b[0m \u001b[38;5;28;01mimport\u001b[39;00m \u001b[38;5;21;01mevaluate\u001b[39;00m\n\u001b[0;32m      2\u001b[0m \u001b[38;5;28;01mimport\u001b[39;00m \u001b[38;5;21;01msys\u001b[39;00m \n\u001b[0;32m      4\u001b[0m \u001b[38;5;28;01mclass\u001b[39;00m \u001b[38;5;21;01mBaseMetric\u001b[39;00m:\n",
      "\u001b[1;31mModuleNotFoundError\u001b[0m: No module named 'evaluate'"
     ]
    }
   ],
   "source": [
    "from transformers import AutoTokenizer\n",
    "from trainer import TrainerForClassification\n",
    "\n",
    "# Set your parameters\n",
    "model_name = \"boun-tabi-LMG/TURNA\"\n",
    "\n",
    "# Load tokenizer and model\n",
    "tokenizer_turna = AutoTokenizer.from_pretrained(model_name)\n",
    "model_turna = T5ForClassification.from_pretrained(\n",
    "    model_name,\n",
    "    num_labels=num_labels,\n",
    "    id2label=id2label,\n",
    "    label2id=label2id\n",
    ")"
   ]
  },
  {
   "cell_type": "code",
   "execution_count": null,
   "id": "cf177ead-41c1-4238-869d-3c01857419ff",
   "metadata": {},
   "outputs": [],
   "source": [
    "# Create Trainer\n",
    "trainer_turna = TrainerForClassification(\n",
    "    model_name=model_name,\n",
    "    task=\"classification\",  # Set the task type (\"classification\", \"ner\", \"pos_tagging\")\n",
    "    training_params={\"output_dir\": \"./output_directory\", \"num_train_epochs\": 3},  # Set your training parameters\n",
    "    optimizer_params=None,  # You can set optimizer parameters if needed\n",
    "    model_save_path=\"./model_save_path\",\n",
    "    num_labels=num_labels,\n",
    "    postprocess_fn=None  # Set your post-processing function if needed\n",
    ")"
   ]
  },
  {
   "cell_type": "code",
   "execution_count": null,
   "id": "c29395f3-85ee-43aa-9ea4-023f3e64d64a",
   "metadata": {},
   "outputs": [],
   "source": []
  },
  {
   "cell_type": "code",
   "execution_count": 7,
   "id": "83ab8229-1c97-4da9-a090-e15de075041c",
   "metadata": {
    "execution": {
     "iopub.execute_input": "2024-01-28T15:53:25.829651Z",
     "iopub.status.busy": "2024-01-28T15:53:25.828694Z",
     "iopub.status.idle": "2024-01-28T15:53:25.873503Z",
     "shell.execute_reply": "2024-01-28T15:53:25.873503Z",
     "shell.execute_reply.started": "2024-01-28T15:53:25.829651Z"
    }
   },
   "outputs": [],
   "source": [
    "train_encodings = tokenizer_turna(X_train, truncation=True, padding='max_length')\n",
    "val_encodings  = tokenizer_turna(X_val, truncation=True, padding='max_length')\n",
    "test_encodings = tokenizer_turna(X_test, truncation=True, padding='max_length')\n",
    "\n",
    "from torch.utils.data import Dataset\n",
    "\n",
    "class MyDataset(Dataset):\n",
    "    \n",
    "    def __init__(self, encodings, labels):\n",
    "        self.encodings = encodings\n",
    "        self.labels = labels\n",
    "        \n",
    "    def __getitem__(self, idx):\n",
    "        item = {key: torch.tensor(val[idx]) for key, val in self.encodings.items()}\n",
    "        item['labels'] = torch.tensor(self.labels[idx])\n",
    "        return item\n",
    "        \n",
    "    def __len__(self):\n",
    "        return len(self.labels)\n",
    "\n",
    "train_dataset = MyDataset(train_encodings, y_train)\n",
    "val_dataset = MyDataset(val_encodings, y_val)\n",
    "test_dataset = MyDataset(test_encodings, y_test)"
   ]
  },
  {
   "cell_type": "markdown",
   "id": "820c40ea-7fc2-4dfb-9f3d-0cc3e97200e8",
   "metadata": {},
   "source": [
    "#### Train"
   ]
  },
  {
   "cell_type": "code",
   "execution_count": 8,
   "id": "94a0fd86-63b6-4eeb-8fbd-c35ba7248caa",
   "metadata": {
    "execution": {
     "iopub.execute_input": "2024-01-28T15:53:25.874508Z",
     "iopub.status.busy": "2024-01-28T15:53:25.874508Z",
     "iopub.status.idle": "2024-01-28T15:53:25.905406Z",
     "shell.execute_reply": "2024-01-28T15:53:25.905406Z",
     "shell.execute_reply.started": "2024-01-28T15:53:25.874508Z"
    }
   },
   "outputs": [],
   "source": [
    "training_args = TrainingArguments(\n",
    "    output_dir='../Output/', \n",
    "    do_train=True,\n",
    "    do_eval=True,\n",
    "    num_train_epochs=3,              \n",
    "    per_device_train_batch_size=2,  \n",
    "    per_device_eval_batch_size=4,\n",
    "    warmup_steps=100,                \n",
    "    weight_decay=0.01,\n",
    "    logging_strategy='steps',              \n",
    "    logging_dir='../Output/TURNA_Logs',            \n",
    "    logging_steps=100,\n",
    "    evaluation_strategy=\"epoch\",\n",
    "    eval_steps=1,\n",
    "    save_strategy=\"epoch\",\n",
    "    save_steps=1,\n",
    "    fp16=True,\n",
    "    load_best_model_at_end=True\n",
    ")\n",
    "\n",
    "trainer_turna = Trainer(\n",
    "    model=model_turna,                    \n",
    "    args=training_args,                 \n",
    "    train_dataset=train_dataset,         \n",
    "    eval_dataset=val_dataset,            \n",
    "    compute_metrics= compute_metrics\n",
    ")"
   ]
  },
  {
   "cell_type": "code",
   "execution_count": null,
   "id": "c68f7017-216c-4f5a-93c6-5bae92c97eb9",
   "metadata": {},
   "outputs": [],
   "source": [
    "trainer_turna.train()"
   ]
  },
  {
   "cell_type": "code",
   "execution_count": null,
   "id": "b1dd4dba-1d54-4b31-8695-1b93a824f556",
   "metadata": {},
   "outputs": [],
   "source": []
  }
 ],
 "metadata": {
  "kernelspec": {
   "display_name": "master",
   "language": "python",
   "name": "master"
  },
  "language_info": {
   "codemirror_mode": {
    "name": "ipython",
    "version": 3
   },
   "file_extension": ".py",
   "mimetype": "text/x-python",
   "name": "python",
   "nbconvert_exporter": "python",
   "pygments_lexer": "ipython3",
   "version": "3.10.13"
  }
 },
 "nbformat": 4,
 "nbformat_minor": 5
}
