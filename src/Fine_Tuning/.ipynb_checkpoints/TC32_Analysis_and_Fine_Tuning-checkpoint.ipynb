{
 "cells": [
  {
   "cell_type": "markdown",
   "id": "d59eccf3-57cf-4131-9987-91e3b0ad5eee",
   "metadata": {},
   "source": [
    "# Text Classification on TC32"
   ]
  },
  {
   "cell_type": "markdown",
   "id": "aba3fb92-4564-4055-9345-d0ffa3f97b69",
   "metadata": {
    "jp-MarkdownHeadingCollapsed": true
   },
   "source": [
    "## Analyze and Preprocess Dataset"
   ]
  },
  {
   "cell_type": "code",
   "execution_count": 1,
   "id": "340b49f8-25f3-4c1e-b40f-e32a71e4451a",
   "metadata": {
    "execution": {
     "iopub.execute_input": "2024-03-10T09:49:32.738821Z",
     "iopub.status.busy": "2024-03-10T09:49:32.735854Z",
     "iopub.status.idle": "2024-03-10T09:49:36.456786Z",
     "shell.execute_reply": "2024-03-10T09:49:36.456786Z",
     "shell.execute_reply.started": "2024-03-10T09:49:32.738821Z"
    }
   },
   "outputs": [
    {
     "data": {
      "text/html": [
       "<div>\n",
       "<style scoped>\n",
       "    .dataframe tbody tr th:only-of-type {\n",
       "        vertical-align: middle;\n",
       "    }\n",
       "\n",
       "    .dataframe tbody tr th {\n",
       "        vertical-align: top;\n",
       "    }\n",
       "\n",
       "    .dataframe thead th {\n",
       "        text-align: right;\n",
       "    }\n",
       "</style>\n",
       "<table border=\"1\" class=\"dataframe\">\n",
       "  <thead>\n",
       "    <tr style=\"text-align: right;\">\n",
       "      <th></th>\n",
       "      <th>text</th>\n",
       "      <th>label</th>\n",
       "    </tr>\n",
       "  </thead>\n",
       "  <tbody>\n",
       "    <tr>\n",
       "      <th>0</th>\n",
       "      <td>Ferhat Şenol Avukatlık Saygısızlık!,\"0 232 287...</td>\n",
       "      <td>26</td>\n",
       "    </tr>\n",
       "    <tr>\n",
       "      <th>1</th>\n",
       "      <td>Cinemaximum Ve Sinemia Haksızlığı!,\"[xxx] PNR ...</td>\n",
       "      <td>15</td>\n",
       "    </tr>\n",
       "    <tr>\n",
       "      <th>2</th>\n",
       "      <td>İstwest Yönetimi Çok Kötü!,Kentsel yönetimin i...</td>\n",
       "      <td>31</td>\n",
       "    </tr>\n",
       "    <tr>\n",
       "      <th>3</th>\n",
       "      <td>Prestij Halı Yıkama Ankara Gölbaşı , Halımı Ya...</td>\n",
       "      <td>25</td>\n",
       "    </tr>\n",
       "    <tr>\n",
       "      <th>4</th>\n",
       "      <td>Danone Hayat İçecek Vodafone Su Kampanyası,Dün...</td>\n",
       "      <td>16</td>\n",
       "    </tr>\n",
       "    <tr>\n",
       "      <th>...</th>\n",
       "      <td>...</td>\n",
       "      <td>...</td>\n",
       "    </tr>\n",
       "    <tr>\n",
       "      <th>431301</th>\n",
       "      <td>Arzum Kalitesizliği,Arzum marka ütüyü Bursa Fu...</td>\n",
       "      <td>12</td>\n",
       "    </tr>\n",
       "    <tr>\n",
       "      <th>431302</th>\n",
       "      <td>Allianz Sigorta Diye  Sigorta Şirketinin Yalnı...</td>\n",
       "      <td>18</td>\n",
       "    </tr>\n",
       "    <tr>\n",
       "      <th>431303</th>\n",
       "      <td>Shoppe Nikah Salonu Korona Sebebiyle Kına Orga...</td>\n",
       "      <td>15</td>\n",
       "    </tr>\n",
       "    <tr>\n",
       "      <th>431304</th>\n",
       "      <td>Ziraat Bankası Temel İhtiyaç Kredisi Sonuçları...</td>\n",
       "      <td>1</td>\n",
       "    </tr>\n",
       "    <tr>\n",
       "      <th>431305</th>\n",
       "      <td>Cinema Pink Seans Saati Sorunu,\"Bugün saat 22:...</td>\n",
       "      <td>15</td>\n",
       "    </tr>\n",
       "  </tbody>\n",
       "</table>\n",
       "<p>431306 rows × 2 columns</p>\n",
       "</div>"
      ],
      "text/plain": [
       "                                                     text  label\n",
       "0       Ferhat Şenol Avukatlık Saygısızlık!,\"0 232 287...     26\n",
       "1       Cinemaximum Ve Sinemia Haksızlığı!,\"[xxx] PNR ...     15\n",
       "2       İstwest Yönetimi Çok Kötü!,Kentsel yönetimin i...     31\n",
       "3       Prestij Halı Yıkama Ankara Gölbaşı , Halımı Ya...     25\n",
       "4       Danone Hayat İçecek Vodafone Su Kampanyası,Dün...     16\n",
       "...                                                   ...    ...\n",
       "431301  Arzum Kalitesizliği,Arzum marka ütüyü Bursa Fu...     12\n",
       "431302  Allianz Sigorta Diye  Sigorta Şirketinin Yalnı...     18\n",
       "431303  Shoppe Nikah Salonu Korona Sebebiyle Kına Orga...     15\n",
       "431304  Ziraat Bankası Temel İhtiyaç Kredisi Sonuçları...      1\n",
       "431305  Cinema Pink Seans Saati Sorunu,\"Bugün saat 22:...     15\n",
       "\n",
       "[431306 rows x 2 columns]"
      ]
     },
     "metadata": {},
     "output_type": "display_data"
    }
   ],
   "source": [
    "from datasets import load_dataset\n",
    "import pandas as pd\n",
    "\n",
    "tc32 = pd.read_csv(\"../Data/TC32/ticaret-yorum.csv\")\n",
    "\n",
    "text_labels = ['kamu-hizmetleri', 'finans', 'cep-telefon-kategori', 'enerji', 'ulasim', 'kargo-nakliyat', 'medya', 'mutfak-arac-gerec', \n",
    "               'alisveris', 'mekan-ve-eglence', 'elektronik', 'beyaz-esya', 'kucuk-ev-aletleri', 'internet', 'giyim', 'etkinlik-ve-organizasyon', \n",
    "               'icecek', 'saglik', 'sigortacilik', 'spor', 'mobilya-ev-tekstili', 'otomotiv', 'turizm', 'egitim', 'gida', 'temizlik', 'hizmet-sektoru', \n",
    "               'mucevher-saat-gozluk', 'bilgisayar', 'kisisel-bakim-ve-kozmetik', 'anne-bebek', 'emlak-ve-insaat']\n",
    "\n",
    "int_labels = list(range(32))\n",
    "\n",
    "tc32 = tc32.rename(columns={'category': 'label'})\n",
    "\n",
    "# Change order of columns\n",
    "tc32 = tc32[['text', 'label']]\n",
    "\n",
    "label_mapping = dict(zip(text_labels, int_labels))\n",
    "tc32['label'] = tc32['label'].map(label_mapping)\n",
    "\n",
    "# Shuffle dataset\n",
    "tc32 = tc32.sample(frac=1, random_state=42).reset_index(drop=True)\n",
    "\n",
    "display(tc32)"
   ]
  },
  {
   "cell_type": "code",
   "execution_count": 2,
   "id": "6e258afd-7150-40f7-ac64-1c6e5b296e72",
   "metadata": {
    "execution": {
     "iopub.execute_input": "2024-03-10T09:49:42.135088Z",
     "iopub.status.busy": "2024-03-10T09:49:42.135088Z",
     "iopub.status.idle": "2024-03-10T09:51:42.030596Z",
     "shell.execute_reply": "2024-03-10T09:51:42.029571Z",
     "shell.execute_reply.started": "2024-03-10T09:49:42.135088Z"
    }
   },
   "outputs": [
    {
     "name": "stdout",
     "output_type": "stream",
     "text": [
      "\n",
      "Analysis of TC 32 Dataset\n",
      "\n"
     ]
    },
    {
     "data": {
      "image/png": "[encoded data removed]",
      "text/plain": [
       "<Figure size 1200x400 with 1 Axes>"
      ]
     },
     "metadata": {},
     "output_type": "display_data"
    },
    {
     "name": "stdout",
     "output_type": "stream",
     "text": [
      "\n",
      "Statistical measures for input text (character-level):\n",
      "\n"
     ]
    },
    {
     "data": {
      "text/html": [
       "<div>\n",
       "<style scoped>\n",
       "    .dataframe tbody tr th:only-of-type {\n",
       "        vertical-align: middle;\n",
       "    }\n",
       "\n",
       "    .dataframe tbody tr th {\n",
       "        vertical-align: top;\n",
       "    }\n",
       "\n",
       "    .dataframe thead th {\n",
       "        text-align: right;\n",
       "    }\n",
       "</style>\n",
       "<table border=\"1\" class=\"dataframe\">\n",
       "  <thead>\n",
       "    <tr style=\"text-align: right;\">\n",
       "      <th></th>\n",
       "      <th>text</th>\n",
       "    </tr>\n",
       "  </thead>\n",
       "  <tbody>\n",
       "    <tr>\n",
       "      <th>count</th>\n",
       "      <td>80000.00</td>\n",
       "    </tr>\n",
       "    <tr>\n",
       "      <th>mean</th>\n",
       "      <td>332.02</td>\n",
       "    </tr>\n",
       "    <tr>\n",
       "      <th>std</th>\n",
       "      <td>54.08</td>\n",
       "    </tr>\n",
       "    <tr>\n",
       "      <th>min</th>\n",
       "      <td>32.00</td>\n",
       "    </tr>\n",
       "    <tr>\n",
       "      <th>25%</th>\n",
       "      <td>323.00</td>\n",
       "    </tr>\n",
       "    <tr>\n",
       "      <th>50%</th>\n",
       "      <td>349.00</td>\n",
       "    </tr>\n",
       "    <tr>\n",
       "      <th>75%</th>\n",
       "      <td>362.00</td>\n",
       "    </tr>\n",
       "    <tr>\n",
       "      <th>max</th>\n",
       "      <td>796.00</td>\n",
       "    </tr>\n",
       "  </tbody>\n",
       "</table>\n",
       "</div>"
      ],
      "text/plain": [
       "           text\n",
       "count  80000.00\n",
       "mean     332.02\n",
       "std       54.08\n",
       "min       32.00\n",
       "25%      323.00\n",
       "50%      349.00\n",
       "75%      362.00\n",
       "max      796.00"
      ]
     },
     "metadata": {},
     "output_type": "display_data"
    },
    {
     "data": {
      "image/png": "[encoded data removed]",
      "text/plain": [
       "<Figure size 800x400 with 1 Axes>"
      ]
     },
     "metadata": {},
     "output_type": "display_data"
    },
    {
     "name": "stdout",
     "output_type": "stream",
     "text": [
      "Statistical measures for input text (word-level):\n",
      "\n"
     ]
    },
    {
     "data": {
      "text/html": [
       "<div>\n",
       "<style scoped>\n",
       "    .dataframe tbody tr th:only-of-type {\n",
       "        vertical-align: middle;\n",
       "    }\n",
       "\n",
       "    .dataframe tbody tr th {\n",
       "        vertical-align: top;\n",
       "    }\n",
       "\n",
       "    .dataframe thead th {\n",
       "        text-align: right;\n",
       "    }\n",
       "</style>\n",
       "<table border=\"1\" class=\"dataframe\">\n",
       "  <thead>\n",
       "    <tr style=\"text-align: right;\">\n",
       "      <th></th>\n",
       "      <th>text</th>\n",
       "    </tr>\n",
       "  </thead>\n",
       "  <tbody>\n",
       "    <tr>\n",
       "      <th>count</th>\n",
       "      <td>80000.00</td>\n",
       "    </tr>\n",
       "    <tr>\n",
       "      <th>mean</th>\n",
       "      <td>44.43</td>\n",
       "    </tr>\n",
       "    <tr>\n",
       "      <th>std</th>\n",
       "      <td>8.06</td>\n",
       "    </tr>\n",
       "    <tr>\n",
       "      <th>min</th>\n",
       "      <td>4.00</td>\n",
       "    </tr>\n",
       "    <tr>\n",
       "      <th>25%</th>\n",
       "      <td>42.00</td>\n",
       "    </tr>\n",
       "    <tr>\n",
       "      <th>50%</th>\n",
       "      <td>46.00</td>\n",
       "    </tr>\n",
       "    <tr>\n",
       "      <th>75%</th>\n",
       "      <td>49.00</td>\n",
       "    </tr>\n",
       "    <tr>\n",
       "      <th>max</th>\n",
       "      <td>98.00</td>\n",
       "    </tr>\n",
       "  </tbody>\n",
       "</table>\n",
       "</div>"
      ],
      "text/plain": [
       "           text\n",
       "count  80000.00\n",
       "mean      44.43\n",
       "std        8.06\n",
       "min        4.00\n",
       "25%       42.00\n",
       "50%       46.00\n",
       "75%       49.00\n",
       "max       98.00"
      ]
     },
     "metadata": {},
     "output_type": "display_data"
    },
    {
     "data": {
      "image/png": "[encoded data removed]",
      "text/plain": [
       "<Figure size 800x400 with 1 Axes>"
      ]
     },
     "metadata": {},
     "output_type": "display_data"
    }
   ],
   "source": [
    "import sys\n",
    "sys.path.append(\"../Helper_Functions/\")\n",
    "\n",
    "from general_utils import analyze_dataset \n",
    "\n",
    "analyze_dataset(tc32[:80000], \n",
    "                (12, 4), (8, 4), (8, 4), \n",
    "                0.1, 0.09,\n",
    "                0.1, 0.09,\n",
    "                'limegreen', 'TC 32',\n",
    "               rotation=80)"
   ]
  },
  {
   "cell_type": "markdown",
   "id": "b0b9cbef-952d-4741-9281-d6902cdfdf68",
   "metadata": {},
   "source": [
    "## Fine Tune"
   ]
  },
  {
   "cell_type": "code",
   "execution_count": 1,
   "id": "b83c8c97-5c0c-4951-b5ae-f9e52607c61d",
   "metadata": {
    "execution": {
     "iopub.execute_input": "2024-01-28T06:31:20.282253Z",
     "iopub.status.busy": "2024-01-28T06:31:20.281255Z",
     "iopub.status.idle": "2024-01-28T06:31:24.063548Z",
     "shell.execute_reply": "2024-01-28T06:31:24.062687Z",
     "shell.execute_reply.started": "2024-01-28T06:31:20.282253Z"
    }
   },
   "outputs": [],
   "source": [
    "import torch\n",
    "import pandas as pd\n",
    "\n",
    "device = torch.device(\"cuda\") if torch.cuda.is_available() else torch.device(\"cpu\")"
   ]
  },
  {
   "cell_type": "markdown",
   "id": "39a89149-4beb-4f15-97d8-dd4e2855a91f",
   "metadata": {
    "jp-MarkdownHeadingCollapsed": true
   },
   "source": [
    "### Preprocess Dataset"
   ]
  },
  {
   "cell_type": "code",
   "execution_count": 2,
   "id": "f595ccbb-c3f2-47ac-819d-49b8ee8710dd",
   "metadata": {
    "execution": {
     "iopub.execute_input": "2024-01-28T06:34:15.648968Z",
     "iopub.status.busy": "2024-01-28T06:34:15.648968Z",
     "iopub.status.idle": "2024-01-28T06:34:15.658449Z",
     "shell.execute_reply": "2024-01-28T06:34:15.657452Z",
     "shell.execute_reply.started": "2024-01-28T06:34:15.648968Z"
    }
   },
   "outputs": [
    {
     "name": "stdout",
     "output_type": "stream",
     "text": [
      "{0: 'kamu-hizmetleri', 1: 'finans', 2: 'cep-telefon-kategori', 3: 'enerji', 4: 'ulasim', 5: 'kargo-nakliyat', 6: 'medya', 7: 'mutfak-arac-gerec', 8: 'alisveris', 9: 'mekan-ve-eglence', 10: 'elektronik', 11: 'beyaz-esya', 12: 'kucuk-ev-aletleri', 13: 'internet', 14: 'giyim', 15: 'etkinlik-ve-organizasyon', 16: 'icecek', 17: 'saglik', 18: 'sigortacilik', 19: 'spor', 20: 'mobilya-ev-tekstili', 21: 'otomotiv', 22: 'turizm', 23: 'egitim', 24: 'gida', 25: 'temizlik', 26: 'hizmet-sektoru', 27: 'mucevher-saat-gozluk', 28: 'bilgisayar', 29: 'kisisel-bakim-ve-kozmetik', 30: 'anne-bebek', 31: 'emlak-ve-insaat'}\n",
      "\n",
      "{'kamu-hizmetleri': 0, 'finans': 1, 'cep-telefon-kategori': 2, 'enerji': 3, 'ulasim': 4, 'kargo-nakliyat': 5, 'medya': 6, 'mutfak-arac-gerec': 7, 'alisveris': 8, 'mekan-ve-eglence': 9, 'elektronik': 10, 'beyaz-esya': 11, 'kucuk-ev-aletleri': 12, 'internet': 13, 'giyim': 14, 'etkinlik-ve-organizasyon': 15, 'icecek': 16, 'saglik': 17, 'sigortacilik': 18, 'spor': 19, 'mobilya-ev-tekstili': 20, 'otomotiv': 21, 'turizm': 22, 'egitim': 23, 'gida': 24, 'temizlik': 25, 'hizmet-sektoru': 26, 'mucevher-saat-gozluk': 27, 'bilgisayar': 28, 'kisisel-bakim-ve-kozmetik': 29, 'anne-bebek': 30, 'emlak-ve-insaat': 31}\n"
     ]
    }
   ],
   "source": [
    "text_labels = ['kamu-hizmetleri', 'finans', 'cep-telefon-kategori', 'enerji', 'ulasim', 'kargo-nakliyat', 'medya', 'mutfak-arac-gerec', \n",
    "               'alisveris', 'mekan-ve-eglence', 'elektronik', 'beyaz-esya', 'kucuk-ev-aletleri', 'internet', 'giyim', 'etkinlik-ve-organizasyon', \n",
    "               'icecek', 'saglik', 'sigortacilik', 'spor', 'mobilya-ev-tekstili', 'otomotiv', 'turizm', 'egitim', 'gida', 'temizlik', 'hizmet-sektoru', \n",
    "               'mucevher-saat-gozluk', 'bilgisayar', 'kisisel-bakim-ve-kozmetik', 'anne-bebek', 'emlak-ve-insaat']\n",
    "\n",
    "int_labels = list(range(32))\n",
    "num_labels = len(text_labels)\n",
    "\n",
    "id2label = dict(zip(int_labels, text_labels))\n",
    "label2id = dict(zip(text_labels, int_labels))\n",
    "\n",
    "print(id2label, label2id, sep=\"\\n\\n\")"
   ]
  },
  {
   "cell_type": "code",
   "execution_count": 6,
   "id": "964fc250-af28-403c-9c86-6ac8c0fb735b",
   "metadata": {
    "execution": {
     "iopub.execute_input": "2024-01-21T16:49:52.637111Z",
     "iopub.status.busy": "2024-01-21T16:49:52.636114Z",
     "iopub.status.idle": "2024-01-21T16:49:52.729470Z",
     "shell.execute_reply": "2024-01-21T16:49:52.729470Z",
     "shell.execute_reply.started": "2024-01-21T16:49:52.636114Z"
    }
   },
   "outputs": [],
   "source": [
    "# from sklearn.utils import resample\n",
    "# from sklearn.model_selection import train_test_split\n",
    "\n",
    "# # Train %70, Val %15 and Test %15\n",
    "# tc32_train, tc32_test = train_test_split(tc32, test_size=0.3, random_state=42)\n",
    "# tc32_val, tc32_test = train_test_split(tc32_test, test_size=0.5, random_state=42)"
   ]
  },
  {
   "cell_type": "code",
   "execution_count": 7,
   "id": "c31ca564-33bc-43ea-9bd7-453a022de086",
   "metadata": {
    "execution": {
     "iopub.execute_input": "2024-01-21T16:49:54.134781Z",
     "iopub.status.busy": "2024-01-21T16:49:54.133750Z",
     "iopub.status.idle": "2024-01-21T16:49:54.319724Z",
     "shell.execute_reply": "2024-01-21T16:49:54.319724Z",
     "shell.execute_reply.started": "2024-01-21T16:49:54.134781Z"
    }
   },
   "outputs": [],
   "source": [
    "# def undersample_data(data, samples_per_class, random_state=42):\n",
    "    \n",
    "#     undersampled_data = pd.DataFrame()\n",
    "    \n",
    "#     for label in data['label'].unique():\n",
    "#         class_samples = data[data['label'] == label]\n",
    "#         undersampled_class = resample(class_samples, replace=False, n_samples=samples_per_class, random_state=random_state)\n",
    "        \n",
    "#         undersampled_data = pd.concat([undersampled_data, undersampled_class])\n",
    "\n",
    "#     return undersampled_data\n",
    "\n",
    "# samples_per_class_train = 1000\n",
    "# samples_per_class_val = 300\n",
    "# samples_per_class_test = 300\n",
    "\n",
    "# tc32_train = undersample_data(tc32_train, samples_per_class_train)\n",
    "# tc32_val = undersample_data(tc32_val, samples_per_class_val)\n",
    "# tc32_test = undersample_data(tc32_test, samples_per_class_test)  \n",
    "\n",
    "# # Shuffle the undersampled sets\n",
    "# tc32_train = tc32_train.sample(frac=1, random_state=42).reset_index(drop=True)\n",
    "# tc32_val = tc32_val.sample(frac=1, random_state=42).reset_index(drop=True)\n",
    "# tc32_test = tc32_test.sample(frac=1, random_state=42).reset_index(drop=True)\n",
    "\n",
    "# tc32_train.to_csv(\"../Data/TC32/tc32_train_undersampled.csv\", index=False)\n",
    "# tc32_val.to_csv(\"../Data/TC32/tc32_val_undersampled.csv\", index=False)\n",
    "# tc32_test.to_csv(\"../Data/TC32/tc32_test_undersampled.csv\", index=False)"
   ]
  },
  {
   "cell_type": "code",
   "execution_count": 4,
   "id": "78937a63-005b-420b-84f6-17b2a5194130",
   "metadata": {
    "execution": {
     "iopub.execute_input": "2024-01-28T06:37:31.363849Z",
     "iopub.status.busy": "2024-01-28T06:37:31.363849Z",
     "iopub.status.idle": "2024-01-28T06:37:31.672118Z",
     "shell.execute_reply": "2024-01-28T06:37:31.672118Z",
     "shell.execute_reply.started": "2024-01-28T06:37:31.363849Z"
    }
   },
   "outputs": [
    {
     "name": "stdout",
     "output_type": "stream",
     "text": [
      "Train set shape      : 32000 32000\n",
      "Validation set shape : 9600 9600\n",
      "Test set shape       : 9600 9600\n"
     ]
    }
   ],
   "source": [
    "tc32_train = pd.read_csv(\"../Data/TC32/tc32_train_undersampled.csv\")\n",
    "tc32_val = pd.read_csv(\"../Data/TC32/tc32_val_undersampled.csv\")\n",
    "tc32_test = pd.read_csv(\"../Data/TC32/tc32_test_undersampled.csv\")\n",
    "\n",
    "X_train = tc32_train['text'].tolist()\n",
    "y_train = tc32_train['label'].tolist()\n",
    "\n",
    "X_val = tc32_val['text'].tolist()\n",
    "y_val = tc32_val['label'].tolist()\n",
    "\n",
    "X_test = tc32_test['text'].tolist()\n",
    "y_test = tc32_test['label'].tolist()\n",
    "\n",
    "print(\"Train set shape      :\", len(X_train), len(y_train))\n",
    "print(\"Validation set shape :\", len(X_val), len(y_val))\n",
    "print(\"Test set shape       :\", len(X_test), len(y_test))"
   ]
  },
  {
   "cell_type": "markdown",
   "id": "35d43eba-7a37-4937-8a6d-10473f935083",
   "metadata": {
    "jp-MarkdownHeadingCollapsed": true
   },
   "source": [
    "### Prepare Training"
   ]
  },
  {
   "cell_type": "code",
   "execution_count": 5,
   "id": "31040130-19a1-4b0c-bc99-23b3d033189a",
   "metadata": {
    "execution": {
     "iopub.execute_input": "2024-01-28T06:37:45.426340Z",
     "iopub.status.busy": "2024-01-28T06:37:45.425351Z",
     "iopub.status.idle": "2024-01-28T06:37:47.532575Z",
     "shell.execute_reply": "2024-01-28T06:37:47.531616Z",
     "shell.execute_reply.started": "2024-01-28T06:37:45.426340Z"
    }
   },
   "outputs": [],
   "source": [
    "from transformers import TrainingArguments, Trainer\n",
    "from sklearn.metrics import accuracy_score, precision_recall_fscore_support\n",
    "import warnings\n",
    "warnings.filterwarnings(\"ignore\", category=FutureWarning)\n",
    "\n",
    "\n",
    "def compute_metrics(preds): \n",
    "    \n",
    "    labels = preds.label_ids \n",
    "    preds = preds.predictions.argmax(-1) \n",
    "    precision, recall, f1, _ = precision_recall_fscore_support(labels, preds, average='macro') \n",
    "    acc = accuracy_score(labels, preds) \n",
    "    \n",
    "    return { \n",
    "        'Accuracy': acc, \n",
    "        'F1': f1, \n",
    "        'Precision': precision, \n",
    "        'Recall': recall \n",
    "    }\n",
    "\n",
    "\n",
    "def predict(model, tokenizer, text):\n",
    "    \n",
    "    inputs = tokenizer(text, padding=True, truncation=True, return_tensors=\"pt\").to(device)\n",
    "    outputs = model(**inputs)\n",
    "    probs = outputs[0].softmax(1)\n",
    "    \n",
    "    return probs, probs.argmax(),model.config.id2label[probs.argmax().item()]"
   ]
  },
  {
   "cell_type": "markdown",
   "id": "cc79abaa-04bc-4495-a0c0-c477379f5d86",
   "metadata": {
    "jp-MarkdownHeadingCollapsed": true
   },
   "source": [
    "### BERTurk"
   ]
  },
  {
   "cell_type": "code",
   "execution_count": 5,
   "id": "dd03ee2a-cc99-495e-9729-61c07484d0a6",
   "metadata": {
    "execution": {
     "iopub.execute_input": "2024-01-21T16:49:50.992631Z",
     "iopub.status.busy": "2024-01-21T16:49:50.991626Z",
     "iopub.status.idle": "2024-01-21T16:49:52.635117Z",
     "shell.execute_reply": "2024-01-21T16:49:52.635117Z",
     "shell.execute_reply.started": "2024-01-21T16:49:50.991626Z"
    }
   },
   "outputs": [
    {
     "name": "stderr",
     "output_type": "stream",
     "text": [
      "Some weights of BertForSequenceClassification were not initialized from the model checkpoint at dbmdz/bert-base-turkish-uncased and are newly initialized: ['classifier.weight', 'classifier.bias']\n",
      "You should probably TRAIN this model on a down-stream task to be able to use it for predictions and inference.\n"
     ]
    }
   ],
   "source": [
    "from transformers import BertTokenizerFast, BertForSequenceClassification\n",
    "\n",
    "tokenizer_bert = BertTokenizerFast.from_pretrained(\"dbmdz/bert-base-turkish-uncased\", max_length=512)\n",
    "model_bert = BertForSequenceClassification.from_pretrained(\"dbmdz/bert-base-turkish-uncased\", num_labels=num_labels, id2label=id2label, label2id=label2id).to(device)"
   ]
  },
  {
   "cell_type": "code",
   "execution_count": 10,
   "id": "095c4cde-893f-4c90-ae0a-f05ade5878f0",
   "metadata": {
    "execution": {
     "iopub.execute_input": "2024-01-21T16:50:19.888164Z",
     "iopub.status.busy": "2024-01-21T16:50:19.888164Z",
     "iopub.status.idle": "2024-01-21T16:50:21.806518Z",
     "shell.execute_reply": "2024-01-21T16:50:21.805522Z",
     "shell.execute_reply.started": "2024-01-21T16:50:19.888164Z"
    }
   },
   "outputs": [],
   "source": [
    "train_encodings = tokenizer_bert(X_train, truncation=True, padding=True)\n",
    "val_encodings  = tokenizer_bert(X_val, truncation=True, padding=True)\n",
    "test_encodings = tokenizer_bert(X_test, truncation=True, padding=True)\n",
    "\n",
    "from torch.utils.data import Dataset\n",
    "\n",
    "class MyDataset(Dataset):\n",
    "    \n",
    "    def __init__(self, encodings, labels):\n",
    "        self.encodings = encodings\n",
    "        self.labels = labels\n",
    "        \n",
    "    def __getitem__(self, idx):\n",
    "        item = {key: torch.tensor(val[idx]) for key, val in self.encodings.items()}\n",
    "        item['labels'] = torch.tensor(self.labels[idx])\n",
    "        return item\n",
    "        \n",
    "    def __len__(self):\n",
    "        return len(self.labels)\n",
    "\n",
    "train_dataset = MyDataset(train_encodings, y_train)\n",
    "val_dataset = MyDataset(val_encodings, y_val)\n",
    "test_dataset = MyDataset(test_encodings, y_test)"
   ]
  },
  {
   "cell_type": "markdown",
   "id": "d5578914-9478-40bd-abef-51594c532f36",
   "metadata": {},
   "source": [
    "#### Train"
   ]
  },
  {
   "cell_type": "code",
   "execution_count": 12,
   "id": "cf0d24d0-bebd-484b-8a4c-abcb199cd5d1",
   "metadata": {
    "execution": {
     "iopub.execute_input": "2024-01-21T16:51:11.831257Z",
     "iopub.status.busy": "2024-01-21T16:51:11.831257Z",
     "iopub.status.idle": "2024-01-21T16:51:11.886581Z",
     "shell.execute_reply": "2024-01-21T16:51:11.885583Z",
     "shell.execute_reply.started": "2024-01-21T16:51:11.831257Z"
    }
   },
   "outputs": [],
   "source": [
    "training_args = TrainingArguments(\n",
    "    output_dir='../Models/berturk_text_classification_fine_tuned_tc32/', \n",
    "    do_train=True,\n",
    "    do_eval=True,\n",
    "    num_train_epochs=3,              \n",
    "    per_device_train_batch_size=16,  \n",
    "    per_device_eval_batch_size=32,\n",
    "    warmup_steps=100,                \n",
    "    weight_decay=0.01,\n",
    "    logging_strategy='steps',              \n",
    "    logging_dir='../Output/BERT_Logs_TC32',            \n",
    "    logging_steps=100,\n",
    "    evaluation_strategy=\"epoch\",\n",
    "    eval_steps=1,\n",
    "    save_strategy=\"epoch\",\n",
    "    save_steps=1,\n",
    "    fp16=True,\n",
    "    load_best_model_at_end=True\n",
    ")\n",
    "\n",
    "trainer_bert = Trainer(\n",
    "    model=model,                    \n",
    "    args=training_args,                 \n",
    "    train_dataset=train_dataset,         \n",
    "    eval_dataset=val_dataset,            \n",
    "    compute_metrics= compute_metrics\n",
    ")"
   ]
  },
  {
   "cell_type": "code",
   "execution_count": 13,
   "id": "2bb63475-47b4-4b92-b614-2b6b68f1eabb",
   "metadata": {
    "execution": {
     "iopub.execute_input": "2024-01-21T16:51:19.839278Z",
     "iopub.status.busy": "2024-01-21T16:51:19.839278Z",
     "iopub.status.idle": "2024-01-21T17:23:21.010442Z",
     "shell.execute_reply": "2024-01-21T17:23:21.009724Z",
     "shell.execute_reply.started": "2024-01-21T16:51:19.839278Z"
    }
   },
   "outputs": [
    {
     "data": {
      "text/html": [
       "\n",
       "    <div>\n",
       "      \n",
       "      <progress value='6000' max='6000' style='width:300px; height:20px; vertical-align: middle;'></progress>\n",
       "      [6000/6000 31:58, Epoch 3/3]\n",
       "    </div>\n",
       "    <table border=\"1\" class=\"dataframe\">\n",
       "  <thead>\n",
       " <tr style=\"text-align: left;\">\n",
       "      <th>Epoch</th>\n",
       "      <th>Training Loss</th>\n",
       "      <th>Validation Loss</th>\n",
       "      <th>Accuracy</th>\n",
       "      <th>F1</th>\n",
       "      <th>Precision</th>\n",
       "      <th>Recall</th>\n",
       "    </tr>\n",
       "  </thead>\n",
       "  <tbody>\n",
       "    <tr>\n",
       "      <td>1</td>\n",
       "      <td>0.267500</td>\n",
       "      <td>0.254258</td>\n",
       "      <td>0.945729</td>\n",
       "      <td>0.945650</td>\n",
       "      <td>0.946100</td>\n",
       "      <td>0.945729</td>\n",
       "    </tr>\n",
       "    <tr>\n",
       "      <td>2</td>\n",
       "      <td>0.122600</td>\n",
       "      <td>0.213617</td>\n",
       "      <td>0.955104</td>\n",
       "      <td>0.955180</td>\n",
       "      <td>0.955471</td>\n",
       "      <td>0.955104</td>\n",
       "    </tr>\n",
       "    <tr>\n",
       "      <td>3</td>\n",
       "      <td>0.038400</td>\n",
       "      <td>0.213452</td>\n",
       "      <td>0.959167</td>\n",
       "      <td>0.959162</td>\n",
       "      <td>0.959306</td>\n",
       "      <td>0.959167</td>\n",
       "    </tr>\n",
       "  </tbody>\n",
       "</table><p>"
      ],
      "text/plain": [
       "<IPython.core.display.HTML object>"
      ]
     },
     "metadata": {},
     "output_type": "display_data"
    },
    {
     "data": {
      "text/plain": [
       "TrainOutput(global_step=6000, training_loss=0.24694098095099132, metrics={'train_runtime': 1919.3174, 'train_samples_per_second': 50.018, 'train_steps_per_second': 3.126, 'total_flos': 7846111180800000.0, 'train_loss': 0.24694098095099132, 'epoch': 3.0})"
      ]
     },
     "execution_count": 13,
     "metadata": {},
     "output_type": "execute_result"
    }
   ],
   "source": [
    "trainer_bert.train()"
   ]
  },
  {
   "cell_type": "markdown",
   "id": "642b8687-467a-4a4c-8165-fd53aa3e1287",
   "metadata": {},
   "source": [
    "#### Evaluate"
   ]
  },
  {
   "cell_type": "code",
   "execution_count": 14,
   "id": "053b9b68-9ed6-4c28-b01b-0ca1782a10bd",
   "metadata": {
    "execution": {
     "iopub.execute_input": "2024-01-21T17:23:21.015429Z",
     "iopub.status.busy": "2024-01-21T17:23:21.014431Z",
     "iopub.status.idle": "2024-01-21T17:26:15.172259Z",
     "shell.execute_reply": "2024-01-21T17:26:15.172259Z",
     "shell.execute_reply.started": "2024-01-21T17:23:21.015429Z"
    }
   },
   "outputs": [
    {
     "data": {
      "text/html": [
       "\n",
       "    <div>\n",
       "      \n",
       "      <progress value='1600' max='1000' style='width:300px; height:20px; vertical-align: middle;'></progress>\n",
       "      [1000/1000 02:53]\n",
       "    </div>\n",
       "    "
      ],
      "text/plain": [
       "<IPython.core.display.HTML object>"
      ]
     },
     "metadata": {},
     "output_type": "display_data"
    },
    {
     "data": {
      "text/html": [
       "<div>\n",
       "<style scoped>\n",
       "    .dataframe tbody tr th:only-of-type {\n",
       "        vertical-align: middle;\n",
       "    }\n",
       "\n",
       "    .dataframe tbody tr th {\n",
       "        vertical-align: top;\n",
       "    }\n",
       "\n",
       "    .dataframe thead th {\n",
       "        text-align: right;\n",
       "    }\n",
       "</style>\n",
       "<table border=\"1\" class=\"dataframe\">\n",
       "  <thead>\n",
       "    <tr style=\"text-align: right;\">\n",
       "      <th></th>\n",
       "      <th>eval_loss</th>\n",
       "      <th>eval_Accuracy</th>\n",
       "      <th>eval_F1</th>\n",
       "      <th>eval_Precision</th>\n",
       "      <th>eval_Recall</th>\n",
       "    </tr>\n",
       "  </thead>\n",
       "  <tbody>\n",
       "    <tr>\n",
       "      <th>train</th>\n",
       "      <td>0.025619</td>\n",
       "      <td>0.994344</td>\n",
       "      <td>0.994343</td>\n",
       "      <td>0.994352</td>\n",
       "      <td>0.994344</td>\n",
       "    </tr>\n",
       "    <tr>\n",
       "      <th>val</th>\n",
       "      <td>0.213452</td>\n",
       "      <td>0.959167</td>\n",
       "      <td>0.959162</td>\n",
       "      <td>0.959306</td>\n",
       "      <td>0.959167</td>\n",
       "    </tr>\n",
       "    <tr>\n",
       "      <th>test</th>\n",
       "      <td>0.223776</td>\n",
       "      <td>0.959583</td>\n",
       "      <td>0.959559</td>\n",
       "      <td>0.959703</td>\n",
       "      <td>0.959583</td>\n",
       "    </tr>\n",
       "  </tbody>\n",
       "</table>\n",
       "</div>"
      ],
      "text/plain": [
       "       eval_loss  eval_Accuracy   eval_F1  eval_Precision  eval_Recall\n",
       "train   0.025619       0.994344  0.994343        0.994352     0.994344\n",
       "val     0.213452       0.959167  0.959162        0.959306     0.959167\n",
       "test    0.223776       0.959583  0.959559        0.959703     0.959583"
      ]
     },
     "execution_count": 14,
     "metadata": {},
     "output_type": "execute_result"
    }
   ],
   "source": [
    "result = [trainer_bert.evaluate(eval_dataset=data) for data in [train_dataset, val_dataset, test_dataset]]\n",
    "pd.DataFrame(result, index=[\"train\", \"val\", \"test\"]).iloc[:,:5]"
   ]
  },
  {
   "cell_type": "code",
   "execution_count": 15,
   "id": "8f8f110d-6cfd-4c91-b48b-68f8f5ba0134",
   "metadata": {
    "execution": {
     "iopub.execute_input": "2024-01-21T17:26:15.173245Z",
     "iopub.status.busy": "2024-01-21T17:26:15.173245Z",
     "iopub.status.idle": "2024-01-21T17:26:15.344671Z",
     "shell.execute_reply": "2024-01-21T17:26:15.343675Z",
     "shell.execute_reply.started": "2024-01-21T17:26:15.173245Z"
    }
   },
   "outputs": [
    {
     "data": {
      "text/plain": [
       "tensor([[2.4394e-05, 2.6776e-04, 1.3039e-01, 3.1445e-05, 1.5253e-04, 1.1558e-04,\n",
       "         4.5237e-04, 2.3371e-04, 8.0479e-03, 1.1536e-04, 5.9574e-03, 2.8915e-04,\n",
       "         1.6662e-04, 3.5922e-03, 2.5407e-04, 4.5976e-05, 1.2794e-04, 9.2422e-05,\n",
       "         2.0731e-04, 7.2401e-05, 3.5025e-04, 2.3440e-04, 3.7856e-05, 7.8976e-05,\n",
       "         1.5930e-04, 1.2449e-04, 6.7288e-05, 6.5387e-04, 8.4696e-01, 1.6752e-04,\n",
       "         4.6982e-04, 5.2200e-05]], device='cuda:0', grad_fn=<SoftmaxBackward0>)"
      ]
     },
     "execution_count": 15,
     "metadata": {},
     "output_type": "execute_result"
    }
   ],
   "source": [
    "text = \"Teknoloji mağazasından aldığım ürün sağlığımı yerle bir edip günlük hayatımız zora soktu!\"\n",
    "predict(text)[0]"
   ]
  },
  {
   "cell_type": "markdown",
   "id": "074e1432-9b4e-4a9d-8b09-ede9a0b5c65e",
   "metadata": {},
   "source": [
    "#### Save Model"
   ]
  },
  {
   "cell_type": "code",
   "execution_count": 16,
   "id": "2d3e96af-2ccf-4500-a858-d28077135eac",
   "metadata": {
    "execution": {
     "iopub.execute_input": "2024-01-21T17:26:15.346665Z",
     "iopub.status.busy": "2024-01-21T17:26:15.346665Z",
     "iopub.status.idle": "2024-01-21T17:26:16.056218Z",
     "shell.execute_reply": "2024-01-21T17:26:16.056218Z",
     "shell.execute_reply.started": "2024-01-21T17:26:15.346665Z"
    }
   },
   "outputs": [
    {
     "data": {
      "text/plain": [
       "('bert_text_classification_fine_tuned_tc32\\\\tokenizer_config.json',\n",
       " 'bert_text_classification_fine_tuned_tc32\\\\special_tokens_map.json',\n",
       " 'bert_text_classification_fine_tuned_tc32\\\\vocab.txt',\n",
       " 'bert_text_classification_fine_tuned_tc32\\\\added_tokens.json',\n",
       " 'bert_text_classification_fine_tuned_tc32\\\\tokenizer.json')"
      ]
     },
     "execution_count": 16,
     "metadata": {},
     "output_type": "execute_result"
    }
   ],
   "source": [
    "model_path = \"berturk_text_classification_fine_tuned_tc32\"\n",
    "\n",
    "trainer_bert.save_model(model_path)\n",
    "tokenizer_bert.save_pretrained(model_path)"
   ]
  },
  {
   "cell_type": "markdown",
   "id": "986f2c6c-5de6-4c4f-b2f8-1de194612d51",
   "metadata": {
    "jp-MarkdownHeadingCollapsed": true
   },
   "source": [
    "### TurkishBERTweet"
   ]
  },
  {
   "cell_type": "code",
   "execution_count": 6,
   "id": "4b6a6f34-269b-42f8-a33c-4c9866a7dc0e",
   "metadata": {
    "execution": {
     "iopub.execute_input": "2024-01-28T06:37:59.167775Z",
     "iopub.status.busy": "2024-01-28T06:37:59.166784Z",
     "iopub.status.idle": "2024-01-28T06:38:01.487249Z",
     "shell.execute_reply": "2024-01-28T06:38:01.487249Z",
     "shell.execute_reply.started": "2024-01-28T06:37:59.167775Z"
    }
   },
   "outputs": [
    {
     "name": "stderr",
     "output_type": "stream",
     "text": [
      "Some weights of RobertaForSequenceClassification were not initialized from the model checkpoint at VRLLab/TurkishBERTweet and are newly initialized: ['classifier.dense.bias', 'classifier.out_proj.weight', 'classifier.dense.weight', 'classifier.out_proj.bias']\n",
      "You should probably TRAIN this model on a down-stream task to be able to use it for predictions and inference.\n"
     ]
    }
   ],
   "source": [
    "from transformers import AutoTokenizer, AutoModelForSequenceClassification\n",
    "\n",
    "tokenizer_tbt = AutoTokenizer.from_pretrained(\"VRLLab/TurkishBERTweet\", max_length=128)\n",
    "model_tbt = AutoModelForSequenceClassification.from_pretrained(\"VRLLab/TurkishBERTweet\", num_labels=num_labels, id2label=id2label, label2id=label2id)"
   ]
  },
  {
   "cell_type": "code",
   "execution_count": 7,
   "id": "cf79b7a0-9c21-4d96-bbb2-796c13cda33b",
   "metadata": {
    "execution": {
     "iopub.execute_input": "2024-01-28T06:38:10.939792Z",
     "iopub.status.busy": "2024-01-28T06:38:10.938793Z",
     "iopub.status.idle": "2024-01-28T06:38:12.974075Z",
     "shell.execute_reply": "2024-01-28T06:38:12.974075Z",
     "shell.execute_reply.started": "2024-01-28T06:38:10.939792Z"
    }
   },
   "outputs": [],
   "source": [
    "train_encodings = tokenizer_tbt(X_train, truncation=True, padding=True, max_length=128)\n",
    "val_encodings  = tokenizer_tbt(X_val, truncation=True, padding=True, max_length=128)\n",
    "test_encodings = tokenizer_tbt(X_test, truncation=True, padding=True, max_length=128)\n",
    "\n",
    "from torch.utils.data import Dataset\n",
    "\n",
    "class MyDataset(Dataset):\n",
    "    \n",
    "    def __init__(self, encodings, labels):\n",
    "        self.encodings = encodings\n",
    "        self.labels = labels\n",
    "        \n",
    "    def __getitem__(self, idx):\n",
    "        item = {key: torch.tensor(val[idx]) for key, val in self.encodings.items()}\n",
    "        item['labels'] = torch.tensor(self.labels[idx])\n",
    "        return item\n",
    "        \n",
    "    def __len__(self):\n",
    "        return len(self.labels)\n",
    "\n",
    "train_dataset = MyDataset(train_encodings, y_train)\n",
    "val_dataset = MyDataset(val_encodings, y_val)\n",
    "test_dataset = MyDataset(test_encodings, y_test)"
   ]
  },
  {
   "cell_type": "markdown",
   "id": "d8759735-d00e-4e84-8b3c-12f9d59d7c65",
   "metadata": {},
   "source": [
    "#### Train"
   ]
  },
  {
   "cell_type": "code",
   "execution_count": 8,
   "id": "52233541-1e8d-4d78-8acb-1644fda1f10b",
   "metadata": {
    "execution": {
     "iopub.execute_input": "2024-01-28T06:38:55.502524Z",
     "iopub.status.busy": "2024-01-28T06:38:55.501518Z",
     "iopub.status.idle": "2024-01-28T06:38:56.327161Z",
     "shell.execute_reply": "2024-01-28T06:38:56.326202Z",
     "shell.execute_reply.started": "2024-01-28T06:38:55.502524Z"
    }
   },
   "outputs": [],
   "source": [
    "training_args = TrainingArguments(\n",
    "    output_dir='../Models/turkishbertweet_text_classification_fine_tuned_tc32/', \n",
    "    do_train=True,\n",
    "    do_eval=True,\n",
    "    num_train_epochs=3,              \n",
    "    per_device_train_batch_size=16,  \n",
    "    per_device_eval_batch_size=32,\n",
    "    warmup_steps=100,                \n",
    "    weight_decay=0.01,\n",
    "    logging_strategy='steps',              \n",
    "    logging_dir='../Output/TBT_Logs_TC32',            \n",
    "    logging_steps=100,\n",
    "    evaluation_strategy=\"epoch\",\n",
    "    eval_steps=1,\n",
    "    save_strategy=\"epoch\",\n",
    "    save_steps=1,\n",
    "    fp16=True,\n",
    "    load_best_model_at_end=True\n",
    ")\n",
    "\n",
    "trainer_tbt = Trainer(\n",
    "    model=model_tbt,                    \n",
    "    args=training_args,                 \n",
    "    train_dataset=train_dataset,         \n",
    "    eval_dataset=val_dataset,            \n",
    "    compute_metrics= compute_metrics\n",
    ")"
   ]
  },
  {
   "cell_type": "code",
   "execution_count": 9,
   "id": "37c28c97-f4b2-49c8-b74e-ccec9408ca0b",
   "metadata": {
    "execution": {
     "iopub.execute_input": "2024-01-28T06:39:05.765866Z",
     "iopub.status.busy": "2024-01-28T06:39:05.765866Z",
     "iopub.status.idle": "2024-01-28T07:03:54.895719Z",
     "shell.execute_reply": "2024-01-28T07:03:54.894708Z",
     "shell.execute_reply.started": "2024-01-28T06:39:05.765866Z"
    }
   },
   "outputs": [
    {
     "data": {
      "text/html": [
       "\n",
       "    <div>\n",
       "      \n",
       "      <progress value='6000' max='6000' style='width:300px; height:20px; vertical-align: middle;'></progress>\n",
       "      [6000/6000 24:48, Epoch 3/3]\n",
       "    </div>\n",
       "    <table border=\"1\" class=\"dataframe\">\n",
       "  <thead>\n",
       " <tr style=\"text-align: left;\">\n",
       "      <th>Epoch</th>\n",
       "      <th>Training Loss</th>\n",
       "      <th>Validation Loss</th>\n",
       "      <th>Accuracy</th>\n",
       "      <th>F1</th>\n",
       "      <th>Precision</th>\n",
       "      <th>Recall</th>\n",
       "    </tr>\n",
       "  </thead>\n",
       "  <tbody>\n",
       "    <tr>\n",
       "      <td>1</td>\n",
       "      <td>0.496000</td>\n",
       "      <td>0.436017</td>\n",
       "      <td>0.899479</td>\n",
       "      <td>0.899533</td>\n",
       "      <td>0.902190</td>\n",
       "      <td>0.899479</td>\n",
       "    </tr>\n",
       "    <tr>\n",
       "      <td>2</td>\n",
       "      <td>0.213900</td>\n",
       "      <td>0.357951</td>\n",
       "      <td>0.924479</td>\n",
       "      <td>0.924986</td>\n",
       "      <td>0.926446</td>\n",
       "      <td>0.924479</td>\n",
       "    </tr>\n",
       "    <tr>\n",
       "      <td>3</td>\n",
       "      <td>0.062700</td>\n",
       "      <td>0.378377</td>\n",
       "      <td>0.933646</td>\n",
       "      <td>0.933520</td>\n",
       "      <td>0.933899</td>\n",
       "      <td>0.933646</td>\n",
       "    </tr>\n",
       "  </tbody>\n",
       "</table><p>"
      ],
      "text/plain": [
       "<IPython.core.display.HTML object>"
      ]
     },
     "metadata": {},
     "output_type": "display_data"
    },
    {
     "data": {
      "text/plain": [
       "TrainOutput(global_step=6000, training_loss=0.41196086168289187, metrics={'train_runtime': 1488.899, 'train_samples_per_second': 64.477, 'train_steps_per_second': 4.03, 'total_flos': 6316366233600000.0, 'train_loss': 0.41196086168289187, 'epoch': 3.0})"
      ]
     },
     "execution_count": 9,
     "metadata": {},
     "output_type": "execute_result"
    }
   ],
   "source": [
    "trainer_tbt.train()"
   ]
  },
  {
   "cell_type": "markdown",
   "id": "67e5d929-91d4-4da5-9ef7-c60cb3fbf90f",
   "metadata": {},
   "source": [
    "#### Evaluate"
   ]
  },
  {
   "cell_type": "code",
   "execution_count": 10,
   "id": "5f25b2d8-fd74-40fe-93a5-f861f856495f",
   "metadata": {
    "execution": {
     "iopub.execute_input": "2024-01-28T07:03:54.896703Z",
     "iopub.status.busy": "2024-01-28T07:03:54.896703Z",
     "iopub.status.idle": "2024-01-28T07:06:17.196024Z",
     "shell.execute_reply": "2024-01-28T07:06:17.195034Z",
     "shell.execute_reply.started": "2024-01-28T07:03:54.896703Z"
    }
   },
   "outputs": [
    {
     "data": {
      "text/html": [
       "\n",
       "    <div>\n",
       "      \n",
       "      <progress value='1600' max='1000' style='width:300px; height:20px; vertical-align: middle;'></progress>\n",
       "      [1000/1000 02:22]\n",
       "    </div>\n",
       "    "
      ],
      "text/plain": [
       "<IPython.core.display.HTML object>"
      ]
     },
     "metadata": {},
     "output_type": "display_data"
    },
    {
     "data": {
      "text/html": [
       "<div>\n",
       "<style scoped>\n",
       "    .dataframe tbody tr th:only-of-type {\n",
       "        vertical-align: middle;\n",
       "    }\n",
       "\n",
       "    .dataframe tbody tr th {\n",
       "        vertical-align: top;\n",
       "    }\n",
       "\n",
       "    .dataframe thead th {\n",
       "        text-align: right;\n",
       "    }\n",
       "</style>\n",
       "<table border=\"1\" class=\"dataframe\">\n",
       "  <thead>\n",
       "    <tr style=\"text-align: right;\">\n",
       "      <th></th>\n",
       "      <th>eval_loss</th>\n",
       "      <th>eval_Accuracy</th>\n",
       "      <th>eval_F1</th>\n",
       "      <th>eval_Precision</th>\n",
       "      <th>eval_Recall</th>\n",
       "    </tr>\n",
       "  </thead>\n",
       "  <tbody>\n",
       "    <tr>\n",
       "      <th>train</th>\n",
       "      <td>0.081182</td>\n",
       "      <td>0.981094</td>\n",
       "      <td>0.981114</td>\n",
       "      <td>0.981260</td>\n",
       "      <td>0.981094</td>\n",
       "    </tr>\n",
       "    <tr>\n",
       "      <th>val</th>\n",
       "      <td>0.357951</td>\n",
       "      <td>0.924479</td>\n",
       "      <td>0.924986</td>\n",
       "      <td>0.926446</td>\n",
       "      <td>0.924479</td>\n",
       "    </tr>\n",
       "    <tr>\n",
       "      <th>test</th>\n",
       "      <td>0.367598</td>\n",
       "      <td>0.924687</td>\n",
       "      <td>0.925039</td>\n",
       "      <td>0.926488</td>\n",
       "      <td>0.924687</td>\n",
       "    </tr>\n",
       "  </tbody>\n",
       "</table>\n",
       "</div>"
      ],
      "text/plain": [
       "       eval_loss  eval_Accuracy   eval_F1  eval_Precision  eval_Recall\n",
       "train   0.081182       0.981094  0.981114        0.981260     0.981094\n",
       "val     0.357951       0.924479  0.924986        0.926446     0.924479\n",
       "test    0.367598       0.924687  0.925039        0.926488     0.924687"
      ]
     },
     "execution_count": 10,
     "metadata": {},
     "output_type": "execute_result"
    }
   ],
   "source": [
    "result = [trainer_tbt.evaluate(eval_dataset=data) for data in [train_dataset, val_dataset, test_dataset]]\n",
    "pd.DataFrame(result, index=[\"train\", \"val\", \"test\"]).iloc[:,:5]"
   ]
  },
  {
   "cell_type": "code",
   "execution_count": 11,
   "id": "72cf09ab-78a6-4d9f-a792-ce3db0c526b2",
   "metadata": {
    "execution": {
     "iopub.execute_input": "2024-01-28T07:06:17.197021Z",
     "iopub.status.busy": "2024-01-28T07:06:17.197021Z",
     "iopub.status.idle": "2024-01-28T07:06:17.381520Z",
     "shell.execute_reply": "2024-01-28T07:06:17.380523Z",
     "shell.execute_reply.started": "2024-01-28T07:06:17.197021Z"
    }
   },
   "outputs": [
    {
     "name": "stderr",
     "output_type": "stream",
     "text": [
      "Asking to truncate to max_length but no maximum length is provided and the model has no predefined maximum length. Default to no truncation.\n"
     ]
    },
    {
     "data": {
      "text/plain": [
       "tensor([[7.7215e-05, 5.9660e-05, 4.7495e-05, 4.5023e-05, 1.9671e-05, 1.4633e-05,\n",
       "         1.6567e-04, 1.3207e-05, 1.2419e-05, 3.0039e-05, 9.9558e-05, 4.6449e-05,\n",
       "         3.4676e-05, 3.3700e-05, 2.6861e-05, 3.5300e-05, 3.9747e-05, 2.8594e-05,\n",
       "         3.8215e-05, 9.9861e-01, 1.3362e-05, 4.8290e-05, 6.0216e-05, 5.8317e-05,\n",
       "         1.1701e-05, 3.6137e-05, 4.5199e-05, 2.0296e-05, 9.2166e-05, 1.5365e-05,\n",
       "         5.2330e-05, 6.4139e-05]], device='cuda:0', grad_fn=<SoftmaxBackward0>)"
      ]
     },
     "execution_count": 11,
     "metadata": {},
     "output_type": "execute_result"
    }
   ],
   "source": [
    "text = \"Fenerbahçeli futbolcular kısa paslarla hazırlık çalışması yaptılar\"\n",
    "predict(model_tbt, tokenizer_tbt, text)[0]"
   ]
  },
  {
   "cell_type": "markdown",
   "id": "51f08347-3432-41ab-85ef-6aa6f998b59e",
   "metadata": {},
   "source": [
    "#### Save Model"
   ]
  },
  {
   "cell_type": "code",
   "execution_count": 12,
   "id": "ff386697-81ec-4118-8466-6c2fce1d26b8",
   "metadata": {
    "execution": {
     "iopub.execute_input": "2024-01-28T07:06:17.385507Z",
     "iopub.status.busy": "2024-01-28T07:06:17.384511Z",
     "iopub.status.idle": "2024-01-28T07:06:18.330322Z",
     "shell.execute_reply": "2024-01-28T07:06:18.329328Z",
     "shell.execute_reply.started": "2024-01-28T07:06:17.385507Z"
    }
   },
   "outputs": [
    {
     "data": {
      "text/plain": [
       "('turkishbertweet_text_classification_fine_tuned_tc32\\\\tokenizer_config.json',\n",
       " 'turkishbertweet_text_classification_fine_tuned_tc32\\\\special_tokens_map.json',\n",
       " 'turkishbertweet_text_classification_fine_tuned_tc32\\\\vocab.json',\n",
       " 'turkishbertweet_text_classification_fine_tuned_tc32\\\\merges.txt',\n",
       " 'turkishbertweet_text_classification_fine_tuned_tc32\\\\added_tokens.json',\n",
       " 'turkishbertweet_text_classification_fine_tuned_tc32\\\\tokenizer.json')"
      ]
     },
     "execution_count": 12,
     "metadata": {},
     "output_type": "execute_result"
    }
   ],
   "source": [
    "model_path = \"turkishbertweet_text_classification_fine_tuned_tc32\"\n",
    "\n",
    "trainer_tbt.save_model(model_path)\n",
    "tokenizer_tbt.save_pretrained(model_path)"
   ]
  }
 ],
 "metadata": {
  "kernelspec": {
   "display_name": "master",
   "language": "python",
   "name": "master"
  },
  "language_info": {
   "codemirror_mode": {
    "name": "ipython",
    "version": 3
   },
   "file_extension": ".py",
   "mimetype": "text/x-python",
   "name": "python",
   "nbconvert_exporter": "python",
   "pygments_lexer": "ipython3",
   "version": "3.10.13"
  }
 },
 "nbformat": 4,
 "nbformat_minor": 5
}
