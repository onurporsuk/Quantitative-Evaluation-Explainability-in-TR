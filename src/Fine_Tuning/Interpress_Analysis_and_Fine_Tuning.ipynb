{
 "cells": [
  {
   "cell_type": "markdown",
   "id": "c34a5ef2-4a57-46ba-a76b-dd8b2109ed79",
   "metadata": {},
   "source": [
    "# Text Classification on Interpress"
   ]
  },
  {
   "cell_type": "markdown",
   "id": "d79fc71b-9a4e-41b8-85d2-4a61690724e1",
   "metadata": {
    "jp-MarkdownHeadingCollapsed": true
   },
   "source": [
    "## Analyze and Preprocess Dataset"
   ]
  },
  {
   "cell_type": "code",
   "execution_count": 1,
   "id": "c690da61-b362-4842-b3f3-1ebc9f782143",
   "metadata": {
    "execution": {
     "iopub.execute_input": "2024-01-21T12:22:15.040799Z",
     "iopub.status.busy": "2024-01-21T12:22:15.039870Z",
     "iopub.status.idle": "2024-01-21T12:22:15.902210Z",
     "shell.execute_reply": "2024-01-21T12:22:15.901287Z",
     "shell.execute_reply.started": "2024-01-21T12:22:15.040799Z"
    }
   },
   "outputs": [
    {
     "name": "stderr",
     "output_type": "stream",
     "text": [
      "[nltk_data] Downloading package stopwords to\n",
      "[nltk_data]     C:\\Users\\onurp\\AppData\\Roaming\\nltk_data...\n",
      "[nltk_data]   Package stopwords is already up-to-date!\n"
     ]
    }
   ],
   "source": [
    "import re\n",
    "from nltk.tokenize import word_tokenize\n",
    "import nltk\n",
    "nltk.download('stopwords')\n",
    "from nltk.corpus import stopwords\n",
    "from tqdm.notebook import tqdm\n",
    "\n",
    "def clean_turkish_text(text):\n",
    "    \n",
    "    # Remove non-alphabetic characters, excluding dots and commas, then tokenize\n",
    "    words = word_tokenize(re.sub(r'[^a-zA-ZığüşöçĞÜŞÖÇ\\s.,]', ' ', text))\n",
    "\n",
    "    # Get Turkish stop words\n",
    "    turkish_stop_words = set(stopwords.words('turkish'))\n",
    "\n",
    "    # Keep only Turkish words that are not stop words\n",
    "    turkish_words = [word for word in words if word.lower() not in turkish_stop_words]\n",
    "\n",
    "    return ' '.join(turkish_words)"
   ]
  },
  {
   "cell_type": "code",
   "execution_count": 6,
   "id": "e28f54c7-6bc7-4333-97f5-a1302063c939",
   "metadata": {
    "collapsed": true,
    "execution": {
     "iopub.execute_input": "2024-01-21T12:35:44.452559Z",
     "iopub.status.busy": "2024-01-21T12:35:44.452559Z",
     "iopub.status.idle": "2024-01-21T12:35:44.486443Z",
     "shell.execute_reply": "2024-01-21T12:35:44.485479Z",
     "shell.execute_reply.started": "2024-01-21T12:35:44.452559Z"
    },
    "jupyter": {
     "outputs_hidden": true
    }
   },
   "outputs": [
    {
     "data": {
      "text/html": [
       "<div>\n",
       "<style scoped>\n",
       "    .dataframe tbody tr th:only-of-type {\n",
       "        vertical-align: middle;\n",
       "    }\n",
       "\n",
       "    .dataframe tbody tr th {\n",
       "        vertical-align: top;\n",
       "    }\n",
       "\n",
       "    .dataframe thead th {\n",
       "        text-align: right;\n",
       "    }\n",
       "</style>\n",
       "<table border=\"1\" class=\"dataframe\">\n",
       "  <thead>\n",
       "    <tr style=\"text-align: right;\">\n",
       "      <th></th>\n",
       "      <th>text</th>\n",
       "      <th>label</th>\n",
       "    </tr>\n",
       "  </thead>\n",
       "  <tbody>\n",
       "    <tr>\n",
       "      <th>0</th>\n",
       "      <td>Tarihten Sınıfta Kaldık Bugün tarihe damgasını...</td>\n",
       "      <td>0</td>\n",
       "    </tr>\n",
       "    <tr>\n",
       "      <th>1</th>\n",
       "      <td>clş yatırım ortamı iyileştiriliyor , bürokrasi...</td>\n",
       "      <td>1</td>\n",
       "    </tr>\n",
       "    <tr>\n",
       "      <th>2</th>\n",
       "      <td>Animasyon meraklıları Yönetmen JenniferYuh Ses...</td>\n",
       "      <td>0</td>\n",
       "    </tr>\n",
       "    <tr>\n",
       "      <th>3</th>\n",
       "      <td>T BEEF JJ SVftSL ff BEEFSFISH KIRMIZI ET N FRA...</td>\n",
       "      <td>0</td>\n",
       "    </tr>\n",
       "    <tr>\n",
       "      <th>4</th>\n",
       "      <td>LPG Dolum Boşaltım kursu KTSO yapıldı Karaman ...</td>\n",
       "      <td>1</td>\n",
       "    </tr>\n",
       "    <tr>\n",
       "      <th>...</th>\n",
       "      <td>...</td>\n",
       "      <td>...</td>\n",
       "    </tr>\n",
       "    <tr>\n",
       "      <th>218875</th>\n",
       "      <td>Begüm Mert Yazıcıoğiu çiftinin ikinci bebekler...</td>\n",
       "      <td>7</td>\n",
       "    </tr>\n",
       "    <tr>\n",
       "      <th>218876</th>\n",
       "      <td>AKRAPOVIC FULL MOON Fiyat açıklanmadı konsept ...</td>\n",
       "      <td>6</td>\n",
       "    </tr>\n",
       "    <tr>\n",
       "      <th>218877</th>\n",
       "      <td>Babil bal Notlar Bugün Şenkaya ilçesine bağlı ...</td>\n",
       "      <td>0</td>\n",
       "    </tr>\n",
       "    <tr>\n",
       "      <th>218878</th>\n",
       "      <td>ÇEVRE STAT ST KLER N N ÖZETLER YAYINLANDI Türk...</td>\n",
       "      <td>1</td>\n",
       "    </tr>\n",
       "    <tr>\n",
       "      <th>218879</th>\n",
       "      <td>Türkiye ninyeni tuzu EFSINA marketierde Krista...</td>\n",
       "      <td>8</td>\n",
       "    </tr>\n",
       "  </tbody>\n",
       "</table>\n",
       "<p>218880 rows × 2 columns</p>\n",
       "</div>"
      ],
      "text/plain": [
       "                                                     text  label\n",
       "0       Tarihten Sınıfta Kaldık Bugün tarihe damgasını...      0\n",
       "1       clş yatırım ortamı iyileştiriliyor , bürokrasi...      1\n",
       "2       Animasyon meraklıları Yönetmen JenniferYuh Ses...      0\n",
       "3       T BEEF JJ SVftSL ff BEEFSFISH KIRMIZI ET N FRA...      0\n",
       "4       LPG Dolum Boşaltım kursu KTSO yapıldı Karaman ...      1\n",
       "...                                                   ...    ...\n",
       "218875  Begüm Mert Yazıcıoğiu çiftinin ikinci bebekler...      7\n",
       "218876  AKRAPOVIC FULL MOON Fiyat açıklanmadı konsept ...      6\n",
       "218877  Babil bal Notlar Bugün Şenkaya ilçesine bağlı ...      0\n",
       "218878  ÇEVRE STAT ST KLER N N ÖZETLER YAYINLANDI Türk...      1\n",
       "218879  Türkiye ninyeni tuzu EFSINA marketierde Krista...      8\n",
       "\n",
       "[218880 rows x 2 columns]"
      ]
     },
     "metadata": {},
     "output_type": "display_data"
    },
    {
     "data": {
      "text/html": [
       "<div>\n",
       "<style scoped>\n",
       "    .dataframe tbody tr th:only-of-type {\n",
       "        vertical-align: middle;\n",
       "    }\n",
       "\n",
       "    .dataframe tbody tr th {\n",
       "        vertical-align: top;\n",
       "    }\n",
       "\n",
       "    .dataframe thead th {\n",
       "        text-align: right;\n",
       "    }\n",
       "</style>\n",
       "<table border=\"1\" class=\"dataframe\">\n",
       "  <thead>\n",
       "    <tr style=\"text-align: right;\">\n",
       "      <th></th>\n",
       "      <th>text</th>\n",
       "      <th>label</th>\n",
       "    </tr>\n",
       "  </thead>\n",
       "  <tbody>\n",
       "    <tr>\n",
       "      <th>0</th>\n",
       "      <td>yıldır yükselen enerji Aygaz TÜRK HALKINI TÜPG...</td>\n",
       "      <td>1</td>\n",
       "    </tr>\n",
       "    <tr>\n",
       "      <th>1</th>\n",
       "      <td>Onur Akyıl Bir insan kadar mutsuzBir insan kad...</td>\n",
       "      <td>0</td>\n",
       "    </tr>\n",
       "    <tr>\n",
       "      <th>2</th>\n",
       "      <td>. yolculuk GÜNEYL SARIŞIN REESE WITHERSPOON Ye...</td>\n",
       "      <td>0</td>\n",
       "    </tr>\n",
       "    <tr>\n",
       "      <th>3</th>\n",
       "      <td>Doğru tercih yapan hiçbir aday açıkta kalmayac...</td>\n",
       "      <td>3</td>\n",
       "    </tr>\n",
       "    <tr>\n",
       "      <th>4</th>\n",
       "      <td>Jong sıraya girdiler SER E A ekiplerinden Mi i...</td>\n",
       "      <td>5</td>\n",
       "    </tr>\n",
       "    <tr>\n",
       "      <th>...</th>\n",
       "      <td>...</td>\n",
       "      <td>...</td>\n",
       "    </tr>\n",
       "    <tr>\n",
       "      <th>54716</th>\n",
       "      <td>SAMBACI JAJA ALKOL ENGEL TAKILDI .m , TRABZONS...</td>\n",
       "      <td>5</td>\n",
       "    </tr>\n",
       "    <tr>\n",
       "      <th>54717</th>\n",
       "      <td>Gıda Tarım Hayvancılık Bakanı Faruk Çelik , ek...</td>\n",
       "      <td>1</td>\n",
       "    </tr>\n",
       "    <tr>\n",
       "      <th>54718</th>\n",
       "      <td>PANORAMA Uftk . Uluslararası Whitley Doğa Koru...</td>\n",
       "      <td>0</td>\n",
       "    </tr>\n",
       "    <tr>\n",
       "      <th>54719</th>\n",
       "      <td>Patates tüketiminin artırılması hedefleniyor A...</td>\n",
       "      <td>1</td>\n",
       "    </tr>\n",
       "    <tr>\n",
       "      <th>54720</th>\n",
       "      <td>N i Z wcT Anka Efsanelerin Uçağı Projeye başla...</td>\n",
       "      <td>9</td>\n",
       "    </tr>\n",
       "  </tbody>\n",
       "</table>\n",
       "<p>54721 rows × 2 columns</p>\n",
       "</div>"
      ],
      "text/plain": [
       "                                                    text  label\n",
       "0      yıldır yükselen enerji Aygaz TÜRK HALKINI TÜPG...      1\n",
       "1      Onur Akyıl Bir insan kadar mutsuzBir insan kad...      0\n",
       "2      . yolculuk GÜNEYL SARIŞIN REESE WITHERSPOON Ye...      0\n",
       "3      Doğru tercih yapan hiçbir aday açıkta kalmayac...      3\n",
       "4      Jong sıraya girdiler SER E A ekiplerinden Mi i...      5\n",
       "...                                                  ...    ...\n",
       "54716  SAMBACI JAJA ALKOL ENGEL TAKILDI .m , TRABZONS...      5\n",
       "54717  Gıda Tarım Hayvancılık Bakanı Faruk Çelik , ek...      1\n",
       "54718  PANORAMA Uftk . Uluslararası Whitley Doğa Koru...      0\n",
       "54719  Patates tüketiminin artırılması hedefleniyor A...      1\n",
       "54720  N i Z wcT Anka Efsanelerin Uçağı Projeye başla...      9\n",
       "\n",
       "[54721 rows x 2 columns]"
      ]
     },
     "metadata": {},
     "output_type": "display_data"
    }
   ],
   "source": [
    "import csv\n",
    "csv.field_size_limit(2**31-1)\n",
    "\n",
    "from datasets import load_dataset\n",
    "import pandas as pd\n",
    "\n",
    "interpress = load_dataset(\"interpress_news_category_tr_lite\")\n",
    "\n",
    "for split in interpress.keys():\n",
    "    \n",
    "    split_data = interpress[split].to_pandas()\n",
    "\n",
    "    # Apply clean_turkish_text() on the 'content' column\n",
    "    tqdm.pandas(desc=f'Cleaning {split} split')\n",
    "    split_data['content'] = split_data['content'].progress_apply(clean_turkish_text)\n",
    "\n",
    "    split_data = split_data.rename(columns={'content': 'text', 'category': 'label'})\n",
    "\n",
    "    interpress[split] = split_data\n",
    "\n",
    "del split_data\n",
    "\n",
    "interpress_train = interpress['train']\n",
    "interpress_test = interpress['test']\n",
    "\n",
    "del interpress\n",
    "\n",
    "display(interpress_train, interpress_test)"
   ]
  },
  {
   "cell_type": "code",
   "execution_count": 7,
   "id": "5cbac76a-a284-4f43-8c3a-c4c5b32ab42b",
   "metadata": {
    "collapsed": true,
    "execution": {
     "iopub.execute_input": "2024-01-21T12:36:27.021097Z",
     "iopub.status.busy": "2024-01-21T12:36:27.021097Z",
     "iopub.status.idle": "2024-01-21T12:36:27.036466Z",
     "shell.execute_reply": "2024-01-21T12:36:27.035459Z",
     "shell.execute_reply.started": "2024-01-21T12:36:27.021097Z"
    },
    "jupyter": {
     "outputs_hidden": true
    }
   },
   "outputs": [
    {
     "data": {
      "text/plain": [
       "'T BEEF JJ SVftSL ff BEEFSFISH KIRMIZI ET N FRANSIZ HAL BEEF yŞ Fransız mutfağı zenginliği , çeşitliliği , pişirme teknikleri , yemeğe yaklaşımı yemek pişirmenin sanatsal yönünü ön plana çıkaran bir mutfak . Kökeni Ortaçağ a kadar uzanıyor . Fransız aşçıların yüzyıllar önce keşfettiği teknikler bugün dünyanın dört bir yanındaki şeflerin yol göstericisi olmaya devam ediyor . Fransız u a sosların apayrı bir yeri Jrmızı etin Öyle ... ikili leşince ortaya muhteşem .ezzetler çıkıyor ... Fransız şef Olivier Pistre Shangri La Bosphorus Hotel Executive Chef , kırmızı etin Fransız mutfağındaki yerini anlattı , Fransızların sevdiği et tarifini paylaştı . Fotoğraflar ALT AN AYKAN f ırmızı etin Fransız mutfağında önemli bir ağırlığı var . Kırmızı etle pişirilen birçok Fransız klasiği mevcut . Fransız mutfa , ğında herkes tarafından bilinen kaz ciğeri portakallı ördek klasikler olsa rosto biftek çeşitlerinin pek farklı versiyonunu görmek mümkün . Özellikle sos kültürünün kadar gelişmiş olduğu bir mutfakta kırmızı etin yorumlanması isabetli oluyor . pişiriliyor Fransız mutfak kültüründe etler genel olarak pişmiş olarak servis edilir . Sosun önemi büyük olduğu hemen hemen yemekler sos zenginleştirilir . Etler genel olarak mühürlenerek pişirilir . Fırınlanarak hazırlanan birçok et yemeği bulunur . Etin eşlikçileri Etin yanında kullanılan çeşitli tamamlayıcılar bulunuyor . Mevsime göre değişen tamamlayıcılar kimi zaman patatesle hazırlanan ürünlerken kimi zaman ıspanak , kuşkonmaz yeşil sebzeler olabiliyor . Ayrıca , Fransız mutfağında diğer mutfaklardan farklı olarak deniz tarağı istiridye deniz ürünleri et yemekleri kombinlenebiliyor . . , BEEF FISH V fa PT I BEEF v jgm t K FISTIKLI KUZU SIRTI Soğan turşusu menengiç köpüğü MALZEMELER adet kuzu strtı gr antepfıstığı adet tost ekmeği içi gr tereyağı Tuz , biber Kuzu sırtı fileto edilir . Yağlı kısmı açılır içerisine antepfıstığı , tereyağı , ekmek içi karışımı doldurulur . Yağ kısmı dışarıda kalacak şekilde sarılır kasap ipi bağlanır . elde ettiğimiz rulo , tavada çevrilerek renk verilir derece fırında dakika civarı pişirilir . sonra et fırından çıkarılıp dakika kadar dinlendirilir dilimlenerek servise hazırlanır . S AN TURŞUSU adet Karacabey SOĞANI çorba kaşığı AKASYA BALI adet kuru KARANF L gr taze KEK K Yarım çay bardağı S RKE su bardağı SU Soğanlar halka şeklinde kesilir . Bütün malzemeler bir tencereye alınır soğan birlikte dakika kaynatılır . gece dolapta bekletilir . MENENG Ç KÖPÜĞÜ çorba kaşığı MENENG Ç KAHVES su bardağı KREMA Yarım su bardağı SÜT gr TEREYAĞI su bardağı TAVUKSUYU Bütün malzeme bir sos tenceresine alınır yarım saat ağır ateşte kaynatılır . Biraz ılındıktan sonra el blendırı yardımıyla köpürtülür . JB ta .ıv . . .. . tt zKÖRPE P L Ç Pirinç gevreği , ballı siyah sarımsak , yer lahana MALZEMELER adet körpe P L Ç gr taze KEK K Yarım çay bardağı ZEYT NYAĞI TUZ KARAB BER Keskin bir bıçak yardımıyla pilicin bütün kemikleri çıkarılır . Tuz , biber , zeytinyağı kekikle lezzetlendirilir . Piliç , streç filme sarılarak form verilir derecede dakika kadar buharlı fırında pişirilir . sonra streç çıkartılır kızgın tavada deri kısmı nar kızartılır . P R NÇ GEVREĞ Yarım su BARDAĞIBALDO P R NÇ buçuk su bardağı SU TUZ Pirinç yıkanmadan tuzlu suda iyice haşlanır bir yağlı kağıt üzerine serilir . Kuruduktan sonra yağda kızartılır . . BALLI SHYAJf SARIMSAK gr BAL gr siyah SARIMSAK püresi Bal tamamen süzdürülür peteği tamamen boşaltılır . Bal sarımsak püresi iyice karıştırılır , bir külah yardımı peteğin içerisine doldurulur . YER LAHANASI adet yer LAHANASI adet L MON REÇEL gr TARHUN çorba kaşığı ZEYT NYAĞI Yarım L MON SUYU adet KIRMIZI ER K. TUZ Yer lahanası Çin tornası yardımı çekilir , uzun . şeritler elde edilir . Kaynar suda şoklanır . Buzlu ı suya çıkarılır . sonra kurulanır . Limon reçeli suda yıkanır , fazla şekeri atılır jüiyen doğranır . Erikler jülyen doğranır bütün malzeme karıştırılır . Servis edilirken bir çatal yardımı sarılır tıpkı spagetti sunulur.t i BEEF .FISH IZGARA ANTRIKOT stiridye siyah havyar MALZEMELER gr ANTR KOT gr siyah HAVYAR adet ST R DYE adet KUM M DYES Yarım su bardağı ZEYT NYAĞI gr HARDAL gr DEREOTU adet mini KALAMAR TUZ B BER Antrikot ızgarada pişirilir dinlendirilir . sonra dilimlenerek servise hazırlanır . Kum midyesi kalamar haşlanır thermomix blendır yardımı püre haline getirilir . çerisine biraz zeytinyağı eklenir . stiridye bir açacak yardımı açılır . Hardal , zeytinyağı dereotu sos hazırlanır . Dilimlenmiş etin üzerine bir kaşık havyar konur . Tabağın altına sos , üzerine et yerleştirilir . Tabağın kenarına püre istiridye konularak servis edilir . BEEF FISH DANA K A B U R G A Beyaz barbunya püresi taze fındık MALZEMELER parça DANA KABURGA Yarım çay bardağı WORCHESTER SOS Yarım çay bardağı beyaz ŞARAP S RKES adet kırmızı B BER diş SARIMSAK adet kırmızı SOĞAN Yarım çay bardağı SOYA SOS gr taze FINDIK Ç Dana kaburgalar kömür ızgarasında mühürlenir . Diğer tarafta sos hazırlanır . Sos hazırlamak fındıklar hariç bütün malzeme blendır püre haline getirilir kaburgalar marinasyonla üstü kapalı bir şekilde derecede saat kadar fırında pişirilir . Taze fındıklar mandolin slays makinesi yardımı ince dilimlenir kaburganın üzerini süslemek güzelce dizilir . BEYAZ BARBUNYA PÜRES Ç N gr beyaz BARBUNYA gr KREMA gr TAVUKSUYU TUZ gr TEREYAĞI gr SUCUK Beyaz barbunyalar taze olmalıdır . kısa bir sezonu olan beyaz barbunyalar özenle seçilip ayıklanır . Bir kaynar suda şoklanır tavuk suyu kaynatılmaya devam edilir . sonra krema eklenir . yice piştiği zaman ocaktan alınır , tereyağı eklenir blendır püre haline getirilir . Diğer bir tavada sucuklar kızartılır . Sucuklar brunuaz şeklinde doğranır servis esnasında pürenin üzerine serpiştirilir . G'"
      ]
     },
     "execution_count": 7,
     "metadata": {},
     "output_type": "execute_result"
    }
   ],
   "source": [
    "interpress_train.iloc[3]['text']"
   ]
  },
  {
   "cell_type": "code",
   "execution_count": 3,
   "id": "c72538cc-48b1-4374-aa4d-7ed0eab498e4",
   "metadata": {
    "collapsed": true,
    "execution": {
     "iopub.execute_input": "2024-01-20T17:57:06.473990Z",
     "iopub.status.busy": "2024-01-20T17:57:06.473990Z",
     "iopub.status.idle": "2024-01-20T17:57:06.495915Z",
     "shell.execute_reply": "2024-01-20T17:57:06.493924Z",
     "shell.execute_reply.started": "2024-01-20T17:57:06.473990Z"
    },
    "jupyter": {
     "outputs_hidden": true
    }
   },
   "outputs": [
    {
     "data": {
      "text/plain": [
       "'İTİ BEEF JJ SVftSL ff 44     BEEFSFISH 16)2016KIRMIZI ETİN FRANSIZ HALİ BEEF yŞ Fransız mutfağı; zenginliği, çeşitliliği, pişirme teknikleri, yemeğe yaklaşımı ile yemek pişirmenin sanatsal yönünü ön plana çıkaran bir mutfak. Kökeni Ortaçağ a kadar uzanıyor. Fransız aşçıların yüzyıllar önce keşfettiği teknikler bugün dünyanın dört bir yanındaki şeflerin yol göstericisi olmaya devam ediyor. Fransız u 7a sosların apayrı bir yeri Jrmızı etin de Öyle... Bu ikili leşince de ortaya muhteşem .ezzetler çıkıyor... Fransız şef Olivier Pistre (Shangri-La Bosphorus Hotel Executive Chef), kırmızı etin Fransız mutfağındaki yerini anlattı, Fransızların çok sevdiği 4 et tarifini paylaştı. Fotoğraflar: ALT AN AYKAN f ırmızı etin Fransız mutfağında önemli bir ağırlığı var. Kırmızı etle pişirilen birçok Fransız klasiği mevcut. Fransız mutfa, ğında herkes tarafından bilinen kaz ciğeri ya da portakallı ördek gibi klasikler olsa da rosto ve biftek çeşitlerinin de pek çok farklı versiyonunu görmek mümkün. Özellikle sos kültürünün bu kadar gelişmiş olduğu bir mutfakta kırmızı etin yorumlanması da isabetli oluyor. Nasıl pişiriliyor? Fransız mutfak kültüründe etler genel olarak az pişmiş olarak servis edilir. Sosun önemi çok büyük olduğu için hemen hemen tüm yemekler sos ile zenginleştirilir. Etler genel olarak mühürlenerek pişirilir. Fırınlanarak hazırlanan birçok et yemeği de bulunur. Etin eşlikçileri Etin yanında kullanılan çeşitli tamamlayıcılar bulunuyor. Mevsime göre değişen tamamlayıcılar kimi zaman patatesle hazırlanan ürünlerken kimi zaman ıspanak, kuşkonmaz gibi yeşil sebzeler olabiliyor. Ayrıca, Fransız mutfağında diğer mutfaklardan farklı olarak deniz tarağı ve istiridye gibi deniz ürünleri de et yemekleri ile kombinlenebiliyor.  :.,() 16 BEEF&FISH      (45V- fa PT I BEEF v  jgm  İ& t% K FISTIKLI KUZU SIRTI (Soğan turşusu ve menengiç köpüğü ile) MALZEMELER   adet kuzu strtı 100 gr antepfıstığı 4 adet tost ekmeği içi 100 gr tereyağı Tuz, biber Kuzu sırtı fileto edilir. Yağlı kısmı açılır ve içerisine antepfıstığı, tereyağı, ekmek içi karışımı doldurulur. Yağ kısmı dışarıda kalacak şekilde sarılır ve kasap ipi ile bağlanır. Bu elde ettiğimiz rulo, tavada çevrilerek renk verilir ve 180 derece fırında 12 dakika civarı pişirilir. Daha sonra et fırından çıkarılıp 5 dakika kadar dinlendirilir ve dilimlenerek servise hazırlanır. S06AN TURŞUSU 2adet Karacabey SOĞANI 3çorba kaşığı AKASYA BALI 1 adet kuru KARANFİL 5 gr taze KEKİK Yarım çay bardağı SİRKE 1 su bardağı SU Soğanlar halka şeklinde kesilir. Bütün malzemeler bir tencereye alınır ve soğan ile birlikte 2-3 dakika kaynatılır. 1 gece dolapta bekletilir. MENENGİÇ  KÖPÜĞÜ 1 çorba kaşığı MENENGİÇ KAHVESİ 1 su bardağı KREMA Yarım su bardağı SÜT 80gr TEREYAĞI 1 su bardağı TAVUKSUYU Bütün malzeme bir sos tenceresine alınır ve yarım saat ağır ateşte kaynatılır. Biraz ılındıktan sonra el blendırı yardımıyla köpürtülür.     4 JB- %ta1 .ıv:  ; &. . -..-- .     - tt-zKÖRPE PİLİÇ (Pirinç gevreği, ballı siyah sarımsak, yer lahana MALZEMELER   adet körpe PİLİÇ 10 gr taze KEKİK Yarım çay bardağı ZEYTİNYAĞI TUZ KARABİBER Keskin bir bıçak yardımıyla pilicin bütün kemikleri çıkarılır. Tuz, biber, zeytinyağı ve kekikle lezzetlendirilir. Piliç, streç filme sarılarak form verilir ve 100 derecede 45 dakika kadar buharlı fırında pişirilir. Daha sonra streç çıkartılır ve kızgın tavada deri kısmı nar gibi kızartılır. PİRİNÇ GEVREĞİ Yarım su BARDAĞIBALDO PİRİNÇ 2 buçuk su bardağı SU TUZ Pirinç hiç yıkanmadan tuzlu suda iyice haşlanır ve bir yağlı kağıt üzerine serilir. Kuruduktan sonra yağda kızartılır.    . BALLI SHYAJf SARIMSAK 100 gr BAL 30 gr siyah SARIMSAK püresi Bal tamamen süzdürülür ve peteği tamamen boşaltılır. Bal ve sarımsak püresi iyice karıştırılır, bir külah yardımı ile peteğin içerisine doldurulur.  YER LAHANASI ! 1 adet yer LAHANASI 1adet LİMON REÇELİ 5 gr TARHUN 2çorba kaşığı ZEYTİNYAĞI Yarım LİMON SUYU 1 adet KIRMIZI ERİK. TUZ Yer lahanası Çin tornası yardımı ile çekilir, uzun. şeritler elde edilir. Kaynar suda şoklanır. Buzlu   ı suya çıkarılır. Daha sonra kurulanır. Limon reçeli suda yıkanır, fazla şekeri atılır ve jüiyen doğranır. Erikler de jülyen doğranır ve bütün malzeme karıştırılır. Servis edilirken bir çatal yardımı ile sarılır ve tıpkı spagetti gibi sunulur.t i   BEEF-.FISH      47IZGARA ANTRIKOT (İstiridye ve siyah havyar ile) MALZEMELER 200 gr ANTRİKOT 15 gr siyah HAVYAR 1 adet İSTİRİDYE 8 adet KUM MİDYESİ Yarım su bardağı ZEYTİNYAĞI 20 gr HARDAL 5 gr DEREOTU 1 adet mini KALAMAR TUZ BİBER Antrikot ızgarada pişirilir ve dinlendirilir. Daha sonra dilimlenerek servise hazırlanır. Kum midyesi ve kalamar haşlanır ve thermomix veya blendır yardımı ile püre haline getirilir. İçerisine biraz zeytinyağı eklenir. İstiridye bir açacak yardımı ile açılır. Hardal, zeytinyağı ve dereotu ile sos hazırlanır. Dilimlenmiş etin üzerine bir kaşık havyar konur. Tabağın altına sos, üzerine et yerleştirilir. Tabağın kenarına ise püre ve istiridye konularak servis edilir. 48)     BEEF&FISH16)2016DANA K A B U R G A (Beyaz barbunya püresi ve taze fındık ile MALZEMELER 4 parça DANA KABURGA Yarım çay bardağı WORCHESTER SOS Yarım çay bardağı beyaz ŞARAP SİRKESİ 1adet kırmızı BİBER 2diş SARIMSAK 1 adet kırmızı SOĞAN Yarım çay bardağı SOYA SOS 75 gr taze FINDIK İÇİ Dana kaburgalar kömür ızgarasında mühürlenir. Diğer tarafta sos hazırlanır. Sos hazırlamak için fındıklar hariç bütün malzeme blendır ile püre haline getirilir ve kaburgalar bu marinasyonla üstü kapalı bir şekilde 160 derecede 3 saat kadar fırında pişirilir. Taze fındıklar mandolin veya     slays makinesi yardımı ile çok ince dilimlenir ve kaburganın üzerini süslemek için güzelce dizilir. BEYAZ BARBUNYA PÜRESİ  İÇİN 400 gr beyaz BARBUNYA 100 gr KREMA 200gr TAVUKSUYU TUZ 25 gr TEREYAĞI 50 gr SUCUK Beyaz barbunyalar taze olmalıdır. Çok kısa bir sezonu olan beyaz barbunyalar özenle seçilip ayıklanır. Bir kez kaynar suda şoklanır ve tavuk suyu ile kaynatılmaya devam edilir. Daha sonra krema eklenir. İyice piştiği zaman ocaktan alınır, tereyağı eklenir ve blendır ile püre haline getirilir. Diğer bir tavada sucuklar kızartılır. Sucuklar brunuaz şeklinde doğranır ve servis esnasında pürenin üzerine serpiştirilir.  1G) 201699'"
      ]
     },
     "execution_count": 3,
     "metadata": {},
     "output_type": "execute_result"
    }
   ],
   "source": [
    "interpress_train.iloc[3]['text']"
   ]
  },
  {
   "cell_type": "code",
   "execution_count": 8,
   "id": "463d91b6-85f8-438a-b1e5-69104a2664a4",
   "metadata": {
    "execution": {
     "iopub.execute_input": "2024-01-21T12:38:40.787709Z",
     "iopub.status.busy": "2024-01-21T12:38:40.786712Z",
     "iopub.status.idle": "2024-01-21T12:38:40.804651Z",
     "shell.execute_reply": "2024-01-21T12:38:40.803654Z",
     "shell.execute_reply.started": "2024-01-21T12:38:40.787709Z"
    }
   },
   "outputs": [
    {
     "data": {
      "text/plain": [
       "'MedisanaUan Antibakteriyel Hava Nemlendirme Cihazı , vv MEDISANA , özellikle klima ısıtıcı çalışan ortamlardaki havanın nem oranının düşmesiyle ortaya çıkan solunum yolu rahatsızlıkları pratik bir çözüm sunuyor , Türkiye distribütörlüğünü GoldMaster ın üstlendiği MEDISANA , özellikle klima ısıtıcı çalışan ortamlardaki havanın nem oranının düşmesiyle ortaya çıkan solunum yolu rahatsızlıkları pratik bir çözüm sunuyor . Sağlıklı bir solunum ortamdaki ideal nem oranının arasında olması gerekiyor . oranın in altına düşmesi birtakım solunum yolları rahatsızlıklarına yol açabiliyor , Medisana , soruna modern ultrasonik teknoloji ürettiği UHW Plus hava nemlendirme cihazı ciddi bir çözüm sunuyor . Teiniz Bir Hava çin Türkiye özel olarak tasarlanan Medisana UHW Plus hava nemlendirme cihazına , Türkiye deki suların kireç içermesinden dolayı yaşanan problemleri gidermek amacıyla dünyada ilk kireç filtresi eklendi . Suyun sertliğini alan kireç önleyici seramik filtresi dikkat çeken Medisana UHW Plus , temiz bir hava ortama iyon veren , negatif enerjiyi alan iyonizer özelliğe sahip . Medisana UHW Plus , mikro incelikte ürettiği buhar kalitesi sayesinde ortama homojen bir şekilde yayılıyor bulunduğunuz ortamdaki havanın nem oranını artırdığı solunan havadaki toz , bakteri , virüs partiküllerin zemine inmesini sağlayarak temiz bir hava solumamıza yardımcı oluyor , Nem Oranını Kendiniz Belirleyebilirsiniz sessiz düşük enerji çalışan MED SANA UHW Plus ın nem sensörü sayesinde ortamın anlık nem oranını görebilir , istediğiniz nem oranını cihaza set ederek ortamın istediğiniz nem oranında sabit kalmasını sağlayabilirsiniz . Dört litre su kapasitesi bulunan , su haznesi boşaldığında otomatik kapanan yaklaşık metrekare alan yeterli olan cihazın , yıl garantisi bulunuyor . Ayrıca , saatte mi nemlendirme özelliği zaman ayarlama özelliği ön plana çıkıyor . medekal'"
      ]
     },
     "execution_count": 8,
     "metadata": {},
     "output_type": "execute_result"
    }
   ],
   "source": [
    "interpress_train.iloc[125]['text']"
   ]
  },
  {
   "cell_type": "code",
   "execution_count": 4,
   "id": "f3ff79fa-6733-4652-a4d6-dd3ff7274923",
   "metadata": {
    "execution": {
     "iopub.execute_input": "2024-01-20T18:00:45.783591Z",
     "iopub.status.busy": "2024-01-20T18:00:45.782606Z",
     "iopub.status.idle": "2024-01-20T18:00:45.801530Z",
     "shell.execute_reply": "2024-01-20T18:00:45.800533Z",
     "shell.execute_reply.started": "2024-01-20T18:00:45.783591Z"
    }
   },
   "outputs": [
    {
     "data": {
      "text/plain": [
       "'MedisanaUan Antibakteriyel Hava Nemlendirme Cihazı ,vv MEDISANA, özellikle klima ya da ısıtıcı çalışan ortamlardaki havanın nem oranının düşmesiyle ortaya çıkan solunum yolu rahatsızlıkları için pratik bir çözüm sunuyor, Türkiye distribütörlüğünü GoldMaster ın üstlendiği MEDISANA, özellikle klima ya da ısıtıcı çalışan ortamlardaki havanın nem oranının düşmesiyle ortaya çıkan solunum yolu rahatsızlıkları için pratik bir çözüm sunuyor. Sağlıklı bir solunum için ortamdaki ideal nem oranının % 45 ile % 55 arasında olması gerekiyor. Bu oranın % 45 in altına düşmesi birtakım solunum yolları rahatsızlıklarına yol açabiliyor, Medisana, bu soruna modern ultrasonik teknoloji ile ürettiği UHW Plus 48522 hava nemlendirme cihazı ile ciddi bir çözüm sunuyor. Teiniz Bir Hava İçin Türkiye için özel olarak tasarlanan Medisana UHW Plus hava nemlendirme cihazına, Türkiye deki suların kireç içermesinden dolayı yaşanan problemleri gidermek amacıyla dünyada ilk defa kireç filtresi eklendi. Suyun sertliğini alan kireç önleyici seramik filtresi ile dikkat çeken Medisana UHW Plus, temiz bir hava için ortama iyon veren, negatif enerjiyi alan iyonizer özelliğe sahip. Medisana UHW Plus, mikro incelikte ürettiği buhar kalitesi sayesinde ortama homojen bir şekilde yayılıyor ve bulunduğunuz ortamdaki havanın nem oranını artırdığı gibi solunan havadaki toz, bakteri, virüs gibi partiküllerin zemine inmesini sağlayarak daha temiz bir hava solumamıza yardımcı oluyor, Nem Oranını Kendiniz Belirleyebilirsiniz Çok sessiz ve düşük enerji ile çalışan MEDİSANA UHW Plus ın nem sensörü sayesinde ortamın anlık nem oranını görebilir, istediğiniz nem oranını cihaza set ederek ortamın istediğiniz nem oranında sabit kalmasını sağlayabilirsiniz. Dört litre su kapasitesi bulunan, su haznesi boşaldığında otomatik kapanan ve yaklaşık 30 metrekare alan için yeterli olan cihazın, 3 yıl garantisi bulunuyor. Ayrıca, saatte 300 mi nemlendirme özelliği ve zaman ayarlama özelliği ile ön plana çıkıyor. medekal'"
      ]
     },
     "execution_count": 4,
     "metadata": {},
     "output_type": "execute_result"
    }
   ],
   "source": [
    "interpress_train.iloc[125]['text']"
   ]
  },
  {
   "cell_type": "code",
   "execution_count": 10,
   "id": "d255e56e-eca7-4ff9-96d8-0edbffe72174",
   "metadata": {
    "execution": {
     "iopub.execute_input": "2024-01-21T12:43:14.712500Z",
     "iopub.status.busy": "2024-01-21T12:43:14.711504Z",
     "iopub.status.idle": "2024-01-21T12:44:25.994842Z",
     "shell.execute_reply": "2024-01-21T12:44:25.993881Z",
     "shell.execute_reply.started": "2024-01-21T12:43:14.712500Z"
    }
   },
   "outputs": [
    {
     "name": "stdout",
     "output_type": "stream",
     "text": [
      "\n",
      "Analysis of Interpress Dataset\n",
      "\n"
     ]
    },
    {
     "data": {
      "image/png": "[encoded data removed]",
      "text/plain": [
       "<Figure size 800x400 with 1 Axes>"
      ]
     },
     "metadata": {},
     "output_type": "display_data"
    },
    {
     "name": "stdout",
     "output_type": "stream",
     "text": [
      "\n",
      "Statistical measures for input text (character-level):\n",
      "\n"
     ]
    },
    {
     "data": {
      "text/html": [
       "<div>\n",
       "<style scoped>\n",
       "    .dataframe tbody tr th:only-of-type {\n",
       "        vertical-align: middle;\n",
       "    }\n",
       "\n",
       "    .dataframe tbody tr th {\n",
       "        vertical-align: top;\n",
       "    }\n",
       "\n",
       "    .dataframe thead th {\n",
       "        text-align: right;\n",
       "    }\n",
       "</style>\n",
       "<table border=\"1\" class=\"dataframe\">\n",
       "  <thead>\n",
       "    <tr style=\"text-align: right;\">\n",
       "      <th></th>\n",
       "      <th>text</th>\n",
       "    </tr>\n",
       "  </thead>\n",
       "  <tbody>\n",
       "    <tr>\n",
       "      <th>count</th>\n",
       "      <td>50000.00</td>\n",
       "    </tr>\n",
       "    <tr>\n",
       "      <th>mean</th>\n",
       "      <td>2792.46</td>\n",
       "    </tr>\n",
       "    <tr>\n",
       "      <th>std</th>\n",
       "      <td>4167.31</td>\n",
       "    </tr>\n",
       "    <tr>\n",
       "      <th>min</th>\n",
       "      <td>141.00</td>\n",
       "    </tr>\n",
       "    <tr>\n",
       "      <th>25%</th>\n",
       "      <td>746.00</td>\n",
       "    </tr>\n",
       "    <tr>\n",
       "      <th>50%</th>\n",
       "      <td>1537.00</td>\n",
       "    </tr>\n",
       "    <tr>\n",
       "      <th>75%</th>\n",
       "      <td>3312.25</td>\n",
       "    </tr>\n",
       "    <tr>\n",
       "      <th>max</th>\n",
       "      <td>156368.00</td>\n",
       "    </tr>\n",
       "  </tbody>\n",
       "</table>\n",
       "</div>"
      ],
      "text/plain": [
       "            text\n",
       "count   50000.00\n",
       "mean     2792.46\n",
       "std      4167.31\n",
       "min       141.00\n",
       "25%       746.00\n",
       "50%      1537.00\n",
       "75%      3312.25\n",
       "max    156368.00"
      ]
     },
     "metadata": {},
     "output_type": "display_data"
    },
    {
     "data": {
      "image/png": "[encoded data removed]",
      "text/plain": [
       "<Figure size 800x400 with 1 Axes>"
      ]
     },
     "metadata": {},
     "output_type": "display_data"
    },
    {
     "name": "stdout",
     "output_type": "stream",
     "text": [
      "Statistical measures for input text (word-level):\n",
      "\n"
     ]
    },
    {
     "data": {
      "text/html": [
       "<div>\n",
       "<style scoped>\n",
       "    .dataframe tbody tr th:only-of-type {\n",
       "        vertical-align: middle;\n",
       "    }\n",
       "\n",
       "    .dataframe tbody tr th {\n",
       "        vertical-align: top;\n",
       "    }\n",
       "\n",
       "    .dataframe thead th {\n",
       "        text-align: right;\n",
       "    }\n",
       "</style>\n",
       "<table border=\"1\" class=\"dataframe\">\n",
       "  <thead>\n",
       "    <tr style=\"text-align: right;\">\n",
       "      <th></th>\n",
       "      <th>text</th>\n",
       "    </tr>\n",
       "  </thead>\n",
       "  <tbody>\n",
       "    <tr>\n",
       "      <th>count</th>\n",
       "      <td>50000.00</td>\n",
       "    </tr>\n",
       "    <tr>\n",
       "      <th>mean</th>\n",
       "      <td>398.59</td>\n",
       "    </tr>\n",
       "    <tr>\n",
       "      <th>std</th>\n",
       "      <td>596.07</td>\n",
       "    </tr>\n",
       "    <tr>\n",
       "      <th>min</th>\n",
       "      <td>16.00</td>\n",
       "    </tr>\n",
       "    <tr>\n",
       "      <th>25%</th>\n",
       "      <td>107.00</td>\n",
       "    </tr>\n",
       "    <tr>\n",
       "      <th>50%</th>\n",
       "      <td>217.00</td>\n",
       "    </tr>\n",
       "    <tr>\n",
       "      <th>75%</th>\n",
       "      <td>469.00</td>\n",
       "    </tr>\n",
       "    <tr>\n",
       "      <th>max</th>\n",
       "      <td>21121.00</td>\n",
       "    </tr>\n",
       "  </tbody>\n",
       "</table>\n",
       "</div>"
      ],
      "text/plain": [
       "           text\n",
       "count  50000.00\n",
       "mean     398.59\n",
       "std      596.07\n",
       "min       16.00\n",
       "25%      107.00\n",
       "50%      217.00\n",
       "75%      469.00\n",
       "max    21121.00"
      ]
     },
     "metadata": {},
     "output_type": "display_data"
    },
    {
     "data": {
      "image/png": "[encoded data removed]",
      "text/plain": [
       "<Figure size 800x400 with 1 Axes>"
      ]
     },
     "metadata": {},
     "output_type": "display_data"
    }
   ],
   "source": [
    "import sys\n",
    "sys.path.append(\"..\")\n",
    "\n",
    "from utils import analyze_dataset \n",
    "\n",
    "analyze_dataset(interpress_train[:50000], \n",
    "                (8, 4), (8, 4), (8, 4), \n",
    "                0.1, 0.09,\n",
    "                0.1, 0.09,\n",
    "                'tomato', 'Interpress')"
   ]
  },
  {
   "cell_type": "code",
   "execution_count": 11,
   "id": "56281d12-0509-4e85-883b-fc250660a166",
   "metadata": {
    "execution": {
     "iopub.execute_input": "2024-01-21T12:46:52.999514Z",
     "iopub.status.busy": "2024-01-21T12:46:52.998519Z",
     "iopub.status.idle": "2024-01-21T12:47:03.321713Z",
     "shell.execute_reply": "2024-01-21T12:47:03.321713Z",
     "shell.execute_reply.started": "2024-01-21T12:46:52.999514Z"
    }
   },
   "outputs": [],
   "source": [
    "# interpress_train.to_csv(\"../Data/Interpress/interpress_train.csv\", index=False)\n",
    "# interpress_test.to_csv(\"../Data/Interpress/interpress_test.csv\", index=False)"
   ]
  },
  {
   "cell_type": "markdown",
   "id": "e1242210-ece8-4b2b-b8d9-54202ba7754e",
   "metadata": {
    "execution": {
     "iopub.execute_input": "2024-01-21T07:39:21.304483Z",
     "iopub.status.busy": "2024-01-21T07:39:21.304483Z",
     "iopub.status.idle": "2024-01-21T07:39:21.328416Z",
     "shell.execute_reply": "2024-01-21T07:39:21.324444Z",
     "shell.execute_reply.started": "2024-01-21T07:39:21.304483Z"
    }
   },
   "source": [
    "## Fine Tune"
   ]
  },
  {
   "cell_type": "code",
   "execution_count": 1,
   "id": "5e90a578-c3f4-45c3-be71-c1823251174c",
   "metadata": {
    "execution": {
     "iopub.execute_input": "2024-01-28T06:14:41.063944Z",
     "iopub.status.busy": "2024-01-28T06:14:41.062947Z",
     "iopub.status.idle": "2024-01-28T06:14:44.469253Z",
     "shell.execute_reply": "2024-01-28T06:14:44.469253Z",
     "shell.execute_reply.started": "2024-01-28T06:14:41.063944Z"
    }
   },
   "outputs": [],
   "source": [
    "import torch\n",
    "import pandas as pd\n",
    "\n",
    "device = torch.device(\"cuda\") if torch.cuda.is_available() else torch.device(\"cpu\")"
   ]
  },
  {
   "cell_type": "markdown",
   "id": "1c94b973-ee35-4c3e-9b3e-bb18885f4fa3",
   "metadata": {
    "execution": {
     "iopub.execute_input": "2024-01-21T07:39:06.248623Z",
     "iopub.status.busy": "2024-01-21T07:39:06.247625Z",
     "iopub.status.idle": "2024-01-21T07:39:06.268556Z",
     "shell.execute_reply": "2024-01-21T07:39:06.266562Z",
     "shell.execute_reply.started": "2024-01-21T07:39:06.248623Z"
    }
   },
   "source": [
    "### Preprocess Dataset"
   ]
  },
  {
   "cell_type": "code",
   "execution_count": 12,
   "id": "bf65f732-489a-4fda-8d42-b40399db9532",
   "metadata": {
    "execution": {
     "iopub.execute_input": "2024-01-21T12:48:09.853421Z",
     "iopub.status.busy": "2024-01-21T12:48:09.853421Z",
     "iopub.status.idle": "2024-01-21T12:48:19.329000Z",
     "shell.execute_reply": "2024-01-21T12:48:19.328071Z",
     "shell.execute_reply.started": "2024-01-21T12:48:09.853421Z"
    }
   },
   "outputs": [
    {
     "data": {
      "text/html": [
       "<div>\n",
       "<style scoped>\n",
       "    .dataframe tbody tr th:only-of-type {\n",
       "        vertical-align: middle;\n",
       "    }\n",
       "\n",
       "    .dataframe tbody tr th {\n",
       "        vertical-align: top;\n",
       "    }\n",
       "\n",
       "    .dataframe thead th {\n",
       "        text-align: right;\n",
       "    }\n",
       "</style>\n",
       "<table border=\"1\" class=\"dataframe\">\n",
       "  <thead>\n",
       "    <tr style=\"text-align: right;\">\n",
       "      <th></th>\n",
       "      <th>text</th>\n",
       "      <th>label</th>\n",
       "    </tr>\n",
       "  </thead>\n",
       "  <tbody>\n",
       "    <tr>\n",
       "      <th>0</th>\n",
       "      <td>Tarihten Sınıfta Kaldık Bugün tarihe damgasını...</td>\n",
       "      <td>0</td>\n",
       "    </tr>\n",
       "    <tr>\n",
       "      <th>1</th>\n",
       "      <td>clş yatırım ortamı iyileştiriliyor , bürokrasi...</td>\n",
       "      <td>1</td>\n",
       "    </tr>\n",
       "    <tr>\n",
       "      <th>2</th>\n",
       "      <td>Animasyon meraklıları Yönetmen JenniferYuh Ses...</td>\n",
       "      <td>0</td>\n",
       "    </tr>\n",
       "    <tr>\n",
       "      <th>3</th>\n",
       "      <td>T BEEF JJ SVftSL ff BEEFSFISH KIRMIZI ET N FRA...</td>\n",
       "      <td>0</td>\n",
       "    </tr>\n",
       "    <tr>\n",
       "      <th>4</th>\n",
       "      <td>LPG Dolum Boşaltım kursu KTSO yapıldı Karaman ...</td>\n",
       "      <td>1</td>\n",
       "    </tr>\n",
       "    <tr>\n",
       "      <th>...</th>\n",
       "      <td>...</td>\n",
       "      <td>...</td>\n",
       "    </tr>\n",
       "    <tr>\n",
       "      <th>218875</th>\n",
       "      <td>Begüm Mert Yazıcıoğiu çiftinin ikinci bebekler...</td>\n",
       "      <td>7</td>\n",
       "    </tr>\n",
       "    <tr>\n",
       "      <th>218876</th>\n",
       "      <td>AKRAPOVIC FULL MOON Fiyat açıklanmadı konsept ...</td>\n",
       "      <td>6</td>\n",
       "    </tr>\n",
       "    <tr>\n",
       "      <th>218877</th>\n",
       "      <td>Babil bal Notlar Bugün Şenkaya ilçesine bağlı ...</td>\n",
       "      <td>0</td>\n",
       "    </tr>\n",
       "    <tr>\n",
       "      <th>218878</th>\n",
       "      <td>ÇEVRE STAT ST KLER N N ÖZETLER YAYINLANDI Türk...</td>\n",
       "      <td>1</td>\n",
       "    </tr>\n",
       "    <tr>\n",
       "      <th>218879</th>\n",
       "      <td>Türkiye ninyeni tuzu EFSINA marketierde Krista...</td>\n",
       "      <td>8</td>\n",
       "    </tr>\n",
       "  </tbody>\n",
       "</table>\n",
       "<p>218880 rows × 2 columns</p>\n",
       "</div>"
      ],
      "text/plain": [
       "                                                     text  label\n",
       "0       Tarihten Sınıfta Kaldık Bugün tarihe damgasını...      0\n",
       "1       clş yatırım ortamı iyileştiriliyor , bürokrasi...      1\n",
       "2       Animasyon meraklıları Yönetmen JenniferYuh Ses...      0\n",
       "3       T BEEF JJ SVftSL ff BEEFSFISH KIRMIZI ET N FRA...      0\n",
       "4       LPG Dolum Boşaltım kursu KTSO yapıldı Karaman ...      1\n",
       "...                                                   ...    ...\n",
       "218875  Begüm Mert Yazıcıoğiu çiftinin ikinci bebekler...      7\n",
       "218876  AKRAPOVIC FULL MOON Fiyat açıklanmadı konsept ...      6\n",
       "218877  Babil bal Notlar Bugün Şenkaya ilçesine bağlı ...      0\n",
       "218878  ÇEVRE STAT ST KLER N N ÖZETLER YAYINLANDI Türk...      1\n",
       "218879  Türkiye ninyeni tuzu EFSINA marketierde Krista...      8\n",
       "\n",
       "[218880 rows x 2 columns]"
      ]
     },
     "metadata": {},
     "output_type": "display_data"
    },
    {
     "data": {
      "text/html": [
       "<div>\n",
       "<style scoped>\n",
       "    .dataframe tbody tr th:only-of-type {\n",
       "        vertical-align: middle;\n",
       "    }\n",
       "\n",
       "    .dataframe tbody tr th {\n",
       "        vertical-align: top;\n",
       "    }\n",
       "\n",
       "    .dataframe thead th {\n",
       "        text-align: right;\n",
       "    }\n",
       "</style>\n",
       "<table border=\"1\" class=\"dataframe\">\n",
       "  <thead>\n",
       "    <tr style=\"text-align: right;\">\n",
       "      <th></th>\n",
       "      <th>text</th>\n",
       "      <th>label</th>\n",
       "    </tr>\n",
       "  </thead>\n",
       "  <tbody>\n",
       "    <tr>\n",
       "      <th>0</th>\n",
       "      <td>yıldır yükselen enerji Aygaz TÜRK HALKINI TÜPG...</td>\n",
       "      <td>1</td>\n",
       "    </tr>\n",
       "    <tr>\n",
       "      <th>1</th>\n",
       "      <td>Onur Akyıl Bir insan kadar mutsuzBir insan kad...</td>\n",
       "      <td>0</td>\n",
       "    </tr>\n",
       "    <tr>\n",
       "      <th>2</th>\n",
       "      <td>. yolculuk GÜNEYL SARIŞIN REESE WITHERSPOON Ye...</td>\n",
       "      <td>0</td>\n",
       "    </tr>\n",
       "    <tr>\n",
       "      <th>3</th>\n",
       "      <td>Doğru tercih yapan hiçbir aday açıkta kalmayac...</td>\n",
       "      <td>3</td>\n",
       "    </tr>\n",
       "    <tr>\n",
       "      <th>4</th>\n",
       "      <td>Jong sıraya girdiler SER E A ekiplerinden Mi i...</td>\n",
       "      <td>5</td>\n",
       "    </tr>\n",
       "    <tr>\n",
       "      <th>...</th>\n",
       "      <td>...</td>\n",
       "      <td>...</td>\n",
       "    </tr>\n",
       "    <tr>\n",
       "      <th>54716</th>\n",
       "      <td>SAMBACI JAJA ALKOL ENGEL TAKILDI .m , TRABZONS...</td>\n",
       "      <td>5</td>\n",
       "    </tr>\n",
       "    <tr>\n",
       "      <th>54717</th>\n",
       "      <td>Gıda Tarım Hayvancılık Bakanı Faruk Çelik , ek...</td>\n",
       "      <td>1</td>\n",
       "    </tr>\n",
       "    <tr>\n",
       "      <th>54718</th>\n",
       "      <td>PANORAMA Uftk . Uluslararası Whitley Doğa Koru...</td>\n",
       "      <td>0</td>\n",
       "    </tr>\n",
       "    <tr>\n",
       "      <th>54719</th>\n",
       "      <td>Patates tüketiminin artırılması hedefleniyor A...</td>\n",
       "      <td>1</td>\n",
       "    </tr>\n",
       "    <tr>\n",
       "      <th>54720</th>\n",
       "      <td>N i Z wcT Anka Efsanelerin Uçağı Projeye başla...</td>\n",
       "      <td>9</td>\n",
       "    </tr>\n",
       "  </tbody>\n",
       "</table>\n",
       "<p>54721 rows × 2 columns</p>\n",
       "</div>"
      ],
      "text/plain": [
       "                                                    text  label\n",
       "0      yıldır yükselen enerji Aygaz TÜRK HALKINI TÜPG...      1\n",
       "1      Onur Akyıl Bir insan kadar mutsuzBir insan kad...      0\n",
       "2      . yolculuk GÜNEYL SARIŞIN REESE WITHERSPOON Ye...      0\n",
       "3      Doğru tercih yapan hiçbir aday açıkta kalmayac...      3\n",
       "4      Jong sıraya girdiler SER E A ekiplerinden Mi i...      5\n",
       "...                                                  ...    ...\n",
       "54716  SAMBACI JAJA ALKOL ENGEL TAKILDI .m , TRABZONS...      5\n",
       "54717  Gıda Tarım Hayvancılık Bakanı Faruk Çelik , ek...      1\n",
       "54718  PANORAMA Uftk . Uluslararası Whitley Doğa Koru...      0\n",
       "54719  Patates tüketiminin artırılması hedefleniyor A...      1\n",
       "54720  N i Z wcT Anka Efsanelerin Uçağı Projeye başla...      9\n",
       "\n",
       "[54721 rows x 2 columns]"
      ]
     },
     "metadata": {},
     "output_type": "display_data"
    }
   ],
   "source": [
    "# import pandas as pd\n",
    "\n",
    "# interpress_train = pd.read_csv(\"../Data/Interpress/interpress_train.csv\")\n",
    "# interpress_test = pd.read_csv(\"../Data/Interpress/interpress_test.csv\")\n",
    "\n",
    "# display(interpress_train, interpress_test)"
   ]
  },
  {
   "cell_type": "code",
   "execution_count": 5,
   "id": "e93f2453-05b7-4611-af88-8dfaec9a8daf",
   "metadata": {
    "execution": {
     "iopub.execute_input": "2024-01-28T06:22:45.440509Z",
     "iopub.status.busy": "2024-01-28T06:22:45.440509Z",
     "iopub.status.idle": "2024-01-28T06:22:45.450985Z",
     "shell.execute_reply": "2024-01-28T06:22:45.449988Z",
     "shell.execute_reply.started": "2024-01-28T06:22:45.440509Z"
    }
   },
   "outputs": [
    {
     "name": "stdout",
     "output_type": "stream",
     "text": [
      "{0: 'kültürsanat', 1: 'ekonomi', 2: 'siyaset', 3: 'eğitim', 4: 'dünya', 5: 'spor', 6: 'teknoloji', 7: 'magazin', 8: 'sağlık', 9: 'gündem'}\n",
      "{'kültürsanat': 0, 'ekonomi': 1, 'siyaset': 2, 'eğitim': 3, 'dünya': 4, 'spor': 5, 'teknoloji': 6, 'magazin': 7, 'sağlık': 8, 'gündem': 9}\n"
     ]
    }
   ],
   "source": [
    "text_labels = ['kültürsanat', 'ekonomi', 'siyaset', 'eğitim', 'dünya', 'spor', 'teknoloji', 'magazin', 'sağlık', 'gündem']\n",
    "int_labels = [0, 1, 2, 3, 4, 5, 6, 7, 8, 9]\n",
    "num_labels = len(int_labels)\n",
    "\n",
    "id2label = {label: text_label for label, text_label in zip(int_labels, text_labels)}\n",
    "label2id = {text_label: label for label, text_label in zip(int_labels, text_labels)}\n",
    "\n",
    "print(id2label, label2id, sep=\"\\n\")"
   ]
  },
  {
   "cell_type": "code",
   "execution_count": 15,
   "id": "59e8699f-897d-4827-9bb5-5e86ea13fb7a",
   "metadata": {
    "execution": {
     "iopub.execute_input": "2024-01-21T12:57:57.329123Z",
     "iopub.status.busy": "2024-01-21T12:57:57.328126Z",
     "iopub.status.idle": "2024-01-21T12:57:57.418318Z",
     "shell.execute_reply": "2024-01-21T12:57:57.417659Z",
     "shell.execute_reply.started": "2024-01-21T12:57:57.329123Z"
    }
   },
   "outputs": [],
   "source": [
    "# from sklearn.utils import resample\n",
    "# from sklearn.model_selection import train_test_split\n",
    "\n",
    "# # Train %80 and Val %20\n",
    "# interpress_train, interpress_val = train_test_split(interpress_train, test_size=0.3, random_state=42)"
   ]
  },
  {
   "cell_type": "code",
   "execution_count": 16,
   "id": "f65999d3-a572-4344-b37b-b16d70c45054",
   "metadata": {
    "execution": {
     "iopub.execute_input": "2024-01-21T12:58:36.286199Z",
     "iopub.status.busy": "2024-01-21T12:58:36.285203Z",
     "iopub.status.idle": "2024-01-21T12:58:36.397830Z",
     "shell.execute_reply": "2024-01-21T12:58:36.397830Z",
     "shell.execute_reply.started": "2024-01-21T12:58:36.286199Z"
    }
   },
   "outputs": [],
   "source": [
    "# def undersample_data(data, samples_per_class, random_state=42):\n",
    "    \n",
    "#     undersampled_data = pd.DataFrame()\n",
    "    \n",
    "#     for label in data['label'].unique():\n",
    "#         class_samples = data[data['label'] == label]\n",
    "#         undersampled_class = resample(class_samples, replace=False, n_samples=samples_per_class, random_state=random_state)\n",
    "        \n",
    "#         undersampled_data = pd.concat([undersampled_data, undersampled_class])\n",
    "\n",
    "#     return undersampled_data\n",
    "\n",
    "# samples_per_class_train = 600\n",
    "# samples_per_class_val = 100\n",
    "# samples_per_class_test = 100\n",
    "\n",
    "# interpress_train = undersample_data(interpress_train, samples_per_class_train)\n",
    "# interpress_val = undersample_data(interpress_val, samples_per_class_val)\n",
    "# interpress_test = undersample_data(interpress_test, samples_per_class_test)  \n",
    "\n",
    "# # Shuffle the undersampled sets\n",
    "# interpress_train = interpress_train.sample(frac=1, random_state=42).reset_index(drop=True)\n",
    "# interpress_val = interpress_val.sample(frac=1, random_state=42).reset_index(drop=True)\n",
    "# interpress_test = interpress_test.sample(frac=1, random_state=42).reset_index(drop=True)\n",
    "\n",
    "# interpress_train.to_csv(\"../Data/Interpress/interpress_train_undersampled.csv\", index=False)\n",
    "# interpress_val.to_csv(\"../Data/Interpress/interpress_val_undersampled.csv\", index=False)\n",
    "# interpress_test.to_csv(\"../Data/Interpress/interpress_test_undersampled.csv\", index=False)"
   ]
  },
  {
   "cell_type": "code",
   "execution_count": 6,
   "id": "9efb7381-f1e0-4182-abe3-4db776bd4749",
   "metadata": {
    "execution": {
     "iopub.execute_input": "2024-01-28T06:22:47.289407Z",
     "iopub.status.busy": "2024-01-28T06:22:47.289407Z",
     "iopub.status.idle": "2024-01-28T06:22:47.586676Z",
     "shell.execute_reply": "2024-01-28T06:22:47.585793Z",
     "shell.execute_reply.started": "2024-01-28T06:22:47.289407Z"
    }
   },
   "outputs": [
    {
     "name": "stdout",
     "output_type": "stream",
     "text": [
      "Train set shape      : 6000 6000\n",
      "Validation set shape : 1000 1000\n",
      "Test set shape       : 1000 1000\n"
     ]
    }
   ],
   "source": [
    "interpress_train = pd.read_csv(\"../Data/Interpress/interpress_train_undersampled.csv\")\n",
    "interpress_val = pd.read_csv(\"../Data/Interpress/interpress_val_undersampled.csv\")\n",
    "interpress_test = pd.read_csv(\"../Data/Interpress/interpress_test_undersampled.csv\")\n",
    "\n",
    "X_train = interpress_train['text'].tolist()\n",
    "y_train = interpress_train['label'].tolist()\n",
    "\n",
    "X_val = interpress_val['text'].tolist()\n",
    "y_val = interpress_val['label'].tolist()\n",
    "\n",
    "X_test = interpress_test['text'].tolist()\n",
    "y_test = interpress_test['label'].tolist()\n",
    "\n",
    "print(\"Train set shape      :\", len(X_train), len(y_train))\n",
    "print(\"Validation set shape :\", len(X_val), len(y_val))\n",
    "print(\"Test set shape       :\", len(X_test), len(y_test))"
   ]
  },
  {
   "cell_type": "markdown",
   "id": "2f27a79d-8eda-4cf8-a70f-6c966846d61f",
   "metadata": {
    "jp-MarkdownHeadingCollapsed": true
   },
   "source": [
    "### Prepare Training"
   ]
  },
  {
   "cell_type": "code",
   "execution_count": 3,
   "id": "f782c1d1-f784-4c90-b9ed-a1fe2f07f760",
   "metadata": {
    "execution": {
     "iopub.execute_input": "2024-01-28T06:19:13.670237Z",
     "iopub.status.busy": "2024-01-28T06:19:13.670237Z",
     "iopub.status.idle": "2024-01-28T06:19:15.769785Z",
     "shell.execute_reply": "2024-01-28T06:19:15.768747Z",
     "shell.execute_reply.started": "2024-01-28T06:19:13.670237Z"
    }
   },
   "outputs": [],
   "source": [
    "from transformers import TrainingArguments, Trainer\n",
    "from sklearn.metrics import accuracy_score, precision_recall_fscore_support\n",
    "import warnings\n",
    "warnings.filterwarnings(\"ignore\", category=FutureWarning)\n",
    "\n",
    "\n",
    "def compute_metrics(preds): \n",
    "    \n",
    "    labels = preds.label_ids \n",
    "    preds = preds.predictions.argmax(-1) \n",
    "    precision, recall, f1, _ = precision_recall_fscore_support(labels, preds, average='macro') \n",
    "    acc = accuracy_score(labels, preds) \n",
    "    \n",
    "    return { \n",
    "        'Accuracy': acc, \n",
    "        'F1': f1, \n",
    "        'Precision': precision, \n",
    "        'Recall': recall \n",
    "    }\n",
    "\n",
    "\n",
    "def predict(model, tokenizer, text):\n",
    "    \n",
    "    inputs = tokenizer(text, padding=True, truncation=True, return_tensors=\"pt\").to(device)\n",
    "    outputs = model(**inputs)\n",
    "    probs = outputs[0].softmax(1)\n",
    "    \n",
    "    return probs, probs.argmax(),model.config.id2label[probs.argmax().item()]"
   ]
  },
  {
   "cell_type": "markdown",
   "id": "7ec65704-502b-4299-819f-87eb9db823dd",
   "metadata": {
    "jp-MarkdownHeadingCollapsed": true
   },
   "source": [
    "### BERTTurk"
   ]
  },
  {
   "cell_type": "code",
   "execution_count": 14,
   "id": "6df31792-eb4c-4e4a-876e-ac4bec081fcb",
   "metadata": {
    "execution": {
     "iopub.execute_input": "2024-01-21T12:53:47.216593Z",
     "iopub.status.busy": "2024-01-21T12:53:47.216593Z",
     "iopub.status.idle": "2024-01-21T12:53:49.648047Z",
     "shell.execute_reply": "2024-01-21T12:53:49.647131Z",
     "shell.execute_reply.started": "2024-01-21T12:53:47.216593Z"
    }
   },
   "outputs": [
    {
     "name": "stderr",
     "output_type": "stream",
     "text": [
      "Some weights of BertForSequenceClassification were not initialized from the model checkpoint at dbmdz/bert-base-turkish-uncased and are newly initialized: ['classifier.weight', 'classifier.bias']\n",
      "You should probably TRAIN this model on a down-stream task to be able to use it for predictions and inference.\n"
     ]
    }
   ],
   "source": [
    "from transformers import BertTokenizerFast, BertForSequenceClassification\n",
    "\n",
    "tokenizer_bert = BertTokenizerFast.from_pretrained(\"dbmdz/bert-base-turkish-uncased\", max_length=512)\n",
    "model_Bert = BertForSequenceClassification.from_pretrained(\"dbmdz/bert-base-turkish-uncased\", num_labels=num_labels, id2label=id2label, label2id=label2id).to(device)"
   ]
  },
  {
   "cell_type": "code",
   "execution_count": 19,
   "id": "0427b3db-4035-44e5-86d8-0af98c690b44",
   "metadata": {
    "execution": {
     "iopub.execute_input": "2024-01-21T13:01:06.534919Z",
     "iopub.status.busy": "2024-01-21T13:01:06.534919Z",
     "iopub.status.idle": "2024-01-21T13:01:08.382486Z",
     "shell.execute_reply": "2024-01-21T13:01:08.382486Z",
     "shell.execute_reply.started": "2024-01-21T13:01:06.534919Z"
    }
   },
   "outputs": [],
   "source": [
    "train_encodings = tokenizer_bert(X_train, truncation=True, padding=True)\n",
    "val_encodings  = tokenizer_bert(X_val, truncation=True, padding=True)\n",
    "test_encodings = tokenizer_bert(X_test, truncation=True, padding=True)\n",
    "\n",
    "from torch.utils.data import Dataset\n",
    "\n",
    "class MyDataset(Dataset):\n",
    "    \n",
    "    def __init__(self, encodings, labels):\n",
    "        self.encodings = encodings\n",
    "        self.labels = labels\n",
    "        \n",
    "    def __getitem__(self, idx):\n",
    "        item = {key: torch.tensor(val[idx]) for key, val in self.encodings.items()}\n",
    "        item['labels'] = torch.tensor(self.labels[idx])\n",
    "        return item\n",
    "        \n",
    "    def __len__(self):\n",
    "        return len(self.labels)\n",
    "\n",
    "train_dataset = MyDataset(train_encodings, y_train)\n",
    "val_dataset = MyDataset(val_encodings, y_val)\n",
    "test_dataset = MyDataset(test_encodings, y_test)"
   ]
  },
  {
   "cell_type": "markdown",
   "id": "87d99b38-5a2e-48e3-b88b-083071b79c1f",
   "metadata": {},
   "source": [
    "#### Train"
   ]
  },
  {
   "cell_type": "code",
   "execution_count": 21,
   "id": "68648590-15e9-46d1-ae2a-4cffb551131c",
   "metadata": {
    "execution": {
     "iopub.execute_input": "2024-01-21T13:03:01.028190Z",
     "iopub.status.busy": "2024-01-21T13:03:01.027193Z",
     "iopub.status.idle": "2024-01-21T13:03:01.140318Z",
     "shell.execute_reply": "2024-01-21T13:03:01.139710Z",
     "shell.execute_reply.started": "2024-01-21T13:03:01.028190Z"
    }
   },
   "outputs": [],
   "source": [
    "training_args = TrainingArguments(\n",
    "    output_dir='../Models/bertturk_text_classification_fine_tuned_interpress/', \n",
    "    do_train=True,\n",
    "    do_eval=True,\n",
    "    num_train_epochs=3,              \n",
    "    per_device_train_batch_size=16,  \n",
    "    per_device_eval_batch_size=32,\n",
    "    warmup_steps=100,                \n",
    "    weight_decay=0.01,\n",
    "    logging_strategy='steps',              \n",
    "    logging_dir='../Output/BERT_Logs_Interpress',            \n",
    "    logging_steps=100,\n",
    "    evaluation_strategy=\"epoch\",\n",
    "    eval_steps=1,\n",
    "    save_strategy=\"epoch\",\n",
    "    save_steps=1,\n",
    "    fp16=True,\n",
    "    load_best_model_at_end=True\n",
    ")\n",
    "\n",
    "trainer_bert = Trainer(\n",
    "    model=model,                    \n",
    "    args=training_args,                 \n",
    "    train_dataset=train_dataset,         \n",
    "    eval_dataset=val_dataset,            \n",
    "    compute_metrics= compute_metrics\n",
    ")"
   ]
  },
  {
   "cell_type": "code",
   "execution_count": 22,
   "id": "d347e0de-6fd8-41e4-9fc4-a209cbe1d26e",
   "metadata": {
    "execution": {
     "iopub.execute_input": "2024-01-21T13:03:12.809622Z",
     "iopub.status.busy": "2024-01-21T13:03:12.808627Z",
     "iopub.status.idle": "2024-01-21T15:14:33.737192Z",
     "shell.execute_reply": "2024-01-21T15:14:33.725935Z",
     "shell.execute_reply.started": "2024-01-21T13:03:12.809622Z"
    }
   },
   "outputs": [
    {
     "data": {
      "text/html": [
       "\n",
       "    <div>\n",
       "      \n",
       "      <progress value='1125' max='1125' style='width:300px; height:20px; vertical-align: middle;'></progress>\n",
       "      [1125/1125 2:11:11, Epoch 3/3]\n",
       "    </div>\n",
       "    <table border=\"1\" class=\"dataframe\">\n",
       "  <thead>\n",
       " <tr style=\"text-align: left;\">\n",
       "      <th>Epoch</th>\n",
       "      <th>Training Loss</th>\n",
       "      <th>Validation Loss</th>\n",
       "      <th>Accuracy</th>\n",
       "      <th>F1</th>\n",
       "      <th>Precision</th>\n",
       "      <th>Recall</th>\n",
       "    </tr>\n",
       "  </thead>\n",
       "  <tbody>\n",
       "    <tr>\n",
       "      <td>1</td>\n",
       "      <td>0.523300</td>\n",
       "      <td>0.580452</td>\n",
       "      <td>0.822000</td>\n",
       "      <td>0.819397</td>\n",
       "      <td>0.826923</td>\n",
       "      <td>0.822000</td>\n",
       "    </tr>\n",
       "    <tr>\n",
       "      <td>2</td>\n",
       "      <td>0.309500</td>\n",
       "      <td>0.534316</td>\n",
       "      <td>0.842000</td>\n",
       "      <td>0.840395</td>\n",
       "      <td>0.843852</td>\n",
       "      <td>0.842000</td>\n",
       "    </tr>\n",
       "    <tr>\n",
       "      <td>3</td>\n",
       "      <td>0.114300</td>\n",
       "      <td>0.594031</td>\n",
       "      <td>0.843000</td>\n",
       "      <td>0.844432</td>\n",
       "      <td>0.849806</td>\n",
       "      <td>0.843000</td>\n",
       "    </tr>\n",
       "  </tbody>\n",
       "</table><p>"
      ],
      "text/plain": [
       "<IPython.core.display.HTML object>"
      ]
     },
     "metadata": {},
     "output_type": "display_data"
    },
    {
     "data": {
      "text/plain": [
       "TrainOutput(global_step=1125, training_loss=0.4324956893920898, metrics={'train_runtime': 7878.8849, 'train_samples_per_second': 2.285, 'train_steps_per_second': 0.143, 'total_flos': 4736339177472000.0, 'train_loss': 0.4324956893920898, 'epoch': 3.0})"
      ]
     },
     "execution_count": 22,
     "metadata": {},
     "output_type": "execute_result"
    }
   ],
   "source": [
    "trainer_bert.train()"
   ]
  },
  {
   "cell_type": "markdown",
   "id": "6643c275-2b57-4e3d-9ac4-4af405c509eb",
   "metadata": {},
   "source": [
    "#### Evaluate"
   ]
  },
  {
   "cell_type": "code",
   "execution_count": 23,
   "id": "2914b9aa-20bb-47de-bb1f-9ba53fca47de",
   "metadata": {
    "execution": {
     "iopub.execute_input": "2024-01-21T15:14:33.767018Z",
     "iopub.status.busy": "2024-01-21T15:14:33.764025Z",
     "iopub.status.idle": "2024-01-21T15:34:19.197319Z",
     "shell.execute_reply": "2024-01-21T15:34:19.196318Z",
     "shell.execute_reply.started": "2024-01-21T15:14:33.767018Z"
    }
   },
   "outputs": [
    {
     "data": {
      "text/html": [
       "\n",
       "    <div>\n",
       "      \n",
       "      <progress value='252' max='188' style='width:300px; height:20px; vertical-align: middle;'></progress>\n",
       "      [188/188 19:40]\n",
       "    </div>\n",
       "    "
      ],
      "text/plain": [
       "<IPython.core.display.HTML object>"
      ]
     },
     "metadata": {},
     "output_type": "display_data"
    },
    {
     "data": {
      "text/html": [
       "<div>\n",
       "<style scoped>\n",
       "    .dataframe tbody tr th:only-of-type {\n",
       "        vertical-align: middle;\n",
       "    }\n",
       "\n",
       "    .dataframe tbody tr th {\n",
       "        vertical-align: top;\n",
       "    }\n",
       "\n",
       "    .dataframe thead th {\n",
       "        text-align: right;\n",
       "    }\n",
       "</style>\n",
       "<table border=\"1\" class=\"dataframe\">\n",
       "  <thead>\n",
       "    <tr style=\"text-align: right;\">\n",
       "      <th></th>\n",
       "      <th>eval_loss</th>\n",
       "      <th>eval_Accuracy</th>\n",
       "      <th>eval_F1</th>\n",
       "      <th>eval_Precision</th>\n",
       "      <th>eval_Recall</th>\n",
       "    </tr>\n",
       "  </thead>\n",
       "  <tbody>\n",
       "    <tr>\n",
       "      <th>train</th>\n",
       "      <td>0.135738</td>\n",
       "      <td>0.960833</td>\n",
       "      <td>0.960398</td>\n",
       "      <td>0.961683</td>\n",
       "      <td>0.960833</td>\n",
       "    </tr>\n",
       "    <tr>\n",
       "      <th>val</th>\n",
       "      <td>0.534316</td>\n",
       "      <td>0.842000</td>\n",
       "      <td>0.840395</td>\n",
       "      <td>0.843852</td>\n",
       "      <td>0.842000</td>\n",
       "    </tr>\n",
       "    <tr>\n",
       "      <th>test</th>\n",
       "      <td>0.438821</td>\n",
       "      <td>0.868000</td>\n",
       "      <td>0.863542</td>\n",
       "      <td>0.867251</td>\n",
       "      <td>0.868000</td>\n",
       "    </tr>\n",
       "  </tbody>\n",
       "</table>\n",
       "</div>"
      ],
      "text/plain": [
       "       eval_loss  eval_Accuracy   eval_F1  eval_Precision  eval_Recall\n",
       "train   0.135738       0.960833  0.960398        0.961683     0.960833\n",
       "val     0.534316       0.842000  0.840395        0.843852     0.842000\n",
       "test    0.438821       0.868000  0.863542        0.867251     0.868000"
      ]
     },
     "execution_count": 23,
     "metadata": {},
     "output_type": "execute_result"
    }
   ],
   "source": [
    "result = [trainer_bert.evaluate(eval_dataset=data) for data in [train_dataset, val_dataset, test_dataset]]\n",
    "pd.DataFrame(result, index=[\"train\", \"val\", \"test\"]).iloc[:,:5]"
   ]
  },
  {
   "cell_type": "code",
   "execution_count": 24,
   "id": "0869bb26-e409-46c0-95db-fc2f8f83feac",
   "metadata": {
    "execution": {
     "iopub.execute_input": "2024-01-21T15:34:19.200309Z",
     "iopub.status.busy": "2024-01-21T15:34:19.199313Z",
     "iopub.status.idle": "2024-01-21T15:34:19.616524Z",
     "shell.execute_reply": "2024-01-21T15:34:19.615527Z",
     "shell.execute_reply.started": "2024-01-21T15:34:19.200309Z"
    }
   },
   "outputs": [
    {
     "data": {
      "text/plain": [
       "tensor([[0.0025, 0.0011, 0.0016, 0.0016, 0.0010, 0.9800, 0.0013, 0.0070, 0.0016,\n",
       "         0.0024]], device='cuda:0', grad_fn=<SoftmaxBackward0>)"
      ]
     },
     "execution_count": 24,
     "metadata": {},
     "output_type": "execute_result"
    }
   ],
   "source": [
    "text = \"Fenerbahçeli futbolcular kısa paslarla hazırlık çalışması yaptılar\"\n",
    "predict(text)[0]"
   ]
  },
  {
   "cell_type": "markdown",
   "id": "ad5af18a-d443-439a-8caa-816a34f50e28",
   "metadata": {},
   "source": [
    "#### Save Model"
   ]
  },
  {
   "cell_type": "code",
   "execution_count": 25,
   "id": "e6347d18-a1b0-44eb-9879-bcb691475a78",
   "metadata": {
    "execution": {
     "iopub.execute_input": "2024-01-21T15:34:19.623500Z",
     "iopub.status.busy": "2024-01-21T15:34:19.621507Z",
     "iopub.status.idle": "2024-01-21T15:34:20.395979Z",
     "shell.execute_reply": "2024-01-21T15:34:20.395054Z",
     "shell.execute_reply.started": "2024-01-21T15:34:19.623500Z"
    }
   },
   "outputs": [
    {
     "data": {
      "text/plain": [
       "('bert_text_classification_fine_tuned_interpress\\\\tokenizer_config.json',\n",
       " 'bert_text_classification_fine_tuned_interpress\\\\special_tokens_map.json',\n",
       " 'bert_text_classification_fine_tuned_interpress\\\\vocab.txt',\n",
       " 'bert_text_classification_fine_tuned_interpress\\\\added_tokens.json',\n",
       " 'bert_text_classification_fine_tuned_interpress\\\\tokenizer.json')"
      ]
     },
     "execution_count": 25,
     "metadata": {},
     "output_type": "execute_result"
    }
   ],
   "source": [
    "model_path = \"bertturk_text_classification_fine_tuned_interpress\"\n",
    "trainer_bert.save_model(model_path)\n",
    "tokenizer_bert.save_pretrained(model_path)"
   ]
  },
  {
   "cell_type": "markdown",
   "id": "6a1100cc-8bf9-44d3-a093-c2e0a5375b94",
   "metadata": {
    "jp-MarkdownHeadingCollapsed": true
   },
   "source": [
    "### TurkishBERTweet"
   ]
  },
  {
   "cell_type": "code",
   "execution_count": 7,
   "id": "5e94b148-9bfe-45ce-8b3b-9f26e70c7bf3",
   "metadata": {
    "execution": {
     "iopub.execute_input": "2024-01-28T06:22:51.009250Z",
     "iopub.status.busy": "2024-01-28T06:22:51.009250Z",
     "iopub.status.idle": "2024-01-28T06:22:53.051854Z",
     "shell.execute_reply": "2024-01-28T06:22:53.051854Z",
     "shell.execute_reply.started": "2024-01-28T06:22:51.009250Z"
    }
   },
   "outputs": [
    {
     "name": "stderr",
     "output_type": "stream",
     "text": [
      "Some weights of RobertaForSequenceClassification were not initialized from the model checkpoint at VRLLab/TurkishBERTweet and are newly initialized: ['classifier.dense.bias', 'classifier.out_proj.bias', 'classifier.out_proj.weight', 'classifier.dense.weight']\n",
      "You should probably TRAIN this model on a down-stream task to be able to use it for predictions and inference.\n"
     ]
    }
   ],
   "source": [
    "from transformers import AutoTokenizer, AutoModelForSequenceClassification\n",
    "\n",
    "tokenizer_tbt = AutoTokenizer.from_pretrained(\"VRLLab/TurkishBERTweet\", max_length=128)\n",
    "model_tbt = AutoModelForSequenceClassification.from_pretrained(\"VRLLab/TurkishBERTweet\", num_labels=num_labels, id2label=id2label, label2id=label2id)"
   ]
  },
  {
   "cell_type": "code",
   "execution_count": 8,
   "id": "4d98c27a-8b5a-41af-a949-fa7a25008f50",
   "metadata": {
    "execution": {
     "iopub.execute_input": "2024-01-28T06:23:05.594202Z",
     "iopub.status.busy": "2024-01-28T06:23:05.593204Z",
     "iopub.status.idle": "2024-01-28T06:23:07.630107Z",
     "shell.execute_reply": "2024-01-28T06:23:07.630107Z",
     "shell.execute_reply.started": "2024-01-28T06:23:05.594202Z"
    }
   },
   "outputs": [],
   "source": [
    "train_encodings = tokenizer_tbt(X_train, truncation=True, padding=True, max_length=128)\n",
    "val_encodings  = tokenizer_tbt(X_val, truncation=True, padding=True, max_length=128)\n",
    "test_encodings = tokenizer_tbt(X_test, truncation=True, padding=True, max_length=128)\n",
    "\n",
    "from torch.utils.data import Dataset\n",
    "\n",
    "class MyDataset(Dataset):\n",
    "    \n",
    "    def __init__(self, encodings, labels):\n",
    "        self.encodings = encodings\n",
    "        self.labels = labels\n",
    "        \n",
    "    def __getitem__(self, idx):\n",
    "        item = {key: torch.tensor(val[idx]) for key, val in self.encodings.items()}\n",
    "        item['labels'] = torch.tensor(self.labels[idx])\n",
    "        return item\n",
    "        \n",
    "    def __len__(self):\n",
    "        return len(self.labels)\n",
    "\n",
    "train_dataset = MyDataset(train_encodings, y_train)\n",
    "val_dataset = MyDataset(val_encodings, y_val)\n",
    "test_dataset = MyDataset(test_encodings, y_test)"
   ]
  },
  {
   "cell_type": "markdown",
   "id": "cc850a7b-4c64-4091-bdc2-55b290aca0b7",
   "metadata": {},
   "source": [
    "#### Train"
   ]
  },
  {
   "cell_type": "code",
   "execution_count": 9,
   "id": "b87450a0-62e6-4fe4-9652-5f7ce6168302",
   "metadata": {
    "execution": {
     "iopub.execute_input": "2024-01-28T06:23:57.790930Z",
     "iopub.status.busy": "2024-01-28T06:23:57.789900Z",
     "iopub.status.idle": "2024-01-28T06:23:59.363393Z",
     "shell.execute_reply": "2024-01-28T06:23:59.363393Z",
     "shell.execute_reply.started": "2024-01-28T06:23:57.790930Z"
    }
   },
   "outputs": [],
   "source": [
    "training_args = TrainingArguments(\n",
    "    output_dir='../Models/turkishbertweet_text_classification_fine_tuned_interpress/', \n",
    "    do_train=True,\n",
    "    do_eval=True,\n",
    "    num_train_epochs=3,              \n",
    "    per_device_train_batch_size=16,  \n",
    "    per_device_eval_batch_size=32,\n",
    "    warmup_steps=100,                \n",
    "    weight_decay=0.01,\n",
    "    logging_strategy='steps',              \n",
    "    logging_dir='../Output/TBT_Logs_Interpress',            \n",
    "    logging_steps=100,\n",
    "    evaluation_strategy=\"epoch\",\n",
    "    eval_steps=1,\n",
    "    save_strategy=\"epoch\",\n",
    "    save_steps=1,\n",
    "    fp16=True,\n",
    "    load_best_model_at_end=True\n",
    ")\n",
    "\n",
    "trainer_tbt = Trainer(\n",
    "    model=model_tbt,                    \n",
    "    args=training_args,                 \n",
    "    train_dataset=train_dataset,         \n",
    "    eval_dataset=val_dataset,            \n",
    "    compute_metrics= compute_metrics\n",
    ")"
   ]
  },
  {
   "cell_type": "code",
   "execution_count": 10,
   "id": "6679ecf0-09bf-4ebc-9823-76a35fe6b43d",
   "metadata": {
    "execution": {
     "iopub.execute_input": "2024-01-28T06:24:15.218378Z",
     "iopub.status.busy": "2024-01-28T06:24:15.218378Z",
     "iopub.status.idle": "2024-01-28T06:28:55.765528Z",
     "shell.execute_reply": "2024-01-28T06:28:55.764531Z",
     "shell.execute_reply.started": "2024-01-28T06:24:15.218378Z"
    }
   },
   "outputs": [
    {
     "data": {
      "text/html": [
       "\n",
       "    <div>\n",
       "      \n",
       "      <progress value='1125' max='1125' style='width:300px; height:20px; vertical-align: middle;'></progress>\n",
       "      [1125/1125 04:39, Epoch 3/3]\n",
       "    </div>\n",
       "    <table border=\"1\" class=\"dataframe\">\n",
       "  <thead>\n",
       " <tr style=\"text-align: left;\">\n",
       "      <th>Epoch</th>\n",
       "      <th>Training Loss</th>\n",
       "      <th>Validation Loss</th>\n",
       "      <th>Accuracy</th>\n",
       "      <th>F1</th>\n",
       "      <th>Precision</th>\n",
       "      <th>Recall</th>\n",
       "    </tr>\n",
       "  </thead>\n",
       "  <tbody>\n",
       "    <tr>\n",
       "      <td>1</td>\n",
       "      <td>1.057400</td>\n",
       "      <td>0.923491</td>\n",
       "      <td>0.699000</td>\n",
       "      <td>0.693820</td>\n",
       "      <td>0.704609</td>\n",
       "      <td>0.699000</td>\n",
       "    </tr>\n",
       "    <tr>\n",
       "      <td>2</td>\n",
       "      <td>0.446100</td>\n",
       "      <td>0.887650</td>\n",
       "      <td>0.721000</td>\n",
       "      <td>0.723308</td>\n",
       "      <td>0.742017</td>\n",
       "      <td>0.721000</td>\n",
       "    </tr>\n",
       "    <tr>\n",
       "      <td>3</td>\n",
       "      <td>0.150400</td>\n",
       "      <td>1.016317</td>\n",
       "      <td>0.767000</td>\n",
       "      <td>0.768786</td>\n",
       "      <td>0.772489</td>\n",
       "      <td>0.767000</td>\n",
       "    </tr>\n",
       "  </tbody>\n",
       "</table><p>"
      ],
      "text/plain": [
       "<IPython.core.display.HTML object>"
      ]
     },
     "metadata": {},
     "output_type": "display_data"
    },
    {
     "data": {
      "text/plain": [
       "TrainOutput(global_step=1125, training_loss=0.696331046210395, metrics={'train_runtime': 280.3881, 'train_samples_per_second': 64.197, 'train_steps_per_second': 4.012, 'total_flos': 1184084794368000.0, 'train_loss': 0.696331046210395, 'epoch': 3.0})"
      ]
     },
     "execution_count": 10,
     "metadata": {},
     "output_type": "execute_result"
    }
   ],
   "source": [
    "trainer_tbt.train()"
   ]
  },
  {
   "cell_type": "markdown",
   "id": "2b5f2d67-bc5f-4b48-8bf9-9523f264a99a",
   "metadata": {},
   "source": [
    "#### Evaluate"
   ]
  },
  {
   "cell_type": "code",
   "execution_count": 11,
   "id": "05e301ed-853d-40df-b96c-050a223e6486",
   "metadata": {
    "execution": {
     "iopub.execute_input": "2024-01-28T06:28:55.766525Z",
     "iopub.status.busy": "2024-01-28T06:28:55.766525Z",
     "iopub.status.idle": "2024-01-28T06:29:18.818081Z",
     "shell.execute_reply": "2024-01-28T06:29:18.817085Z",
     "shell.execute_reply.started": "2024-01-28T06:28:55.766525Z"
    }
   },
   "outputs": [
    {
     "data": {
      "text/html": [
       "\n",
       "    <div>\n",
       "      \n",
       "      <progress value='252' max='188' style='width:300px; height:20px; vertical-align: middle;'></progress>\n",
       "      [188/188 00:22]\n",
       "    </div>\n",
       "    "
      ],
      "text/plain": [
       "<IPython.core.display.HTML object>"
      ]
     },
     "metadata": {},
     "output_type": "display_data"
    },
    {
     "data": {
      "text/html": [
       "<div>\n",
       "<style scoped>\n",
       "    .dataframe tbody tr th:only-of-type {\n",
       "        vertical-align: middle;\n",
       "    }\n",
       "\n",
       "    .dataframe tbody tr th {\n",
       "        vertical-align: top;\n",
       "    }\n",
       "\n",
       "    .dataframe thead th {\n",
       "        text-align: right;\n",
       "    }\n",
       "</style>\n",
       "<table border=\"1\" class=\"dataframe\">\n",
       "  <thead>\n",
       "    <tr style=\"text-align: right;\">\n",
       "      <th></th>\n",
       "      <th>eval_loss</th>\n",
       "      <th>eval_Accuracy</th>\n",
       "      <th>eval_F1</th>\n",
       "      <th>eval_Precision</th>\n",
       "      <th>eval_Recall</th>\n",
       "    </tr>\n",
       "  </thead>\n",
       "  <tbody>\n",
       "    <tr>\n",
       "      <th>train</th>\n",
       "      <td>0.208153</td>\n",
       "      <td>0.939667</td>\n",
       "      <td>0.940103</td>\n",
       "      <td>0.944196</td>\n",
       "      <td>0.939667</td>\n",
       "    </tr>\n",
       "    <tr>\n",
       "      <th>val</th>\n",
       "      <td>0.887650</td>\n",
       "      <td>0.721000</td>\n",
       "      <td>0.723308</td>\n",
       "      <td>0.742017</td>\n",
       "      <td>0.721000</td>\n",
       "    </tr>\n",
       "    <tr>\n",
       "      <th>test</th>\n",
       "      <td>0.785150</td>\n",
       "      <td>0.760000</td>\n",
       "      <td>0.760268</td>\n",
       "      <td>0.779226</td>\n",
       "      <td>0.760000</td>\n",
       "    </tr>\n",
       "  </tbody>\n",
       "</table>\n",
       "</div>"
      ],
      "text/plain": [
       "       eval_loss  eval_Accuracy   eval_F1  eval_Precision  eval_Recall\n",
       "train   0.208153       0.939667  0.940103        0.944196     0.939667\n",
       "val     0.887650       0.721000  0.723308        0.742017     0.721000\n",
       "test    0.785150       0.760000  0.760268        0.779226     0.760000"
      ]
     },
     "execution_count": 11,
     "metadata": {},
     "output_type": "execute_result"
    }
   ],
   "source": [
    "result = [trainer_tbt.evaluate(eval_dataset=data) for data in [train_dataset, val_dataset, test_dataset]]\n",
    "pd.DataFrame(result, index=[\"train\", \"val\", \"test\"]).iloc[:,:5]"
   ]
  },
  {
   "cell_type": "code",
   "execution_count": 12,
   "id": "499a7ef4-81cd-4020-81d1-805bc08effac",
   "metadata": {
    "execution": {
     "iopub.execute_input": "2024-01-28T06:29:18.820075Z",
     "iopub.status.busy": "2024-01-28T06:29:18.819078Z",
     "iopub.status.idle": "2024-01-28T06:29:18.974005Z",
     "shell.execute_reply": "2024-01-28T06:29:18.973009Z",
     "shell.execute_reply.started": "2024-01-28T06:29:18.820075Z"
    }
   },
   "outputs": [
    {
     "name": "stderr",
     "output_type": "stream",
     "text": [
      "Asking to truncate to max_length but no maximum length is provided and the model has no predefined maximum length. Default to no truncation.\n"
     ]
    },
    {
     "data": {
      "text/plain": [
       "tensor([[7.6846e-04, 9.9398e-04, 1.4967e-03, 1.0493e-03, 6.7684e-04, 9.9103e-01,\n",
       "         3.7893e-04, 2.4855e-03, 6.5218e-04, 4.7067e-04]], device='cuda:0',\n",
       "       grad_fn=<SoftmaxBackward0>)"
      ]
     },
     "execution_count": 12,
     "metadata": {},
     "output_type": "execute_result"
    }
   ],
   "source": [
    "text = \"Fenerbahçeli futbolcular kısa paslarla hazırlık çalışması yaptılar\"\n",
    "predict(model_tbt, tokenizer_tbt, text)[0]"
   ]
  },
  {
   "cell_type": "markdown",
   "id": "fdb77aeb-ca63-482c-bf67-0b160ea6df22",
   "metadata": {},
   "source": [
    "#### Save Model"
   ]
  },
  {
   "cell_type": "code",
   "execution_count": 13,
   "id": "2a8da9f5-1370-4511-928a-7d0c4b2424a3",
   "metadata": {
    "execution": {
     "iopub.execute_input": "2024-01-28T06:29:18.975002Z",
     "iopub.status.busy": "2024-01-28T06:29:18.975002Z",
     "iopub.status.idle": "2024-01-28T06:29:20.083589Z",
     "shell.execute_reply": "2024-01-28T06:29:20.083589Z",
     "shell.execute_reply.started": "2024-01-28T06:29:18.975002Z"
    }
   },
   "outputs": [
    {
     "data": {
      "text/plain": [
       "('turkishbertweet_text_classification_fine_tuned_interpress\\\\tokenizer_config.json',\n",
       " 'turkishbertweet_text_classification_fine_tuned_interpress\\\\special_tokens_map.json',\n",
       " 'turkishbertweet_text_classification_fine_tuned_interpress\\\\vocab.json',\n",
       " 'turkishbertweet_text_classification_fine_tuned_interpress\\\\merges.txt',\n",
       " 'turkishbertweet_text_classification_fine_tuned_interpress\\\\added_tokens.json',\n",
       " 'turkishbertweet_text_classification_fine_tuned_interpress\\\\tokenizer.json')"
      ]
     },
     "execution_count": 13,
     "metadata": {},
     "output_type": "execute_result"
    }
   ],
   "source": [
    "model_path = \"turkishbertweet_text_classification_fine_tuned_interpress\"\n",
    "\n",
    "trainer_tbt.save_model(model_path)\n",
    "tokenizer_tbt.save_pretrained(model_path)"
   ]
  }
 ],
 "metadata": {
  "kernelspec": {
   "display_name": "master",
   "language": "python",
   "name": "master"
  },
  "language_info": {
   "codemirror_mode": {
    "name": "ipython",
    "version": 3
   },
   "file_extension": ".py",
   "mimetype": "text/x-python",
   "name": "python",
   "nbconvert_exporter": "python",
   "pygments_lexer": "ipython3",
   "version": "3.10.13"
  }
 },
 "nbformat": 4,
 "nbformat_minor": 5
}
