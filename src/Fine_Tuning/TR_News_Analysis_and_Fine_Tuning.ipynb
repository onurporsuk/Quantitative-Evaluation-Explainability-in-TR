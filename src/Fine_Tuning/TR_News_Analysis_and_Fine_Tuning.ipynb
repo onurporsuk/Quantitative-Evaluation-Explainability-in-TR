{
 "cells": [
  {
   "cell_type": "markdown",
   "id": "20051c67-9538-4aee-a348-e73d5eb200ff",
   "metadata": {},
   "source": [
    "# Text Classification on TR News"
   ]
  },
  {
   "cell_type": "markdown",
   "id": "a503de5a-d945-42ce-9dec-ff26e65d8597",
   "metadata": {
    "jp-MarkdownHeadingCollapsed": true
   },
   "source": [
    "## Analyze and Preprocess Dataset"
   ]
  },
  {
   "cell_type": "code",
   "execution_count": 1,
   "id": "9b6c5e07-e7d7-4d1d-8b47-69854e20018a",
   "metadata": {
    "execution": {
     "iopub.execute_input": "2024-03-10T09:32:56.448015Z",
     "iopub.status.busy": "2024-03-10T09:32:56.448015Z",
     "iopub.status.idle": "2024-03-10T09:33:30.100473Z",
     "shell.execute_reply": "2024-03-10T09:33:30.098473Z",
     "shell.execute_reply.started": "2024-03-10T09:32:56.448015Z"
    }
   },
   "outputs": [
    {
     "data": {
      "application/vnd.jupyter.widget-view+json": {
       "model_id": "3dfe903fd0bf444b8a64176c0f9f2104",
       "version_major": 2,
       "version_minor": 0
      },
      "text/plain": [
       "Downloading data files:   0%|          | 0/3 [00:00<?, ?it/s]"
      ]
     },
     "metadata": {},
     "output_type": "display_data"
    },
    {
     "data": {
      "application/vnd.jupyter.widget-view+json": {
       "model_id": "82ff54ab959546afac6d1fe705ed3037",
       "version_major": 2,
       "version_minor": 0
      },
      "text/plain": [
       "Extracting data files:   0%|          | 0/3 [00:00<?, ?it/s]"
      ]
     },
     "metadata": {},
     "output_type": "display_data"
    },
    {
     "data": {
      "application/vnd.jupyter.widget-view+json": {
       "model_id": "094e191e33b247e59c5f570927aeb216",
       "version_major": 2,
       "version_minor": 0
      },
      "text/plain": [
       "Generating train split: 0 examples [00:00, ? examples/s]"
      ]
     },
     "metadata": {},
     "output_type": "display_data"
    },
    {
     "data": {
      "application/vnd.jupyter.widget-view+json": {
       "model_id": "741fdbbaa1314b05a138ded457e7264b",
       "version_major": 2,
       "version_minor": 0
      },
      "text/plain": [
       "Generating validation split: 0 examples [00:00, ? examples/s]"
      ]
     },
     "metadata": {},
     "output_type": "display_data"
    },
    {
     "data": {
      "application/vnd.jupyter.widget-view+json": {
       "model_id": "2d29bf42dbbc4e5c905f8afc43867368",
       "version_major": 2,
       "version_minor": 0
      },
      "text/plain": [
       "Generating test split: 0 examples [00:00, ? examples/s]"
      ]
     },
     "metadata": {},
     "output_type": "display_data"
    },
    {
     "data": {
      "text/html": [
       "<div>\n",
       "<style scoped>\n",
       "    .dataframe tbody tr th:only-of-type {\n",
       "        vertical-align: middle;\n",
       "    }\n",
       "\n",
       "    .dataframe tbody tr th {\n",
       "        vertical-align: top;\n",
       "    }\n",
       "\n",
       "    .dataframe thead th {\n",
       "        text-align: right;\n",
       "    }\n",
       "</style>\n",
       "<table border=\"1\" class=\"dataframe\">\n",
       "  <thead>\n",
       "    <tr style=\"text-align: right;\">\n",
       "      <th></th>\n",
       "      <th>text</th>\n",
       "      <th>label</th>\n",
       "    </tr>\n",
       "  </thead>\n",
       "  <tbody>\n",
       "    <tr>\n",
       "      <th>1</th>\n",
       "      <td>MHP Genel Başkanı Bahçeli, Manisa'nın Selendi ...</td>\n",
       "      <td>0</td>\n",
       "    </tr>\n",
       "    <tr>\n",
       "      <th>4</th>\n",
       "      <td>İspanya'nın Marca Gazetesi'nde yayımlanan deme...</td>\n",
       "      <td>2</td>\n",
       "    </tr>\n",
       "    <tr>\n",
       "      <th>5</th>\n",
       "      <td>Cumhurbaşkanlığı himayesinde, Kültür ve Turizm...</td>\n",
       "      <td>7</td>\n",
       "    </tr>\n",
       "    <tr>\n",
       "      <th>6</th>\n",
       "      <td>Galatasaray Antrenörü Johan Neeskens, bu sezon...</td>\n",
       "      <td>2</td>\n",
       "    </tr>\n",
       "    <tr>\n",
       "      <th>7</th>\n",
       "      <td>Yalvaç Ağır Ceza Mahkemesi, Isparta'nın Yalvaç...</td>\n",
       "      <td>6</td>\n",
       "    </tr>\n",
       "    <tr>\n",
       "      <th>...</th>\n",
       "      <td>...</td>\n",
       "      <td>...</td>\n",
       "    </tr>\n",
       "    <tr>\n",
       "      <th>277565</th>\n",
       "      <td>Eskişehir'de, dizi oyuncusu Şeyma Korkmaz'ın k...</td>\n",
       "      <td>0</td>\n",
       "    </tr>\n",
       "    <tr>\n",
       "      <th>277566</th>\n",
       "      <td>Milli Savunma Bakanı Hulusi Akar, Türk Silahlı...</td>\n",
       "      <td>0</td>\n",
       "    </tr>\n",
       "    <tr>\n",
       "      <th>277567</th>\n",
       "      <td>Evsahibinin evini görememesi üzerine polise ya...</td>\n",
       "      <td>5</td>\n",
       "    </tr>\n",
       "    <tr>\n",
       "      <th>277569</th>\n",
       "      <td>Trabzon'da temizlik çalışması sırasında kanali...</td>\n",
       "      <td>0</td>\n",
       "    </tr>\n",
       "    <tr>\n",
       "      <th>277570</th>\n",
       "      <td>İstanbul Büyükşehir Belediyesi (İBB)’nin inter...</td>\n",
       "      <td>0</td>\n",
       "    </tr>\n",
       "  </tbody>\n",
       "</table>\n",
       "<p>225057 rows × 2 columns</p>\n",
       "</div>"
      ],
      "text/plain": [
       "                                                     text  label\n",
       "1       MHP Genel Başkanı Bahçeli, Manisa'nın Selendi ...      0\n",
       "4       İspanya'nın Marca Gazetesi'nde yayımlanan deme...      2\n",
       "5       Cumhurbaşkanlığı himayesinde, Kültür ve Turizm...      7\n",
       "6       Galatasaray Antrenörü Johan Neeskens, bu sezon...      2\n",
       "7       Yalvaç Ağır Ceza Mahkemesi, Isparta'nın Yalvaç...      6\n",
       "...                                                   ...    ...\n",
       "277565  Eskişehir'de, dizi oyuncusu Şeyma Korkmaz'ın k...      0\n",
       "277566  Milli Savunma Bakanı Hulusi Akar, Türk Silahlı...      0\n",
       "277567  Evsahibinin evini görememesi üzerine polise ya...      5\n",
       "277569  Trabzon'da temizlik çalışması sırasında kanali...      0\n",
       "277570  İstanbul Büyükşehir Belediyesi (İBB)’nin inter...      0\n",
       "\n",
       "[225057 rows x 2 columns]"
      ]
     },
     "metadata": {},
     "output_type": "display_data"
    },
    {
     "data": {
      "text/html": [
       "<div>\n",
       "<style scoped>\n",
       "    .dataframe tbody tr th:only-of-type {\n",
       "        vertical-align: middle;\n",
       "    }\n",
       "\n",
       "    .dataframe tbody tr th {\n",
       "        vertical-align: top;\n",
       "    }\n",
       "\n",
       "    .dataframe thead th {\n",
       "        text-align: right;\n",
       "    }\n",
       "</style>\n",
       "<table border=\"1\" class=\"dataframe\">\n",
       "  <thead>\n",
       "    <tr style=\"text-align: right;\">\n",
       "      <th></th>\n",
       "      <th>text</th>\n",
       "      <th>label</th>\n",
       "    </tr>\n",
       "  </thead>\n",
       "  <tbody>\n",
       "    <tr>\n",
       "      <th>0</th>\n",
       "      <td>Türk halk müziği ve protest müziğin önemli isi...</td>\n",
       "      <td>0</td>\n",
       "    </tr>\n",
       "    <tr>\n",
       "      <th>2</th>\n",
       "      <td>İngiltere devlet televizyonu BBC'nin iş yaşamı...</td>\n",
       "      <td>5</td>\n",
       "    </tr>\n",
       "    <tr>\n",
       "      <th>3</th>\n",
       "      <td>Uluslararası Kriz Grubu'nun Irak Kürdistan’ı i...</td>\n",
       "      <td>1</td>\n",
       "    </tr>\n",
       "    <tr>\n",
       "      <th>4</th>\n",
       "      <td>Şampiyonlar Ligi'nde A, B, C ve D gruplarında ...</td>\n",
       "      <td>2</td>\n",
       "    </tr>\n",
       "    <tr>\n",
       "      <th>5</th>\n",
       "      <td>TBMM Genel Kurulu'nda Halkların Demokratik Par...</td>\n",
       "      <td>10</td>\n",
       "    </tr>\n",
       "    <tr>\n",
       "      <th>...</th>\n",
       "      <td>...</td>\n",
       "      <td>...</td>\n",
       "    </tr>\n",
       "    <tr>\n",
       "      <th>14602</th>\n",
       "      <td>Ankara'nın Mamak ilçesinde Mikail Y. yönetimin...</td>\n",
       "      <td>0</td>\n",
       "    </tr>\n",
       "    <tr>\n",
       "      <th>14603</th>\n",
       "      <td>Case Western Üniversitesi'nden deneyi gerçekle...</td>\n",
       "      <td>0</td>\n",
       "    </tr>\n",
       "    <tr>\n",
       "      <th>14605</th>\n",
       "      <td>Maltepe ilçesi Zümrütevler Mahallesi Nurhan So...</td>\n",
       "      <td>0</td>\n",
       "    </tr>\n",
       "    <tr>\n",
       "      <th>14607</th>\n",
       "      <td>ABD Dışişleri Bakanlığı Sözcüsü Heather Nauert...</td>\n",
       "      <td>1</td>\n",
       "    </tr>\n",
       "    <tr>\n",
       "      <th>14608</th>\n",
       "      <td>Formula 1 2017 Dünya Şampiyonası'nın 18'inci y...</td>\n",
       "      <td>2</td>\n",
       "    </tr>\n",
       "  </tbody>\n",
       "</table>\n",
       "<p>11836 rows × 2 columns</p>\n",
       "</div>"
      ],
      "text/plain": [
       "                                                    text  label\n",
       "0      Türk halk müziği ve protest müziğin önemli isi...      0\n",
       "2      İngiltere devlet televizyonu BBC'nin iş yaşamı...      5\n",
       "3      Uluslararası Kriz Grubu'nun Irak Kürdistan’ı i...      1\n",
       "4      Şampiyonlar Ligi'nde A, B, C ve D gruplarında ...      2\n",
       "5      TBMM Genel Kurulu'nda Halkların Demokratik Par...     10\n",
       "...                                                  ...    ...\n",
       "14602  Ankara'nın Mamak ilçesinde Mikail Y. yönetimin...      0\n",
       "14603  Case Western Üniversitesi'nden deneyi gerçekle...      0\n",
       "14605  Maltepe ilçesi Zümrütevler Mahallesi Nurhan So...      0\n",
       "14607  ABD Dışişleri Bakanlığı Sözcüsü Heather Nauert...      1\n",
       "14608  Formula 1 2017 Dünya Şampiyonası'nın 18'inci y...      2\n",
       "\n",
       "[11836 rows x 2 columns]"
      ]
     },
     "metadata": {},
     "output_type": "display_data"
    },
    {
     "data": {
      "text/html": [
       "<div>\n",
       "<style scoped>\n",
       "    .dataframe tbody tr th:only-of-type {\n",
       "        vertical-align: middle;\n",
       "    }\n",
       "\n",
       "    .dataframe tbody tr th {\n",
       "        vertical-align: top;\n",
       "    }\n",
       "\n",
       "    .dataframe thead th {\n",
       "        text-align: right;\n",
       "    }\n",
       "</style>\n",
       "<table border=\"1\" class=\"dataframe\">\n",
       "  <thead>\n",
       "    <tr style=\"text-align: right;\">\n",
       "      <th></th>\n",
       "      <th>text</th>\n",
       "      <th>label</th>\n",
       "    </tr>\n",
       "  </thead>\n",
       "  <tbody>\n",
       "    <tr>\n",
       "      <th>0</th>\n",
       "      <td>Çin Dışişleri Bakanlığı Sözcüsü Hua Çunying, y...</td>\n",
       "      <td>1</td>\n",
       "    </tr>\n",
       "    <tr>\n",
       "      <th>1</th>\n",
       "      <td>İçişleri Bakanı Süleyman Soylu, Van'daki terör...</td>\n",
       "      <td>0</td>\n",
       "    </tr>\n",
       "    <tr>\n",
       "      <th>3</th>\n",
       "      <td>Meteoroloji Genel Müdürlüğü'nden yapılan açıkl...</td>\n",
       "      <td>0</td>\n",
       "    </tr>\n",
       "    <tr>\n",
       "      <th>4</th>\n",
       "      <td>Filistin’i ziyaret eden Rum Yönetimi Lideri Di...</td>\n",
       "      <td>1</td>\n",
       "    </tr>\n",
       "    <tr>\n",
       "      <th>5</th>\n",
       "      <td>Meteoroloji Genel Müdürlüğünden yapılan duyuru...</td>\n",
       "      <td>0</td>\n",
       "    </tr>\n",
       "    <tr>\n",
       "      <th>...</th>\n",
       "      <td>...</td>\n",
       "      <td>...</td>\n",
       "    </tr>\n",
       "    <tr>\n",
       "      <th>15374</th>\n",
       "      <td>Şırnak Bestler-Dereler bölgesindeki operasyond...</td>\n",
       "      <td>0</td>\n",
       "    </tr>\n",
       "    <tr>\n",
       "      <th>15375</th>\n",
       "      <td>ABD'deki en büyük eşcinsel derneği İnsan Hakla...</td>\n",
       "      <td>5</td>\n",
       "    </tr>\n",
       "    <tr>\n",
       "      <th>15376</th>\n",
       "      <td>Mısır güvenlik güçlerinin, Batı Sahra'da Meksi...</td>\n",
       "      <td>1</td>\n",
       "    </tr>\n",
       "    <tr>\n",
       "      <th>15377</th>\n",
       "      <td>Geçen yıl Turgutreis Belediyesi'ne yönelik ope...</td>\n",
       "      <td>0</td>\n",
       "    </tr>\n",
       "    <tr>\n",
       "      <th>15378</th>\n",
       "      <td>Güneşin zararlı ışınları göz sağlığını bozup b...</td>\n",
       "      <td>4</td>\n",
       "    </tr>\n",
       "  </tbody>\n",
       "</table>\n",
       "<p>12510 rows × 2 columns</p>\n",
       "</div>"
      ],
      "text/plain": [
       "                                                    text  label\n",
       "0      Çin Dışişleri Bakanlığı Sözcüsü Hua Çunying, y...      1\n",
       "1      İçişleri Bakanı Süleyman Soylu, Van'daki terör...      0\n",
       "3      Meteoroloji Genel Müdürlüğü'nden yapılan açıkl...      0\n",
       "4      Filistin’i ziyaret eden Rum Yönetimi Lideri Di...      1\n",
       "5      Meteoroloji Genel Müdürlüğünden yapılan duyuru...      0\n",
       "...                                                  ...    ...\n",
       "15374  Şırnak Bestler-Dereler bölgesindeki operasyond...      0\n",
       "15375  ABD'deki en büyük eşcinsel derneği İnsan Hakla...      5\n",
       "15376  Mısır güvenlik güçlerinin, Batı Sahra'da Meksi...      1\n",
       "15377  Geçen yıl Turgutreis Belediyesi'ne yönelik ope...      0\n",
       "15378  Güneşin zararlı ışınları göz sağlığını bozup b...      4\n",
       "\n",
       "[12510 rows x 2 columns]"
      ]
     },
     "metadata": {},
     "output_type": "display_data"
    }
   ],
   "source": [
    "from datasets import load_dataset\n",
    "import pandas as pd\n",
    "\n",
    "tr_news = load_dataset(\"batubayk/TR-News\")\n",
    "\n",
    "classes_to_filter = ['türkiye', 'dünya', 'spor', 'ekonomi', 'sağlık', 'yaşam', 'gündem', 'sanat', 'teknoloji', 'eğitim', 'siyaset']\n",
    "int_labels = [0, 1, 2, 3, 4, 5, 6, 7, 8, 9, 10]\n",
    "\n",
    "# Dictionary to map class names to integer labels\n",
    "class_to_int_mapping = {cls: label for cls, label in zip(classes_to_filter, int_labels)}\n",
    "\n",
    "# Process each split (train, val, test)\n",
    "for split_name in tr_news.keys():\n",
    "    \n",
    "    # Convert the split to a pandas dataframe and select only 'content' and 'topic' columns\n",
    "    df_split = pd.DataFrame(tr_news[split_name], columns=['content', 'topic'])\n",
    "    \n",
    "    # Replace meaningless \"\\xa0\" string with a space in the 'content' column\n",
    "    df_split['content'] = df_split['content'].replace(\"\\xa0\", \" \", regex=True)\n",
    "    \n",
    "    # Convert 'topic' column to lowercase for case-insensitive matching\n",
    "    df_split['topic'] = df_split['topic'].str.lower()\n",
    "    \n",
    "    # Filter samples based on the 'topic' column\n",
    "    df_split = df_split[df_split['topic'].isin(classes_to_filter)]\n",
    "\n",
    "    # Map class names to integer labels\n",
    "    df_split['topic'] = df_split['topic'].map(class_to_int_mapping)\n",
    "    \n",
    "    df_split = df_split.rename(columns={'content': 'text', 'topic': 'label'})\n",
    "\n",
    "    tr_news[split_name] = df_split\n",
    "\n",
    "tr_news_train = pd.DataFrame(tr_news['train'])\n",
    "tr_news_val = pd.DataFrame(tr_news['validation'])\n",
    "tr_news_test = pd.DataFrame(tr_news['test'])\n",
    "\n",
    "del tr_news\n",
    "\n",
    "display(tr_news_train, tr_news_val, tr_news_test)"
   ]
  },
  {
   "cell_type": "code",
   "execution_count": 4,
   "id": "61106464-eb5c-4e39-b0af-39bb0a2aa970",
   "metadata": {
    "execution": {
     "iopub.execute_input": "2024-03-10T09:36:25.371072Z",
     "iopub.status.busy": "2024-03-10T09:36:25.370072Z",
     "iopub.status.idle": "2024-03-10T09:37:37.625301Z",
     "shell.execute_reply": "2024-03-10T09:37:37.624326Z",
     "shell.execute_reply.started": "2024-03-10T09:36:25.371072Z"
    }
   },
   "outputs": [
    {
     "name": "stdout",
     "output_type": "stream",
     "text": [
      "\n",
      "Analysis of TR News Dataset\n",
      "\n"
     ]
    },
    {
     "data": {
      "image/png": "[encoded data removed]",
      "text/plain": [
       "<Figure size 800x400 with 1 Axes>"
      ]
     },
     "metadata": {},
     "output_type": "display_data"
    },
    {
     "name": "stdout",
     "output_type": "stream",
     "text": [
      "\n",
      "Statistical measures for input text (character-level):\n",
      "\n"
     ]
    },
    {
     "data": {
      "text/html": [
       "<div>\n",
       "<style scoped>\n",
       "    .dataframe tbody tr th:only-of-type {\n",
       "        vertical-align: middle;\n",
       "    }\n",
       "\n",
       "    .dataframe tbody tr th {\n",
       "        vertical-align: top;\n",
       "    }\n",
       "\n",
       "    .dataframe thead th {\n",
       "        text-align: right;\n",
       "    }\n",
       "</style>\n",
       "<table border=\"1\" class=\"dataframe\">\n",
       "  <thead>\n",
       "    <tr style=\"text-align: right;\">\n",
       "      <th></th>\n",
       "      <th>text</th>\n",
       "    </tr>\n",
       "  </thead>\n",
       "  <tbody>\n",
       "    <tr>\n",
       "      <th>count</th>\n",
       "      <td>50000.00</td>\n",
       "    </tr>\n",
       "    <tr>\n",
       "      <th>mean</th>\n",
       "      <td>1875.86</td>\n",
       "    </tr>\n",
       "    <tr>\n",
       "      <th>std</th>\n",
       "      <td>2584.51</td>\n",
       "    </tr>\n",
       "    <tr>\n",
       "      <th>min</th>\n",
       "      <td>1.00</td>\n",
       "    </tr>\n",
       "    <tr>\n",
       "      <th>25%</th>\n",
       "      <td>725.00</td>\n",
       "    </tr>\n",
       "    <tr>\n",
       "      <th>50%</th>\n",
       "      <td>1210.50</td>\n",
       "    </tr>\n",
       "    <tr>\n",
       "      <th>75%</th>\n",
       "      <td>2198.00</td>\n",
       "    </tr>\n",
       "    <tr>\n",
       "      <th>max</th>\n",
       "      <td>248304.00</td>\n",
       "    </tr>\n",
       "  </tbody>\n",
       "</table>\n",
       "</div>"
      ],
      "text/plain": [
       "            text\n",
       "count   50000.00\n",
       "mean     1875.86\n",
       "std      2584.51\n",
       "min         1.00\n",
       "25%       725.00\n",
       "50%      1210.50\n",
       "75%      2198.00\n",
       "max    248304.00"
      ]
     },
     "metadata": {},
     "output_type": "display_data"
    },
    {
     "data": {
      "image/png": "[encoded data removed]",
      "text/plain": [
       "<Figure size 800x400 with 1 Axes>"
      ]
     },
     "metadata": {},
     "output_type": "display_data"
    },
    {
     "name": "stdout",
     "output_type": "stream",
     "text": [
      "Statistical measures for input text (word-level):\n",
      "\n"
     ]
    },
    {
     "data": {
      "text/html": [
       "<div>\n",
       "<style scoped>\n",
       "    .dataframe tbody tr th:only-of-type {\n",
       "        vertical-align: middle;\n",
       "    }\n",
       "\n",
       "    .dataframe tbody tr th {\n",
       "        vertical-align: top;\n",
       "    }\n",
       "\n",
       "    .dataframe thead th {\n",
       "        text-align: right;\n",
       "    }\n",
       "</style>\n",
       "<table border=\"1\" class=\"dataframe\">\n",
       "  <thead>\n",
       "    <tr style=\"text-align: right;\">\n",
       "      <th></th>\n",
       "      <th>text</th>\n",
       "    </tr>\n",
       "  </thead>\n",
       "  <tbody>\n",
       "    <tr>\n",
       "      <th>count</th>\n",
       "      <td>50000.00</td>\n",
       "    </tr>\n",
       "    <tr>\n",
       "      <th>mean</th>\n",
       "      <td>239.27</td>\n",
       "    </tr>\n",
       "    <tr>\n",
       "      <th>std</th>\n",
       "      <td>330.79</td>\n",
       "    </tr>\n",
       "    <tr>\n",
       "      <th>min</th>\n",
       "      <td>1.00</td>\n",
       "    </tr>\n",
       "    <tr>\n",
       "      <th>25%</th>\n",
       "      <td>92.00</td>\n",
       "    </tr>\n",
       "    <tr>\n",
       "      <th>50%</th>\n",
       "      <td>153.00</td>\n",
       "    </tr>\n",
       "    <tr>\n",
       "      <th>75%</th>\n",
       "      <td>279.00</td>\n",
       "    </tr>\n",
       "    <tr>\n",
       "      <th>max</th>\n",
       "      <td>30735.00</td>\n",
       "    </tr>\n",
       "  </tbody>\n",
       "</table>\n",
       "</div>"
      ],
      "text/plain": [
       "           text\n",
       "count  50000.00\n",
       "mean     239.27\n",
       "std      330.79\n",
       "min        1.00\n",
       "25%       92.00\n",
       "50%      153.00\n",
       "75%      279.00\n",
       "max    30735.00"
      ]
     },
     "metadata": {},
     "output_type": "display_data"
    },
    {
     "data": {
      "image/png": "[encoded data removed]",
      "text/plain": [
       "<Figure size 800x400 with 1 Axes>"
      ]
     },
     "metadata": {},
     "output_type": "display_data"
    }
   ],
   "source": [
    "import sys\n",
    "sys.path.append(\"../Helper_Functions/\")\n",
    "\n",
    "from general_utils import analyze_dataset \n",
    "\n",
    "analyze_dataset(tr_news_train[:50000], \n",
    "                (8, 4), (8, 4), (8, 4), \n",
    "                0.04, 0.09,\n",
    "                0.08, 0.09,\n",
    "                'darkorange', 'TR News')"
   ]
  },
  {
   "cell_type": "code",
   "execution_count": 4,
   "id": "c4e3ee77-847e-42d5-b795-20f6a1ec1f9d",
   "metadata": {
    "execution": {
     "iopub.execute_input": "2024-01-21T07:32:27.510791Z",
     "iopub.status.busy": "2024-01-21T07:32:27.510791Z",
     "iopub.status.idle": "2024-01-21T07:32:34.834895Z",
     "shell.execute_reply": "2024-01-21T07:32:34.833897Z",
     "shell.execute_reply.started": "2024-01-21T07:32:27.510791Z"
    }
   },
   "outputs": [],
   "source": [
    "# tr_news_train.to_csv(\"../Data/TR_News/tr_news_train.csv\", index=False)\n",
    "# tr_news_val.to_csv(\"../Data/TR_News/tr_news_val.csv\", index=False)\n",
    "# tr_news_test.to_csv(\"../Data/TR_News/tr_news_test.csv\", index=False)"
   ]
  },
  {
   "cell_type": "markdown",
   "id": "e55f09c5-cda1-4cc3-8fc9-24d7ede13f52",
   "metadata": {
    "execution": {
     "iopub.execute_input": "2024-01-21T07:39:21.304483Z",
     "iopub.status.busy": "2024-01-21T07:39:21.304483Z",
     "iopub.status.idle": "2024-01-21T07:39:21.328416Z",
     "shell.execute_reply": "2024-01-21T07:39:21.324444Z",
     "shell.execute_reply.started": "2024-01-21T07:39:21.304483Z"
    }
   },
   "source": [
    "## Fine Tune"
   ]
  },
  {
   "cell_type": "code",
   "execution_count": 1,
   "id": "1788cbba-547d-4eec-a4c4-a74f640cca65",
   "metadata": {
    "execution": {
     "iopub.execute_input": "2024-01-28T06:02:31.983833Z",
     "iopub.status.busy": "2024-01-28T06:02:31.982867Z",
     "iopub.status.idle": "2024-01-28T06:02:34.325820Z",
     "shell.execute_reply": "2024-01-28T06:02:34.325153Z",
     "shell.execute_reply.started": "2024-01-28T06:02:31.983833Z"
    }
   },
   "outputs": [],
   "source": [
    "import torch\n",
    "import pandas as pd\n",
    "\n",
    "device = torch.device(\"cuda\") if torch.cuda.is_available() else torch.device(\"cpu\")"
   ]
  },
  {
   "cell_type": "markdown",
   "id": "69b38caf-7d92-41a1-bfea-83f7a01a57f2",
   "metadata": {
    "execution": {
     "iopub.execute_input": "2024-01-21T07:39:06.248623Z",
     "iopub.status.busy": "2024-01-21T07:39:06.247625Z",
     "iopub.status.idle": "2024-01-21T07:39:06.268556Z",
     "shell.execute_reply": "2024-01-21T07:39:06.266562Z",
     "shell.execute_reply.started": "2024-01-21T07:39:06.248623Z"
    }
   },
   "source": [
    "### Preprocess Dataset"
   ]
  },
  {
   "cell_type": "code",
   "execution_count": 1,
   "id": "1dbdaa1c-f4de-41bc-8aec-db2b0f902b37",
   "metadata": {
    "execution": {
     "iopub.execute_input": "2024-01-21T08:46:08.788615Z",
     "iopub.status.busy": "2024-01-21T08:46:08.788615Z",
     "iopub.status.idle": "2024-01-21T08:46:15.413615Z",
     "shell.execute_reply": "2024-01-21T08:46:15.413615Z",
     "shell.execute_reply.started": "2024-01-21T08:46:08.788615Z"
    }
   },
   "outputs": [
    {
     "data": {
      "text/html": [
       "<div>\n",
       "<style scoped>\n",
       "    .dataframe tbody tr th:only-of-type {\n",
       "        vertical-align: middle;\n",
       "    }\n",
       "\n",
       "    .dataframe tbody tr th {\n",
       "        vertical-align: top;\n",
       "    }\n",
       "\n",
       "    .dataframe thead th {\n",
       "        text-align: right;\n",
       "    }\n",
       "</style>\n",
       "<table border=\"1\" class=\"dataframe\">\n",
       "  <thead>\n",
       "    <tr style=\"text-align: right;\">\n",
       "      <th></th>\n",
       "      <th>text</th>\n",
       "      <th>label</th>\n",
       "    </tr>\n",
       "  </thead>\n",
       "  <tbody>\n",
       "    <tr>\n",
       "      <th>0</th>\n",
       "      <td>MHP Genel Başkanı Bahçeli, Manisa'nın Selendi ...</td>\n",
       "      <td>0</td>\n",
       "    </tr>\n",
       "    <tr>\n",
       "      <th>1</th>\n",
       "      <td>İspanya'nın Marca Gazetesi'nde yayımlanan deme...</td>\n",
       "      <td>2</td>\n",
       "    </tr>\n",
       "    <tr>\n",
       "      <th>2</th>\n",
       "      <td>Cumhurbaşkanlığı himayesinde, Kültür ve Turizm...</td>\n",
       "      <td>7</td>\n",
       "    </tr>\n",
       "    <tr>\n",
       "      <th>3</th>\n",
       "      <td>Galatasaray Antrenörü Johan Neeskens, bu sezon...</td>\n",
       "      <td>2</td>\n",
       "    </tr>\n",
       "    <tr>\n",
       "      <th>4</th>\n",
       "      <td>Yalvaç Ağır Ceza Mahkemesi, Isparta'nın Yalvaç...</td>\n",
       "      <td>6</td>\n",
       "    </tr>\n",
       "    <tr>\n",
       "      <th>...</th>\n",
       "      <td>...</td>\n",
       "      <td>...</td>\n",
       "    </tr>\n",
       "    <tr>\n",
       "      <th>225052</th>\n",
       "      <td>Eskişehir'de, dizi oyuncusu Şeyma Korkmaz'ın k...</td>\n",
       "      <td>0</td>\n",
       "    </tr>\n",
       "    <tr>\n",
       "      <th>225053</th>\n",
       "      <td>Milli Savunma Bakanı Hulusi Akar, Türk Silahlı...</td>\n",
       "      <td>0</td>\n",
       "    </tr>\n",
       "    <tr>\n",
       "      <th>225054</th>\n",
       "      <td>Evsahibinin evini görememesi üzerine polise ya...</td>\n",
       "      <td>5</td>\n",
       "    </tr>\n",
       "    <tr>\n",
       "      <th>225055</th>\n",
       "      <td>Trabzon'da temizlik çalışması sırasında kanali...</td>\n",
       "      <td>0</td>\n",
       "    </tr>\n",
       "    <tr>\n",
       "      <th>225056</th>\n",
       "      <td>İstanbul Büyükşehir Belediyesi (İBB)’nin inter...</td>\n",
       "      <td>0</td>\n",
       "    </tr>\n",
       "  </tbody>\n",
       "</table>\n",
       "<p>225057 rows × 2 columns</p>\n",
       "</div>"
      ],
      "text/plain": [
       "                                                     text  label\n",
       "0       MHP Genel Başkanı Bahçeli, Manisa'nın Selendi ...      0\n",
       "1       İspanya'nın Marca Gazetesi'nde yayımlanan deme...      2\n",
       "2       Cumhurbaşkanlığı himayesinde, Kültür ve Turizm...      7\n",
       "3       Galatasaray Antrenörü Johan Neeskens, bu sezon...      2\n",
       "4       Yalvaç Ağır Ceza Mahkemesi, Isparta'nın Yalvaç...      6\n",
       "...                                                   ...    ...\n",
       "225052  Eskişehir'de, dizi oyuncusu Şeyma Korkmaz'ın k...      0\n",
       "225053  Milli Savunma Bakanı Hulusi Akar, Türk Silahlı...      0\n",
       "225054  Evsahibinin evini görememesi üzerine polise ya...      5\n",
       "225055  Trabzon'da temizlik çalışması sırasında kanali...      0\n",
       "225056  İstanbul Büyükşehir Belediyesi (İBB)’nin inter...      0\n",
       "\n",
       "[225057 rows x 2 columns]"
      ]
     },
     "metadata": {},
     "output_type": "display_data"
    },
    {
     "data": {
      "text/html": [
       "<div>\n",
       "<style scoped>\n",
       "    .dataframe tbody tr th:only-of-type {\n",
       "        vertical-align: middle;\n",
       "    }\n",
       "\n",
       "    .dataframe tbody tr th {\n",
       "        vertical-align: top;\n",
       "    }\n",
       "\n",
       "    .dataframe thead th {\n",
       "        text-align: right;\n",
       "    }\n",
       "</style>\n",
       "<table border=\"1\" class=\"dataframe\">\n",
       "  <thead>\n",
       "    <tr style=\"text-align: right;\">\n",
       "      <th></th>\n",
       "      <th>text</th>\n",
       "      <th>label</th>\n",
       "    </tr>\n",
       "  </thead>\n",
       "  <tbody>\n",
       "    <tr>\n",
       "      <th>0</th>\n",
       "      <td>Türk halk müziği ve protest müziğin önemli isi...</td>\n",
       "      <td>0</td>\n",
       "    </tr>\n",
       "    <tr>\n",
       "      <th>1</th>\n",
       "      <td>İngiltere devlet televizyonu BBC'nin iş yaşamı...</td>\n",
       "      <td>5</td>\n",
       "    </tr>\n",
       "    <tr>\n",
       "      <th>2</th>\n",
       "      <td>Uluslararası Kriz Grubu'nun Irak Kürdistan’ı i...</td>\n",
       "      <td>1</td>\n",
       "    </tr>\n",
       "    <tr>\n",
       "      <th>3</th>\n",
       "      <td>Şampiyonlar Ligi'nde A, B, C ve D gruplarında ...</td>\n",
       "      <td>2</td>\n",
       "    </tr>\n",
       "    <tr>\n",
       "      <th>4</th>\n",
       "      <td>TBMM Genel Kurulu'nda Halkların Demokratik Par...</td>\n",
       "      <td>10</td>\n",
       "    </tr>\n",
       "    <tr>\n",
       "      <th>...</th>\n",
       "      <td>...</td>\n",
       "      <td>...</td>\n",
       "    </tr>\n",
       "    <tr>\n",
       "      <th>11831</th>\n",
       "      <td>Ankara'nın Mamak ilçesinde Mikail Y. yönetimin...</td>\n",
       "      <td>0</td>\n",
       "    </tr>\n",
       "    <tr>\n",
       "      <th>11832</th>\n",
       "      <td>Case Western Üniversitesi'nden deneyi gerçekle...</td>\n",
       "      <td>0</td>\n",
       "    </tr>\n",
       "    <tr>\n",
       "      <th>11833</th>\n",
       "      <td>Maltepe ilçesi Zümrütevler Mahallesi Nurhan So...</td>\n",
       "      <td>0</td>\n",
       "    </tr>\n",
       "    <tr>\n",
       "      <th>11834</th>\n",
       "      <td>ABD Dışişleri Bakanlığı Sözcüsü Heather Nauert...</td>\n",
       "      <td>1</td>\n",
       "    </tr>\n",
       "    <tr>\n",
       "      <th>11835</th>\n",
       "      <td>Formula 1 2017 Dünya Şampiyonası'nın 18'inci y...</td>\n",
       "      <td>2</td>\n",
       "    </tr>\n",
       "  </tbody>\n",
       "</table>\n",
       "<p>11836 rows × 2 columns</p>\n",
       "</div>"
      ],
      "text/plain": [
       "                                                    text  label\n",
       "0      Türk halk müziği ve protest müziğin önemli isi...      0\n",
       "1      İngiltere devlet televizyonu BBC'nin iş yaşamı...      5\n",
       "2      Uluslararası Kriz Grubu'nun Irak Kürdistan’ı i...      1\n",
       "3      Şampiyonlar Ligi'nde A, B, C ve D gruplarında ...      2\n",
       "4      TBMM Genel Kurulu'nda Halkların Demokratik Par...     10\n",
       "...                                                  ...    ...\n",
       "11831  Ankara'nın Mamak ilçesinde Mikail Y. yönetimin...      0\n",
       "11832  Case Western Üniversitesi'nden deneyi gerçekle...      0\n",
       "11833  Maltepe ilçesi Zümrütevler Mahallesi Nurhan So...      0\n",
       "11834  ABD Dışişleri Bakanlığı Sözcüsü Heather Nauert...      1\n",
       "11835  Formula 1 2017 Dünya Şampiyonası'nın 18'inci y...      2\n",
       "\n",
       "[11836 rows x 2 columns]"
      ]
     },
     "metadata": {},
     "output_type": "display_data"
    },
    {
     "data": {
      "text/html": [
       "<div>\n",
       "<style scoped>\n",
       "    .dataframe tbody tr th:only-of-type {\n",
       "        vertical-align: middle;\n",
       "    }\n",
       "\n",
       "    .dataframe tbody tr th {\n",
       "        vertical-align: top;\n",
       "    }\n",
       "\n",
       "    .dataframe thead th {\n",
       "        text-align: right;\n",
       "    }\n",
       "</style>\n",
       "<table border=\"1\" class=\"dataframe\">\n",
       "  <thead>\n",
       "    <tr style=\"text-align: right;\">\n",
       "      <th></th>\n",
       "      <th>text</th>\n",
       "      <th>label</th>\n",
       "    </tr>\n",
       "  </thead>\n",
       "  <tbody>\n",
       "    <tr>\n",
       "      <th>0</th>\n",
       "      <td>Çin Dışişleri Bakanlığı Sözcüsü Hua Çunying, y...</td>\n",
       "      <td>1</td>\n",
       "    </tr>\n",
       "    <tr>\n",
       "      <th>1</th>\n",
       "      <td>İçişleri Bakanı Süleyman Soylu, Van'daki terör...</td>\n",
       "      <td>0</td>\n",
       "    </tr>\n",
       "    <tr>\n",
       "      <th>2</th>\n",
       "      <td>Meteoroloji Genel Müdürlüğü'nden yapılan açıkl...</td>\n",
       "      <td>0</td>\n",
       "    </tr>\n",
       "    <tr>\n",
       "      <th>3</th>\n",
       "      <td>Filistin’i ziyaret eden Rum Yönetimi Lideri Di...</td>\n",
       "      <td>1</td>\n",
       "    </tr>\n",
       "    <tr>\n",
       "      <th>4</th>\n",
       "      <td>Meteoroloji Genel Müdürlüğünden yapılan duyuru...</td>\n",
       "      <td>0</td>\n",
       "    </tr>\n",
       "    <tr>\n",
       "      <th>...</th>\n",
       "      <td>...</td>\n",
       "      <td>...</td>\n",
       "    </tr>\n",
       "    <tr>\n",
       "      <th>12505</th>\n",
       "      <td>Şırnak Bestler-Dereler bölgesindeki operasyond...</td>\n",
       "      <td>0</td>\n",
       "    </tr>\n",
       "    <tr>\n",
       "      <th>12506</th>\n",
       "      <td>ABD'deki en büyük eşcinsel derneği İnsan Hakla...</td>\n",
       "      <td>5</td>\n",
       "    </tr>\n",
       "    <tr>\n",
       "      <th>12507</th>\n",
       "      <td>Mısır güvenlik güçlerinin, Batı Sahra'da Meksi...</td>\n",
       "      <td>1</td>\n",
       "    </tr>\n",
       "    <tr>\n",
       "      <th>12508</th>\n",
       "      <td>Geçen yıl Turgutreis Belediyesi'ne yönelik ope...</td>\n",
       "      <td>0</td>\n",
       "    </tr>\n",
       "    <tr>\n",
       "      <th>12509</th>\n",
       "      <td>Güneşin zararlı ışınları göz sağlığını bozup b...</td>\n",
       "      <td>4</td>\n",
       "    </tr>\n",
       "  </tbody>\n",
       "</table>\n",
       "<p>12510 rows × 2 columns</p>\n",
       "</div>"
      ],
      "text/plain": [
       "                                                    text  label\n",
       "0      Çin Dışişleri Bakanlığı Sözcüsü Hua Çunying, y...      1\n",
       "1      İçişleri Bakanı Süleyman Soylu, Van'daki terör...      0\n",
       "2      Meteoroloji Genel Müdürlüğü'nden yapılan açıkl...      0\n",
       "3      Filistin’i ziyaret eden Rum Yönetimi Lideri Di...      1\n",
       "4      Meteoroloji Genel Müdürlüğünden yapılan duyuru...      0\n",
       "...                                                  ...    ...\n",
       "12505  Şırnak Bestler-Dereler bölgesindeki operasyond...      0\n",
       "12506  ABD'deki en büyük eşcinsel derneği İnsan Hakla...      5\n",
       "12507  Mısır güvenlik güçlerinin, Batı Sahra'da Meksi...      1\n",
       "12508  Geçen yıl Turgutreis Belediyesi'ne yönelik ope...      0\n",
       "12509  Güneşin zararlı ışınları göz sağlığını bozup b...      4\n",
       "\n",
       "[12510 rows x 2 columns]"
      ]
     },
     "metadata": {},
     "output_type": "display_data"
    }
   ],
   "source": [
    "# import pandas as pd\n",
    "\n",
    "# tr_news_train = pd.read_csv(\"../Data/TR_News/tr_news_train.csv\")\n",
    "# tr_news_val = pd.read_csv(\"../Data/TR_News/tr_news_val.csv\")\n",
    "# tr_news_test = pd.read_csv(\"../Data/TR_News/tr_news_test.csv\")\n",
    "\n",
    "# display(tr_news_train, tr_news_val, tr_news_test)"
   ]
  },
  {
   "cell_type": "code",
   "execution_count": 2,
   "id": "1bd2c417-6760-447f-b10c-960b72e9da2f",
   "metadata": {
    "execution": {
     "iopub.execute_input": "2024-01-28T06:02:34.328822Z",
     "iopub.status.busy": "2024-01-28T06:02:34.328822Z",
     "iopub.status.idle": "2024-01-28T06:02:34.341778Z",
     "shell.execute_reply": "2024-01-28T06:02:34.340782Z",
     "shell.execute_reply.started": "2024-01-28T06:02:34.328822Z"
    }
   },
   "outputs": [
    {
     "name": "stdout",
     "output_type": "stream",
     "text": [
      "{0: 'türkiye', 1: 'dünya', 2: 'spor', 3: 'ekonomi', 4: 'sağlık', 5: 'yaşam', 6: 'gündem', 7: 'sanat', 8: 'teknoloji', 9: 'eğitim', 10: 'siyaset'}\n",
      "{'türkiye': 0, 'dünya': 1, 'spor': 2, 'ekonomi': 3, 'sağlık': 4, 'yaşam': 5, 'gündem': 6, 'sanat': 7, 'teknoloji': 8, 'eğitim': 9, 'siyaset': 10}\n"
     ]
    }
   ],
   "source": [
    "text_labels = ['türkiye', 'dünya', 'spor', 'ekonomi', 'sağlık', 'yaşam', 'gündem', 'sanat', 'teknoloji', 'eğitim', 'siyaset']\n",
    "int_labels = [0, 1, 2, 3, 4, 5, 6, 7, 8, 9, 10]\n",
    "num_labels = len(int_labels)\n",
    "\n",
    "id2label = {label: text_label for label, text_label in zip(int_labels, text_labels)}\n",
    "label2id = {text_label: label for label, text_label in zip(int_labels, text_labels)}\n",
    "\n",
    "print(id2label, label2id, sep=\"\\n\")"
   ]
  },
  {
   "cell_type": "code",
   "execution_count": 4,
   "id": "aa9ae4ac-fec7-4e19-b6cb-2d6dff2fd22b",
   "metadata": {
    "execution": {
     "iopub.execute_input": "2024-01-21T08:46:31.002573Z",
     "iopub.status.busy": "2024-01-21T08:46:31.002573Z",
     "iopub.status.idle": "2024-01-21T08:46:31.664170Z",
     "shell.execute_reply": "2024-01-21T08:46:31.663785Z",
     "shell.execute_reply.started": "2024-01-21T08:46:31.002573Z"
    }
   },
   "outputs": [],
   "source": [
    "# from sklearn.utils import resample\n",
    "\n",
    "# def undersample_data(data, samples_per_class, random_state=42):\n",
    "    \n",
    "#     undersampled_data = pd.DataFrame()\n",
    "    \n",
    "#     for label in data['label'].unique():\n",
    "#         class_samples = data[data['label'] == label]\n",
    "#         undersampled_class = resample(class_samples, replace=False, n_samples=samples_per_class, random_state=random_state)\n",
    "        \n",
    "#         undersampled_data = pd.concat([undersampled_data, undersampled_class])\n",
    "\n",
    "#     return undersampled_data\n",
    "\n",
    "# samples_per_class_train = 500\n",
    "# samples_per_class_val = 80\n",
    "# samples_per_class_test = 80\n",
    "\n",
    "# tr_news_train = undersample_data(tr_news_train, samples_per_class_train)\n",
    "# tr_news_val = undersample_data(tr_news_val, samples_per_class_val)\n",
    "# tr_news_test = undersample_data(tr_news_test, samples_per_class_test)  \n",
    "\n",
    "# # Shuffle the undersampled sets\n",
    "# tr_news_train = tr_news_train.sample(frac=1, random_state=42).reset_index(drop=True)\n",
    "# tr_news_val = tr_news_val.sample(frac=1, random_state=42).reset_index(drop=True)\n",
    "# tr_news_test = tr_news_test.sample(frac=1, random_state=42).reset_index(drop=True)\n",
    "\n",
    "# tr_news_train.to_csv(\"../Data/TR_News/tr_news_train_undersampled.csv\", index=False)\n",
    "# tr_news_val.to_csv(\"../Data/TR_News/tr_news_val_undersampled.csv\", index=False)\n",
    "# tr_news_test.to_csv(\"../Data/TR_News/tr_news_test_undersampled.csv\", index=False)"
   ]
  },
  {
   "cell_type": "code",
   "execution_count": 3,
   "id": "c78534d8-65cf-49d2-99c7-3446a4a5b021",
   "metadata": {
    "execution": {
     "iopub.execute_input": "2024-01-28T06:02:36.879372Z",
     "iopub.status.busy": "2024-01-28T06:02:36.878376Z",
     "iopub.status.idle": "2024-01-28T06:02:37.095356Z",
     "shell.execute_reply": "2024-01-28T06:02:37.094391Z",
     "shell.execute_reply.started": "2024-01-28T06:02:36.878376Z"
    }
   },
   "outputs": [
    {
     "name": "stdout",
     "output_type": "stream",
     "text": [
      "Train set shape      : 5500 5500\n",
      "Validation set shape : 880 880\n",
      "Test set shape       : 880 880\n"
     ]
    }
   ],
   "source": [
    "tr_news_train = pd.read_csv(\"../Data/TR_News/tr_news_train_undersampled.csv\")\n",
    "tr_news_val = pd.read_csv(\"../Data/TR_News/tr_news_val_undersampled.csv\")\n",
    "tr_news_test = pd.read_csv(\"../Data/TR_News/tr_news_test_undersampled.csv\")\n",
    "\n",
    "X_train = tr_news_train['text'].tolist()\n",
    "y_train = tr_news_train['label'].tolist()\n",
    "\n",
    "X_val = tr_news_val['text'].tolist()\n",
    "y_val = tr_news_val['label'].tolist()\n",
    "\n",
    "X_test = tr_news_test['text'].tolist()\n",
    "y_test = tr_news_test['label'].tolist()\n",
    "\n",
    "print(\"Train set shape      :\", len(X_train), len(y_train))\n",
    "print(\"Validation set shape :\", len(X_val), len(y_val))\n",
    "print(\"Test set shape       :\", len(X_test), len(y_test))"
   ]
  },
  {
   "cell_type": "markdown",
   "id": "23fff391-20ef-4659-9cb0-6dbdec7efc1e",
   "metadata": {
    "jp-MarkdownHeadingCollapsed": true
   },
   "source": [
    "### Prepare Training"
   ]
  },
  {
   "cell_type": "code",
   "execution_count": 4,
   "id": "87762f24-16da-4f4e-80ab-8efae2eee649",
   "metadata": {
    "execution": {
     "iopub.execute_input": "2024-01-28T06:02:38.483659Z",
     "iopub.status.busy": "2024-01-28T06:02:38.483659Z",
     "iopub.status.idle": "2024-01-28T06:02:40.469108Z",
     "shell.execute_reply": "2024-01-28T06:02:40.469108Z",
     "shell.execute_reply.started": "2024-01-28T06:02:38.483659Z"
    }
   },
   "outputs": [],
   "source": [
    "from transformers import TrainingArguments, Trainer\n",
    "from sklearn.metrics import accuracy_score, precision_recall_fscore_support\n",
    "import warnings\n",
    "warnings.filterwarnings(\"ignore\", category=FutureWarning)\n",
    "\n",
    "\n",
    "def compute_metrics(preds): \n",
    "    \n",
    "    labels = preds.label_ids \n",
    "    preds = preds.predictions.argmax(-1) \n",
    "    precision, recall, f1, _ = precision_recall_fscore_support(labels, preds, average='macro') \n",
    "    acc = accuracy_score(labels, preds) \n",
    "    \n",
    "    return { \n",
    "        'Accuracy': acc, \n",
    "        'F1': f1, \n",
    "        'Precision': precision, \n",
    "        'Recall': recall \n",
    "    }\n",
    "\n",
    "\n",
    "def predict(model, tokenizer, text):\n",
    "    \n",
    "    inputs = tokenizer(text, padding=True, truncation=True, return_tensors=\"pt\").to(device)\n",
    "    outputs = model(**inputs)\n",
    "    probs = outputs[0].softmax(1)\n",
    "    \n",
    "    return probs, probs.argmax(),model.config.id2label[probs.argmax().item()]"
   ]
  },
  {
   "cell_type": "markdown",
   "id": "3cf1f4c1-4795-4bb3-af02-175112387f5d",
   "metadata": {
    "jp-MarkdownHeadingCollapsed": true
   },
   "source": [
    "### BERTurk"
   ]
  },
  {
   "cell_type": "code",
   "execution_count": 3,
   "id": "b8e9bbc2-870b-4d35-abc4-55725bd4963b",
   "metadata": {
    "execution": {
     "iopub.execute_input": "2024-01-21T08:46:15.432553Z",
     "iopub.status.busy": "2024-01-21T08:46:15.432553Z",
     "iopub.status.idle": "2024-01-21T08:46:20.493615Z",
     "shell.execute_reply": "2024-01-21T08:46:20.493615Z",
     "shell.execute_reply.started": "2024-01-21T08:46:15.432553Z"
    }
   },
   "outputs": [
    {
     "name": "stderr",
     "output_type": "stream",
     "text": [
      "Some weights of BertForSequenceClassification were not initialized from the model checkpoint at dbmdz/bert-base-turkish-uncased and are newly initialized: ['classifier.weight', 'classifier.bias']\n",
      "You should probably TRAIN this model on a down-stream task to be able to use it for predictions and inference.\n"
     ]
    }
   ],
   "source": [
    "from transformers import BertTokenizerFast, BertForSequenceClassification\n",
    "\n",
    "tokenizer_bert = BertTokenizerFast.from_pretrained(\"dbmdz/bert-base-turkish-uncased\", max_length=512)\n",
    "model_bert = BertForSequenceClassification.from_pretrained(\"dbmdz/bert-base-turkish-uncased\", num_labels=num_labels, id2label=id2label, label2id=label2id).to(device)"
   ]
  },
  {
   "cell_type": "code",
   "execution_count": 6,
   "id": "4de47c27-f5e9-42ff-8d3a-12438356b75e",
   "metadata": {
    "execution": {
     "iopub.execute_input": "2024-01-21T08:46:33.068333Z",
     "iopub.status.busy": "2024-01-21T08:46:33.068333Z",
     "iopub.status.idle": "2024-01-21T08:46:34.760594Z",
     "shell.execute_reply": "2024-01-21T08:46:34.760594Z",
     "shell.execute_reply.started": "2024-01-21T08:46:33.068333Z"
    }
   },
   "outputs": [],
   "source": [
    "train_encodings = tokenizer_bert(X_train, truncation=True, padding=True)\n",
    "val_encodings  = tokenizer_bert(X_val, truncation=True, padding=True)\n",
    "test_encodings = tokenizer_bert(X_test, truncation=True, padding=True)\n",
    "\n",
    "from torch.utils.data import Dataset\n",
    "\n",
    "class MyDataset(Dataset):\n",
    "    \n",
    "    def __init__(self, encodings, labels):\n",
    "        self.encodings = encodings\n",
    "        self.labels = labels\n",
    "        \n",
    "    def __getitem__(self, idx):\n",
    "        item = {key: torch.tensor(val[idx]) for key, val in self.encodings.items()}\n",
    "        item['labels'] = torch.tensor(self.labels[idx])\n",
    "        return item\n",
    "        \n",
    "    def __len__(self):\n",
    "        return len(self.labels)\n",
    "\n",
    "train_dataset = MyDataset(train_encodings, y_train)\n",
    "val_dataset = MyDataset(val_encodings, y_val)\n",
    "test_dataset = MyDataset(test_encodings, y_test)"
   ]
  },
  {
   "cell_type": "markdown",
   "id": "93ccad3e-ee13-47dd-9ef8-b18cb4d5afe1",
   "metadata": {},
   "source": [
    "#### Train"
   ]
  },
  {
   "cell_type": "code",
   "execution_count": 8,
   "id": "d73dbab7-c442-4585-afb6-ad8fc52255a7",
   "metadata": {
    "execution": {
     "iopub.execute_input": "2024-01-21T08:46:35.135825Z",
     "iopub.status.busy": "2024-01-21T08:46:35.135825Z",
     "iopub.status.idle": "2024-01-21T08:46:35.180880Z",
     "shell.execute_reply": "2024-01-21T08:46:35.180880Z",
     "shell.execute_reply.started": "2024-01-21T08:46:35.135825Z"
    }
   },
   "outputs": [],
   "source": [
    "training_args = TrainingArguments(\n",
    "    output_dir='../Models/berturk_text_classification_fine_tuned_tr_news/', \n",
    "    do_train=True,\n",
    "    do_eval=True,\n",
    "    num_train_epochs=3,              \n",
    "    per_device_train_batch_size=16,  \n",
    "    per_device_eval_batch_size=32,\n",
    "    warmup_steps=100,                \n",
    "    weight_decay=0.01,\n",
    "    logging_strategy='steps',              \n",
    "    logging_dir='../Output/BERT_Logs_TR_News',            \n",
    "    logging_steps=100,\n",
    "    evaluation_strategy=\"epoch\",\n",
    "    eval_steps=1,\n",
    "    save_strategy=\"epoch\",\n",
    "    save_steps=1,\n",
    "    fp16=True,\n",
    "    load_best_model_at_end=True\n",
    ")\n",
    "\n",
    "trainer_bert = Trainer(\n",
    "    model=model_bert,                    \n",
    "    args=training_args,                 \n",
    "    train_dataset=train_dataset,         \n",
    "    eval_dataset=val_dataset,            \n",
    "    compute_metrics= compute_metrics\n",
    ")"
   ]
  },
  {
   "cell_type": "code",
   "execution_count": 9,
   "id": "cbfcca70-153b-4755-a84c-55f847943e65",
   "metadata": {
    "execution": {
     "iopub.execute_input": "2024-01-21T08:46:35.645116Z",
     "iopub.status.busy": "2024-01-21T08:46:35.645116Z",
     "iopub.status.idle": "2024-01-21T10:48:19.995635Z",
     "shell.execute_reply": "2024-01-21T10:48:19.993969Z",
     "shell.execute_reply.started": "2024-01-21T08:46:35.645116Z"
    }
   },
   "outputs": [
    {
     "data": {
      "text/html": [
       "\n",
       "    <div>\n",
       "      \n",
       "      <progress value='1032' max='1032' style='width:300px; height:20px; vertical-align: middle;'></progress>\n",
       "      [1032/1032 2:01:36, Epoch 3/3]\n",
       "    </div>\n",
       "    <table border=\"1\" class=\"dataframe\">\n",
       "  <thead>\n",
       " <tr style=\"text-align: left;\">\n",
       "      <th>Epoch</th>\n",
       "      <th>Training Loss</th>\n",
       "      <th>Validation Loss</th>\n",
       "      <th>Accuracy</th>\n",
       "      <th>F1</th>\n",
       "      <th>Precision</th>\n",
       "      <th>Recall</th>\n",
       "    </tr>\n",
       "  </thead>\n",
       "  <tbody>\n",
       "    <tr>\n",
       "      <td>1</td>\n",
       "      <td>0.794700</td>\n",
       "      <td>0.766880</td>\n",
       "      <td>0.745455</td>\n",
       "      <td>0.738841</td>\n",
       "      <td>0.737842</td>\n",
       "      <td>0.745455</td>\n",
       "    </tr>\n",
       "    <tr>\n",
       "      <td>2</td>\n",
       "      <td>0.584600</td>\n",
       "      <td>0.719705</td>\n",
       "      <td>0.780682</td>\n",
       "      <td>0.774428</td>\n",
       "      <td>0.777833</td>\n",
       "      <td>0.780682</td>\n",
       "    </tr>\n",
       "    <tr>\n",
       "      <td>3</td>\n",
       "      <td>0.292400</td>\n",
       "      <td>0.766650</td>\n",
       "      <td>0.782955</td>\n",
       "      <td>0.780247</td>\n",
       "      <td>0.780369</td>\n",
       "      <td>0.782955</td>\n",
       "    </tr>\n",
       "  </tbody>\n",
       "</table><p>"
      ],
      "text/plain": [
       "<IPython.core.display.HTML object>"
      ]
     },
     "metadata": {},
     "output_type": "display_data"
    },
    {
     "data": {
      "text/plain": [
       "TrainOutput(global_step=1032, training_loss=0.6734919538793638, metrics={'train_runtime': 7304.1453, 'train_samples_per_second': 2.259, 'train_steps_per_second': 0.141, 'total_flos': 4341683225088000.0, 'train_loss': 0.6734919538793638, 'epoch': 3.0})"
      ]
     },
     "execution_count": 9,
     "metadata": {},
     "output_type": "execute_result"
    }
   ],
   "source": [
    "trainer_bert.train()"
   ]
  },
  {
   "cell_type": "markdown",
   "id": "0d7c55e2-70ee-4d7f-b839-c64750333d0b",
   "metadata": {},
   "source": [
    "#### Evaluate"
   ]
  },
  {
   "cell_type": "code",
   "execution_count": 10,
   "id": "a0ff61b2-029c-4e12-9f17-e875ed26ed42",
   "metadata": {
    "execution": {
     "iopub.execute_input": "2024-01-21T10:48:42.228438Z",
     "iopub.status.busy": "2024-01-21T10:48:42.227406Z",
     "iopub.status.idle": "2024-01-21T11:06:31.260623Z",
     "shell.execute_reply": "2024-01-21T11:06:31.259621Z",
     "shell.execute_reply.started": "2024-01-21T10:48:42.228438Z"
    }
   },
   "outputs": [
    {
     "data": {
      "text/html": [
       "\n",
       "    <div>\n",
       "      \n",
       "      <progress value='228' max='172' style='width:300px; height:20px; vertical-align: middle;'></progress>\n",
       "      [172/172 17:44]\n",
       "    </div>\n",
       "    "
      ],
      "text/plain": [
       "<IPython.core.display.HTML object>"
      ]
     },
     "metadata": {},
     "output_type": "display_data"
    },
    {
     "data": {
      "text/html": [
       "<div>\n",
       "<style scoped>\n",
       "    .dataframe tbody tr th:only-of-type {\n",
       "        vertical-align: middle;\n",
       "    }\n",
       "\n",
       "    .dataframe tbody tr th {\n",
       "        vertical-align: top;\n",
       "    }\n",
       "\n",
       "    .dataframe thead th {\n",
       "        text-align: right;\n",
       "    }\n",
       "</style>\n",
       "<table border=\"1\" class=\"dataframe\">\n",
       "  <thead>\n",
       "    <tr style=\"text-align: right;\">\n",
       "      <th></th>\n",
       "      <th>eval_loss</th>\n",
       "      <th>eval_Accuracy</th>\n",
       "      <th>eval_F1</th>\n",
       "      <th>eval_Precision</th>\n",
       "      <th>eval_Recall</th>\n",
       "    </tr>\n",
       "  </thead>\n",
       "  <tbody>\n",
       "    <tr>\n",
       "      <th>train</th>\n",
       "      <td>0.336986</td>\n",
       "      <td>0.897091</td>\n",
       "      <td>0.891995</td>\n",
       "      <td>0.892241</td>\n",
       "      <td>0.897091</td>\n",
       "    </tr>\n",
       "    <tr>\n",
       "      <th>val</th>\n",
       "      <td>0.719705</td>\n",
       "      <td>0.780682</td>\n",
       "      <td>0.774428</td>\n",
       "      <td>0.777833</td>\n",
       "      <td>0.780682</td>\n",
       "    </tr>\n",
       "    <tr>\n",
       "      <th>test</th>\n",
       "      <td>0.690091</td>\n",
       "      <td>0.780682</td>\n",
       "      <td>0.768171</td>\n",
       "      <td>0.765188</td>\n",
       "      <td>0.780682</td>\n",
       "    </tr>\n",
       "  </tbody>\n",
       "</table>\n",
       "</div>"
      ],
      "text/plain": [
       "       eval_loss  eval_Accuracy   eval_F1  eval_Precision  eval_Recall\n",
       "train   0.336986       0.897091  0.891995        0.892241     0.897091\n",
       "val     0.719705       0.780682  0.774428        0.777833     0.780682\n",
       "test    0.690091       0.780682  0.768171        0.765188     0.780682"
      ]
     },
     "execution_count": 10,
     "metadata": {},
     "output_type": "execute_result"
    }
   ],
   "source": [
    "result = [trainer_bert.evaluate(eval_dataset=data) for data in [train_dataset, val_dataset, test_dataset]]\n",
    "pd.DataFrame(result, index=[\"train\", \"val\", \"test\"]).iloc[:,:5]"
   ]
  },
  {
   "cell_type": "code",
   "execution_count": 14,
   "id": "041490b4-1046-4c72-84d2-6814b808e071",
   "metadata": {
    "execution": {
     "iopub.execute_input": "2024-01-21T11:07:00.681176Z",
     "iopub.status.busy": "2024-01-21T11:07:00.680178Z",
     "iopub.status.idle": "2024-01-21T11:07:00.877986Z",
     "shell.execute_reply": "2024-01-21T11:07:00.876990Z",
     "shell.execute_reply.started": "2024-01-21T11:07:00.681176Z"
    }
   },
   "outputs": [
    {
     "data": {
      "text/plain": [
       "tensor([9.7399e-04, 3.3654e-04, 9.9346e-01, 9.5352e-04, 5.4840e-04, 8.9504e-04,\n",
       "        3.9211e-04, 5.0967e-04, 5.3805e-04, 3.6070e-04, 1.0291e-03],\n",
       "       device='cuda:0', grad_fn=<SelectBackward0>)"
      ]
     },
     "execution_count": 14,
     "metadata": {},
     "output_type": "execute_result"
    }
   ],
   "source": [
    "text = \"Fenerbahçeli futbolcular kısa paslarla hazırlık çalışması yaptılar\"\n",
    "predict(text)[0][0]"
   ]
  },
  {
   "cell_type": "markdown",
   "id": "7492918e-422c-4e25-84b3-72e2cb0165be",
   "metadata": {},
   "source": [
    "#### Save Model"
   ]
  },
  {
   "cell_type": "code",
   "execution_count": 13,
   "id": "1dc97a4f-7282-498c-ba3a-d6c2f6f9eb8b",
   "metadata": {
    "execution": {
     "iopub.execute_input": "2024-01-21T11:06:31.697724Z",
     "iopub.status.busy": "2024-01-21T11:06:31.697724Z",
     "iopub.status.idle": "2024-01-21T11:06:32.395971Z",
     "shell.execute_reply": "2024-01-21T11:06:32.395971Z",
     "shell.execute_reply.started": "2024-01-21T11:06:31.697724Z"
    }
   },
   "outputs": [
    {
     "data": {
      "text/plain": [
       "('bert_text_classification_fine_tuned_tr_news\\\\tokenizer_config.json',\n",
       " 'bert_text_classification_fine_tuned_tr_news\\\\special_tokens_map.json',\n",
       " 'bert_text_classification_fine_tuned_tr_news\\\\vocab.txt',\n",
       " 'bert_text_classification_fine_tuned_tr_news\\\\added_tokens.json',\n",
       " 'bert_text_classification_fine_tuned_tr_news\\\\tokenizer.json')"
      ]
     },
     "execution_count": 13,
     "metadata": {},
     "output_type": "execute_result"
    }
   ],
   "source": [
    "model_path = \"berturk_text_classification_fine_tuned_tr_news\"\n",
    "trainer_bert.save_model(model_path)\n",
    "tokenizer_bert.save_pretrained(model_path)"
   ]
  },
  {
   "cell_type": "markdown",
   "id": "d9486152-6155-45c3-8267-76450e873caa",
   "metadata": {
    "jp-MarkdownHeadingCollapsed": true
   },
   "source": [
    "### TurkishBERTweet"
   ]
  },
  {
   "cell_type": "code",
   "execution_count": 5,
   "id": "f249f3e4-d076-47b5-8a42-29ea192bfa48",
   "metadata": {
    "execution": {
     "iopub.execute_input": "2024-01-28T06:02:44.480220Z",
     "iopub.status.busy": "2024-01-28T06:02:44.479224Z",
     "iopub.status.idle": "2024-01-28T06:02:46.735085Z",
     "shell.execute_reply": "2024-01-28T06:02:46.735085Z",
     "shell.execute_reply.started": "2024-01-28T06:02:44.480220Z"
    }
   },
   "outputs": [
    {
     "name": "stderr",
     "output_type": "stream",
     "text": [
      "Some weights of RobertaForSequenceClassification were not initialized from the model checkpoint at VRLLab/TurkishBERTweet and are newly initialized: ['classifier.dense.weight', 'classifier.out_proj.weight', 'classifier.out_proj.bias', 'classifier.dense.bias']\n",
      "You should probably TRAIN this model on a down-stream task to be able to use it for predictions and inference.\n"
     ]
    }
   ],
   "source": [
    "from transformers import AutoTokenizer, AutoModelForSequenceClassification\n",
    "\n",
    "tokenizer_tbt = AutoTokenizer.from_pretrained(\"VRLLab/TurkishBERTweet\", max_length=128)\n",
    "model_tbt = AutoModelForSequenceClassification.from_pretrained(\"VRLLab/TurkishBERTweet\", num_labels=num_labels, id2label=id2label, label2id=label2id)"
   ]
  },
  {
   "cell_type": "code",
   "execution_count": 7,
   "id": "9ae7eb1a-7c2f-4ef3-ae46-cb313615f479",
   "metadata": {
    "execution": {
     "iopub.execute_input": "2024-01-28T06:03:52.035388Z",
     "iopub.status.busy": "2024-01-28T06:03:52.035388Z",
     "iopub.status.idle": "2024-01-28T06:03:53.221975Z",
     "shell.execute_reply": "2024-01-28T06:03:53.221975Z",
     "shell.execute_reply.started": "2024-01-28T06:03:52.035388Z"
    }
   },
   "outputs": [],
   "source": [
    "train_encodings = tokenizer_tbt(X_train, truncation=True, padding=True, max_length=128)\n",
    "val_encodings  = tokenizer_tbt(X_val, truncation=True, padding=True, max_length=128)\n",
    "test_encodings = tokenizer_tbt(X_test, truncation=True, padding=True, max_length=128)\n",
    "\n",
    "from torch.utils.data import Dataset\n",
    "\n",
    "class MyDataset(Dataset):\n",
    "    \n",
    "    def __init__(self, encodings, labels):\n",
    "        self.encodings = encodings\n",
    "        self.labels = labels\n",
    "        \n",
    "    def __getitem__(self, idx):\n",
    "        item = {key: torch.tensor(val[idx]) for key, val in self.encodings.items()}\n",
    "        item['labels'] = torch.tensor(self.labels[idx])\n",
    "        return item\n",
    "        \n",
    "    def __len__(self):\n",
    "        return len(self.labels)\n",
    "\n",
    "train_dataset = MyDataset(train_encodings, y_train)\n",
    "val_dataset = MyDataset(val_encodings, y_val)\n",
    "test_dataset = MyDataset(test_encodings, y_test)"
   ]
  },
  {
   "cell_type": "markdown",
   "id": "33c87cb0-7678-4f76-8c07-d3c67652b6ca",
   "metadata": {},
   "source": [
    "#### Train"
   ]
  },
  {
   "cell_type": "code",
   "execution_count": 8,
   "id": "88531c82-5bba-421b-9992-d57e61babb21",
   "metadata": {
    "execution": {
     "iopub.execute_input": "2024-01-28T06:06:28.789939Z",
     "iopub.status.busy": "2024-01-28T06:06:28.788943Z",
     "iopub.status.idle": "2024-01-28T06:06:29.628642Z",
     "shell.execute_reply": "2024-01-28T06:06:29.628642Z",
     "shell.execute_reply.started": "2024-01-28T06:06:28.789939Z"
    }
   },
   "outputs": [],
   "source": [
    "training_args = TrainingArguments(\n",
    "    output_dir='../Models/turkishbertweet_text_classification_fine_tuned_tr_news/', \n",
    "    do_train=True,\n",
    "    do_eval=True,\n",
    "    num_train_epochs=3,              \n",
    "    per_device_train_batch_size=16,  \n",
    "    per_device_eval_batch_size=32,\n",
    "    warmup_steps=100,                \n",
    "    weight_decay=0.01,\n",
    "    logging_strategy='steps',              \n",
    "    logging_dir='../Output/TBT_Logs_TR_News',            \n",
    "    logging_steps=100,\n",
    "    evaluation_strategy=\"epoch\",\n",
    "    eval_steps=1,\n",
    "    save_strategy=\"epoch\",\n",
    "    save_steps=1,\n",
    "    fp16=True,\n",
    "    load_best_model_at_end=True\n",
    ")\n",
    "\n",
    "trainer_tbt = Trainer(\n",
    "    model=model_tbt,                    \n",
    "    args=training_args,                 \n",
    "    train_dataset=train_dataset,         \n",
    "    eval_dataset=val_dataset,            \n",
    "    compute_metrics= compute_metrics\n",
    ")"
   ]
  },
  {
   "cell_type": "code",
   "execution_count": 9,
   "id": "0f86aeff-e502-4980-8cbd-dd12b7538549",
   "metadata": {
    "execution": {
     "iopub.execute_input": "2024-01-28T06:06:36.929682Z",
     "iopub.status.busy": "2024-01-28T06:06:36.928686Z",
     "iopub.status.idle": "2024-01-28T06:11:00.833344Z",
     "shell.execute_reply": "2024-01-28T06:11:00.833344Z",
     "shell.execute_reply.started": "2024-01-28T06:06:36.929682Z"
    }
   },
   "outputs": [
    {
     "data": {
      "text/html": [
       "\n",
       "    <div>\n",
       "      \n",
       "      <progress value='1032' max='1032' style='width:300px; height:20px; vertical-align: middle;'></progress>\n",
       "      [1032/1032 04:23, Epoch 3/3]\n",
       "    </div>\n",
       "    <table border=\"1\" class=\"dataframe\">\n",
       "  <thead>\n",
       " <tr style=\"text-align: left;\">\n",
       "      <th>Epoch</th>\n",
       "      <th>Training Loss</th>\n",
       "      <th>Validation Loss</th>\n",
       "      <th>Accuracy</th>\n",
       "      <th>F1</th>\n",
       "      <th>Precision</th>\n",
       "      <th>Recall</th>\n",
       "    </tr>\n",
       "  </thead>\n",
       "  <tbody>\n",
       "    <tr>\n",
       "      <td>1</td>\n",
       "      <td>1.133400</td>\n",
       "      <td>1.035091</td>\n",
       "      <td>0.677273</td>\n",
       "      <td>0.669312</td>\n",
       "      <td>0.681306</td>\n",
       "      <td>0.677273</td>\n",
       "    </tr>\n",
       "    <tr>\n",
       "      <td>2</td>\n",
       "      <td>0.736600</td>\n",
       "      <td>0.996855</td>\n",
       "      <td>0.677273</td>\n",
       "      <td>0.673269</td>\n",
       "      <td>0.686821</td>\n",
       "      <td>0.677273</td>\n",
       "    </tr>\n",
       "    <tr>\n",
       "      <td>3</td>\n",
       "      <td>0.353000</td>\n",
       "      <td>0.998325</td>\n",
       "      <td>0.710227</td>\n",
       "      <td>0.707938</td>\n",
       "      <td>0.708987</td>\n",
       "      <td>0.710227</td>\n",
       "    </tr>\n",
       "  </tbody>\n",
       "</table><p>"
      ],
      "text/plain": [
       "<IPython.core.display.HTML object>"
      ]
     },
     "metadata": {},
     "output_type": "display_data"
    },
    {
     "data": {
      "text/plain": [
       "TrainOutput(global_step=1032, training_loss=0.8338423117186672, metrics={'train_runtime': 263.7486, 'train_samples_per_second': 62.56, 'train_steps_per_second': 3.913, 'total_flos': 1085420806272000.0, 'train_loss': 0.8338423117186672, 'epoch': 3.0})"
      ]
     },
     "execution_count": 9,
     "metadata": {},
     "output_type": "execute_result"
    }
   ],
   "source": [
    "trainer_tbt.train()"
   ]
  },
  {
   "cell_type": "markdown",
   "id": "faf45afd-7fe2-4e88-9ba0-4c6afc5f5a39",
   "metadata": {},
   "source": [
    "#### Evaluate"
   ]
  },
  {
   "cell_type": "code",
   "execution_count": 10,
   "id": "2a0a3d54-2d66-459c-8b61-ca442fb0ec84",
   "metadata": {
    "execution": {
     "iopub.execute_input": "2024-01-28T06:11:00.836341Z",
     "iopub.status.busy": "2024-01-28T06:11:00.836341Z",
     "iopub.status.idle": "2024-01-28T06:11:21.708047Z",
     "shell.execute_reply": "2024-01-28T06:11:21.707051Z",
     "shell.execute_reply.started": "2024-01-28T06:11:00.836341Z"
    }
   },
   "outputs": [
    {
     "data": {
      "text/html": [
       "\n",
       "    <div>\n",
       "      \n",
       "      <progress value='228' max='172' style='width:300px; height:20px; vertical-align: middle;'></progress>\n",
       "      [172/172 00:20]\n",
       "    </div>\n",
       "    "
      ],
      "text/plain": [
       "<IPython.core.display.HTML object>"
      ]
     },
     "metadata": {},
     "output_type": "display_data"
    },
    {
     "data": {
      "text/html": [
       "<div>\n",
       "<style scoped>\n",
       "    .dataframe tbody tr th:only-of-type {\n",
       "        vertical-align: middle;\n",
       "    }\n",
       "\n",
       "    .dataframe tbody tr th {\n",
       "        vertical-align: top;\n",
       "    }\n",
       "\n",
       "    .dataframe thead th {\n",
       "        text-align: right;\n",
       "    }\n",
       "</style>\n",
       "<table border=\"1\" class=\"dataframe\">\n",
       "  <thead>\n",
       "    <tr style=\"text-align: right;\">\n",
       "      <th></th>\n",
       "      <th>eval_loss</th>\n",
       "      <th>eval_Accuracy</th>\n",
       "      <th>eval_F1</th>\n",
       "      <th>eval_Precision</th>\n",
       "      <th>eval_Recall</th>\n",
       "    </tr>\n",
       "  </thead>\n",
       "  <tbody>\n",
       "    <tr>\n",
       "      <th>train</th>\n",
       "      <td>0.402268</td>\n",
       "      <td>0.882727</td>\n",
       "      <td>0.876417</td>\n",
       "      <td>0.879077</td>\n",
       "      <td>0.882727</td>\n",
       "    </tr>\n",
       "    <tr>\n",
       "      <th>val</th>\n",
       "      <td>0.996855</td>\n",
       "      <td>0.677273</td>\n",
       "      <td>0.673269</td>\n",
       "      <td>0.686821</td>\n",
       "      <td>0.677273</td>\n",
       "    </tr>\n",
       "    <tr>\n",
       "      <th>test</th>\n",
       "      <td>0.925995</td>\n",
       "      <td>0.710227</td>\n",
       "      <td>0.698120</td>\n",
       "      <td>0.704810</td>\n",
       "      <td>0.710227</td>\n",
       "    </tr>\n",
       "  </tbody>\n",
       "</table>\n",
       "</div>"
      ],
      "text/plain": [
       "       eval_loss  eval_Accuracy   eval_F1  eval_Precision  eval_Recall\n",
       "train   0.402268       0.882727  0.876417        0.879077     0.882727\n",
       "val     0.996855       0.677273  0.673269        0.686821     0.677273\n",
       "test    0.925995       0.710227  0.698120        0.704810     0.710227"
      ]
     },
     "execution_count": 10,
     "metadata": {},
     "output_type": "execute_result"
    }
   ],
   "source": [
    "result = [trainer_tbt.evaluate(eval_dataset=data) for data in [train_dataset, val_dataset, test_dataset]]\n",
    "pd.DataFrame(result, index=[\"train\", \"val\", \"test\"]).iloc[:,:5]"
   ]
  },
  {
   "cell_type": "code",
   "execution_count": 11,
   "id": "05eb1ede-cf3d-4b87-bc87-ba1eb5dadcc9",
   "metadata": {
    "execution": {
     "iopub.execute_input": "2024-01-28T06:11:21.709044Z",
     "iopub.status.busy": "2024-01-28T06:11:21.708047Z",
     "iopub.status.idle": "2024-01-28T06:11:21.847315Z",
     "shell.execute_reply": "2024-01-28T06:11:21.846317Z",
     "shell.execute_reply.started": "2024-01-28T06:11:21.709044Z"
    }
   },
   "outputs": [
    {
     "data": {
      "text/plain": [
       "tensor([[1.8906e-03, 1.2073e-03, 9.7862e-01, 1.4149e-03, 9.5739e-04, 3.2960e-03,\n",
       "         3.6344e-03, 7.7759e-04, 1.3788e-03, 7.4198e-04, 6.0835e-03]],\n",
       "       device='cuda:0', grad_fn=<SoftmaxBackward0>)"
      ]
     },
     "execution_count": 11,
     "metadata": {},
     "output_type": "execute_result"
    }
   ],
   "source": [
    "text = \"Fenerbahçeli futbolcular kısa paslarla hazırlık çalışması yaptılar\"\n",
    "predict(model_tbt, tokenizer_tbt, text)[0]"
   ]
  },
  {
   "cell_type": "markdown",
   "id": "0c8f42c4-d667-43d2-80dc-afc4509cbb12",
   "metadata": {},
   "source": [
    "#### Save Model"
   ]
  },
  {
   "cell_type": "code",
   "execution_count": 12,
   "id": "b25dc0b9-f0b2-4d15-a34c-c2b660b1756f",
   "metadata": {
    "execution": {
     "iopub.execute_input": "2024-01-28T06:11:21.848310Z",
     "iopub.status.busy": "2024-01-28T06:11:21.848310Z",
     "iopub.status.idle": "2024-01-28T06:11:22.948404Z",
     "shell.execute_reply": "2024-01-28T06:11:22.948404Z",
     "shell.execute_reply.started": "2024-01-28T06:11:21.848310Z"
    }
   },
   "outputs": [
    {
     "data": {
      "text/plain": [
       "('turkishbertweet_text_classification_fine_tuned_tr_news\\\\tokenizer_config.json',\n",
       " 'turkishbertweet_text_classification_fine_tuned_tr_news\\\\special_tokens_map.json',\n",
       " 'turkishbertweet_text_classification_fine_tuned_tr_news\\\\vocab.json',\n",
       " 'turkishbertweet_text_classification_fine_tuned_tr_news\\\\merges.txt',\n",
       " 'turkishbertweet_text_classification_fine_tuned_tr_news\\\\added_tokens.json',\n",
       " 'turkishbertweet_text_classification_fine_tuned_tr_news\\\\tokenizer.json')"
      ]
     },
     "execution_count": 12,
     "metadata": {},
     "output_type": "execute_result"
    }
   ],
   "source": [
    "model_path = \"turkishbertweet_text_classification_fine_tuned_tr_news\"\n",
    "\n",
    "trainer_tbt.save_model(model_path)\n",
    "tokenizer_tbt.save_pretrained(model_path)"
   ]
  }
 ],
 "metadata": {
  "kernelspec": {
   "display_name": "master",
   "language": "python",
   "name": "master"
  },
  "language_info": {
   "codemirror_mode": {
    "name": "ipython",
    "version": 3
   },
   "file_extension": ".py",
   "mimetype": "text/x-python",
   "name": "python",
   "nbconvert_exporter": "python",
   "pygments_lexer": "ipython3",
   "version": "3.10.13"
  }
 },
 "nbformat": 4,
 "nbformat_minor": 5
}
